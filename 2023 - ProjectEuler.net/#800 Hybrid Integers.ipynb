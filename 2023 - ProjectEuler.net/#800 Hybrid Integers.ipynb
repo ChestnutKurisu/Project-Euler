{
 "cells": [
  {
   "cell_type": "code",
   "execution_count": 75,
   "outputs": [],
   "source": [
    "from math import log\n",
    "import scipy"
   ],
   "metadata": {
    "collapsed": false,
    "ExecuteTime": {
     "end_time": "2023-09-25T20:43:38.428268700Z",
     "start_time": "2023-09-25T20:43:38.424743300Z"
    }
   },
   "id": "aafdd5d064d2b264"
  },
  {
   "cell_type": "markdown",
   "source": [
    "### Get all required primes $p$, with $2 \\leq p < 2 \\times 10^7$"
   ],
   "metadata": {
    "collapsed": false
   },
   "id": "67e727b1ca13b5a"
  },
  {
   "cell_type": "code",
   "execution_count": 76,
   "outputs": [
    {
     "data": {
      "text/plain": "1270607"
     },
     "execution_count": 76,
     "metadata": {},
     "output_type": "execute_result"
    }
   ],
   "source": [
    "def rwh_primes2(n):\n",
    "    # https://stackoverflow.com/questions/2068372/fastest-way-to-list-all-primes-below-n-in-python/3035188#3035188\n",
    "    \"\"\" Input n>=6, Returns a list of primes, 2 <= p < n \"\"\"\n",
    "    n, correction = n - n % 6 + 6, 2 - (n % 6 > 1)\n",
    "    sieve = bytearray([True]) * (n // 3)\n",
    "    for i in range(1, int(n ** 0.5) // 3 + 1):\n",
    "        if sieve[i]:\n",
    "            k = 3 * i + 1 | 1\n",
    "            sieve[k * k // 3::2 * k] = bytearray([False]) * ((n // 6 - k * k // 6 - 1) // k + 1)\n",
    "            sieve[k * (k - 2 * (i & 1) + 4) // 3::2 * k] = bytearray([False]) * (\n",
    "                    (n // 6 - k * (k - 2 * (i & 1) + 4) // 6 - 1) // k + 1)\n",
    "    return [2, 3] + [3 * i + 1 | 1 for i in range(1, n // 3 - correction) if sieve[i]]\n",
    "\n",
    "list_of_primes = rwh_primes2(2 * 10 ** 7)\n",
    "len(list_of_primes)"
   ],
   "metadata": {
    "collapsed": false,
    "ExecuteTime": {
     "end_time": "2023-09-25T20:43:39.330449100Z",
     "start_time": "2023-09-25T20:43:39.074795Z"
    }
   },
   "id": "41c5ae7c52199cbf"
  },
  {
   "cell_type": "markdown",
   "source": [
    "#### Note that with prime $p$ fixed and upper bound $K = 800800^{800800}$, we have $p^q q^p\\leq K\\implies p\\log{q} + q\\log{p} - \\log{K}\\leq0$. \n",
    "#### Thus, we can place an upper bound on the possible prime numbers $q$ satisfying this inequality by finding the roots of $f_p(q) := p\\log{q} + q\\log{p} - \\log{K}$."
   ],
   "metadata": {
    "collapsed": false
   },
   "id": "2c20aff9f6ac2b25"
  },
  {
   "cell_type": "code",
   "execution_count": 78,
   "outputs": [
    {
     "data": {
      "text/plain": "1412403576"
     },
     "execution_count": 78,
     "metadata": {},
     "output_type": "execute_result"
    }
   ],
   "source": [
    "def f(q, p, K):\n",
    "    q = q[0]\n",
    "    return p * log(q) + q * log(p) - log(K)\n",
    "\n",
    "def C(n):\n",
    "    hybrid_integer_count, previous_max_prime_count = 0, len(list_of_primes) - 1\n",
    "    for i in range(len(list_of_primes)):\n",
    "        p = list_of_primes[i]\n",
    "        if p * log(2) + 2 * log(p) - log(n) > 0:  # Since n >= p^q * q^p >= p^2 + 2^p as q >= 2\n",
    "            break\n",
    "        upper_bound_p = round(scipy.optimize.root(f, [2], args=(p, n)).x[0], 5)\n",
    "        for j in range(previous_max_prime_count, i, -1):\n",
    "            if list_of_primes[j] <= upper_bound_p:\n",
    "                hybrid_integer_count += j - i\n",
    "                previous_max_prime_count = j\n",
    "                break\n",
    "    \n",
    "    return hybrid_integer_count\n",
    "     \n",
    "C(800800 ** 800800)"
   ],
   "metadata": {
    "collapsed": false,
    "ExecuteTime": {
     "end_time": "2023-09-25T20:44:22.963223900Z",
     "start_time": "2023-09-25T20:43:59.748057600Z"
    }
   },
   "id": "fb3d7768210325d0"
  }
 ],
 "metadata": {
  "kernelspec": {
   "display_name": "Python 3",
   "language": "python",
   "name": "python3"
  },
  "language_info": {
   "codemirror_mode": {
    "name": "ipython",
    "version": 2
   },
   "file_extension": ".py",
   "mimetype": "text/x-python",
   "name": "python",
   "nbconvert_exporter": "python",
   "pygments_lexer": "ipython2",
   "version": "2.7.6"
  }
 },
 "nbformat": 4,
 "nbformat_minor": 5
}
