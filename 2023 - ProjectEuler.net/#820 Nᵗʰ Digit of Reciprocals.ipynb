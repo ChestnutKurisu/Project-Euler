{
 "cells": [
  {
   "cell_type": "code",
   "execution_count": 1,
   "outputs": [],
   "source": [
    "import math"
   ],
   "metadata": {
    "collapsed": false,
    "ExecuteTime": {
     "end_time": "2023-10-02T03:33:03.870965200Z",
     "start_time": "2023-10-02T03:33:03.867812400Z"
    }
   },
   "id": "882acdc017e90da1"
  },
  {
   "cell_type": "markdown",
   "source": [
    "### Using Jason S's reply from this [StackOverflow post](https://stackoverflow.com/questions/804934/getting-a-specific-digit-from-a-ratio-expansion-in-any-base-nth-digit-of-x-y): _the $n^{\\text{th}}$ digit of the decimal expansion of $\\frac{x}{y}$ is the $1^{\\text{st}}$ digit of $\\frac{10^{n-1}x\\,(\\text{mod }y)}{y} = \\left\\lfloor\\frac{10\\cdot\\left(10^{n-1}x\\,(\\text{mod }y)\\right)}{y}\\right\\rfloor\\,(\\text{mod }10)$_"
   ],
   "metadata": {
    "collapsed": false
   },
   "id": "8367bccf94ecd522"
  },
  {
   "cell_type": "code",
   "execution_count": 2,
   "id": "initial_id",
   "metadata": {
    "collapsed": true,
    "ExecuteTime": {
     "end_time": "2023-10-02T03:33:04.610144800Z",
     "start_time": "2023-10-02T03:33:04.607532900Z"
    }
   },
   "outputs": [],
   "source": [
    "def d(n, x):\n",
    "    return int(math.floor(10 * pow(10, n - 1, x) / x)) % 10\n",
    "\n",
    "def S(n):\n",
    "    sum_d = 0\n",
    "    for k in range(2, n + 1):\n",
    "        sum_d += d(n, k)\n",
    "        \n",
    "    return sum_d"
   ]
  },
  {
   "cell_type": "code",
   "execution_count": 3,
   "outputs": [
    {
     "data": {
      "text/plain": "44967734"
     },
     "execution_count": 3,
     "metadata": {},
     "output_type": "execute_result"
    }
   ],
   "source": [
    "S(10 ** 7)"
   ],
   "metadata": {
    "collapsed": false,
    "ExecuteTime": {
     "end_time": "2023-10-02T03:33:13.396008900Z",
     "start_time": "2023-10-02T03:33:05.665636600Z"
    }
   },
   "id": "f7a3ce03142ff1ca"
  }
 ],
 "metadata": {
  "kernelspec": {
   "display_name": "Python 3",
   "language": "python",
   "name": "python3"
  },
  "language_info": {
   "codemirror_mode": {
    "name": "ipython",
    "version": 2
   },
   "file_extension": ".py",
   "mimetype": "text/x-python",
   "name": "python",
   "nbconvert_exporter": "python",
   "pygments_lexer": "ipython2",
   "version": "2.7.6"
  }
 },
 "nbformat": 4,
 "nbformat_minor": 5
}
