{
 "cells": [
  {
   "cell_type": "code",
   "execution_count": 56,
   "outputs": [],
   "source": [
    "import math\n",
    "import pandas as pd"
   ],
   "metadata": {
    "collapsed": false,
    "ExecuteTime": {
     "end_time": "2023-10-06T10:13:26.173079100Z",
     "start_time": "2023-10-06T10:13:26.171066900Z"
    }
   },
   "id": "a843721275feb883"
  },
  {
   "cell_type": "code",
   "execution_count": 58,
   "id": "initial_id",
   "metadata": {
    "collapsed": true,
    "ExecuteTime": {
     "end_time": "2023-10-06T10:18:40.928864Z",
     "start_time": "2023-10-06T10:18:40.617202300Z"
    }
   },
   "outputs": [
    {
     "data": {
      "text/plain": "1922650"
     },
     "execution_count": 58,
     "metadata": {},
     "output_type": "execute_result"
    }
   ],
   "source": [
    "# Using General Representation (ii) of Pythagorean triples from http://f2.org/maths/ppt.html\n",
    "N = 10 ** 6\n",
    "pythagorean_triples = []\n",
    "for m in range(1, int((N // 2) ** 0.5)):\n",
    "    for n in range(1, m):\n",
    "        if math.gcd(m, n) != 1 or (m + n) % 2 == 0:\n",
    "            continue\n",
    "        triple = sorted((m * m - n * n, 2 * m * n, m * m + n * n))\n",
    "        pythagorean_triples.extend([(k * triple[0], k * triple[1], k * triple[2]) for k in range(1, N // (m * m + n * n) + 1)])\n",
    "len(pythagorean_triples)"
   ]
  },
  {
   "cell_type": "markdown",
   "source": [
    "#### $x^2 = y^2 + a^2b^2$ if $(x + y) = a^2$ and $(x - y) = b^2$\n",
    "#### $x^2 = z^2 + c^2d^2$ if $(x + z) = c^2$ and $(x - z) = d^2$\n",
    "#### $y^2 = z^2 + e^2f^2$ if $(y + z) = e^2$ and $(y - z) = f^2$\n",
    "#### Thus, we seek $x > y > z > 0$ such that $x$ and $y$ are both the largest terms of some pair of Pythagorean triples and $y$ also appears in the Pythagorean triple with $x$ as the largest term."
   ],
   "metadata": {
    "collapsed": false
   },
   "id": "395917ada02a92e6"
  },
  {
   "cell_type": "code",
   "execution_count": 66,
   "outputs": [
    {
     "data": {
      "text/plain": "1006193"
     },
     "execution_count": 66,
     "metadata": {},
     "output_type": "execute_result"
    }
   ],
   "source": [
    "is_perfect_square = lambda n: int(n ** 0.5) ** 2 == n\n",
    "perfect_square_check = lambda x, y, z: all(is_perfect_square(n) for n in [x + y, x - y, x + z, x - z, y + z, y - z])\n",
    "\n",
    "pythagorean_triples_df = pd.DataFrame(pythagorean_triples, columns=['z_1', 'y_1', 'x_1'])\n",
    "pythagorean_triples_df = pd.concat([\n",
    "    pd.merge(pythagorean_triples_df, pythagorean_triples_df.rename(columns={'z_1': 'z_2', 'y_1': 'y_2', 'x_1': 'x_2'}), left_on='y_1', right_on='x_2', how='inner'),\n",
    "    pd.merge(pythagorean_triples_df, pythagorean_triples_df.rename(columns={'z_1': 'z_2', 'y_1': 'y_2', 'x_1': 'x_2'}), left_on='z_1', right_on='x_2', how='inner')\n",
    "    ])\n",
    "min(pythagorean_triples_df.loc[pythagorean_triples_df.apply(lambda r: perfect_square_check(r.x_1, r.x_2, r.y_2), axis=1), ['x_1', 'x_2', 'y_2']].sum(axis=1).min(),\n",
    "    pythagorean_triples_df.loc[pythagorean_triples_df.apply(lambda r: perfect_square_check(r.x_1, r.x_2, r.z_2), axis=1), ['x_1', 'x_2', 'z_2']].sum(axis=1).min())"
   ],
   "metadata": {
    "collapsed": false,
    "ExecuteTime": {
     "end_time": "2023-10-06T10:40:16.877079800Z",
     "start_time": "2023-10-06T10:35:53.843451400Z"
    }
   },
   "id": "7f669e543290a858"
  }
 ],
 "metadata": {
  "kernelspec": {
   "display_name": "Python 3",
   "language": "python",
   "name": "python3"
  },
  "language_info": {
   "codemirror_mode": {
    "name": "ipython",
    "version": 2
   },
   "file_extension": ".py",
   "mimetype": "text/x-python",
   "name": "python",
   "nbconvert_exporter": "python",
   "pygments_lexer": "ipython2",
   "version": "2.7.6"
  }
 },
 "nbformat": 4,
 "nbformat_minor": 5
}
