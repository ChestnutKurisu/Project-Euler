{
 "cells": [
  {
   "cell_type": "code",
   "execution_count": 24,
   "outputs": [],
   "source": [
    "import itertools\n",
    "import pandas as pd"
   ],
   "metadata": {
    "collapsed": false,
    "ExecuteTime": {
     "end_time": "2023-10-04T02:58:29.133916Z",
     "start_time": "2023-10-04T02:58:29.127178600Z"
    }
   },
   "id": "72033f9ff8bc9be9"
  },
  {
   "cell_type": "markdown",
   "source": [
    "### Get all required primes $p$, with $2 \\leq p < 10^7$"
   ],
   "metadata": {
    "collapsed": false
   },
   "id": "377acf3417e91fb4"
  },
  {
   "cell_type": "code",
   "execution_count": 4,
   "outputs": [
    {
     "data": {
      "text/plain": "664579"
     },
     "execution_count": 4,
     "metadata": {},
     "output_type": "execute_result"
    }
   ],
   "source": [
    "def rwh_primes2(n):\n",
    "    # https://stackoverflow.com/questions/2068372/fastest-way-to-list-all-primes-below-n-in-python/3035188#3035188\n",
    "    \"\"\" Input n>=6, Returns a list of primes, 2 <= p < n \"\"\"\n",
    "    n, correction = n - n % 6 + 6, 2 - (n % 6 > 1)\n",
    "    sieve = bytearray([True]) * (n // 3)\n",
    "    for i in range(1, int(n ** 0.5) // 3 + 1):\n",
    "        if sieve[i]:\n",
    "            k = 3 * i + 1 | 1\n",
    "            sieve[k * k // 3::2 * k] = bytearray([False]) * ((n // 6 - k * k // 6 - 1) // k + 1)\n",
    "            sieve[k * (k - 2 * (i & 1) + 4) // 3::2 * k] = bytearray([False]) * (\n",
    "                    (n // 6 - k * (k - 2 * (i & 1) + 4) // 6 - 1) // k + 1)\n",
    "    return [2, 3] + [3 * i + 1 | 1 for i in range(1, n // 3 - correction) if sieve[i]]\n",
    "\n",
    "list_of_primes = rwh_primes2(10 ** 7)\n",
    "len(list_of_primes)"
   ],
   "metadata": {
    "collapsed": false,
    "ExecuteTime": {
     "end_time": "2023-10-04T02:39:50.539962800Z",
     "start_time": "2023-10-04T02:39:49.805978100Z"
    }
   },
   "id": "281dd2a97655f902"
  },
  {
   "cell_type": "markdown",
   "source": [
    "### Maintain a table to track digit positions for each prime number as well as its length in digits"
   ],
   "metadata": {
    "collapsed": false
   },
   "id": "61dcd253b1ca0183"
  },
  {
   "cell_type": "code",
   "execution_count": 23,
   "outputs": [
    {
     "data": {
      "text/plain": "              p  length 9  8   7  6  5  4  3  2  1\n0             2       1                          2\n1             3       1                          3\n2             5       1                          5\n3             7       1                          7\n4            11       2                       1  1\n...         ...     ... .. .. .. .. .. .. .. .. ..\n664574  9999937       7        9  9  9  9  9  3  7\n664575  9999943       7        9  9  9  9  9  4  3\n664576  9999971       7        9  9  9  9  9  7  1\n664577  9999973       7        9  9  9  9  9  7  3\n664578  9999991       7        9  9  9  9  9  9  1\n\n[664579 rows x 11 columns]",
      "text/html": "<div>\n<style scoped>\n    .dataframe tbody tr th:only-of-type {\n        vertical-align: middle;\n    }\n\n    .dataframe tbody tr th {\n        vertical-align: top;\n    }\n\n    .dataframe thead th {\n        text-align: right;\n    }\n</style>\n<table border=\"1\" class=\"dataframe\">\n  <thead>\n    <tr style=\"text-align: right;\">\n      <th></th>\n      <th>p</th>\n      <th>length</th>\n      <th>9</th>\n      <th>8</th>\n      <th>7</th>\n      <th>6</th>\n      <th>5</th>\n      <th>4</th>\n      <th>3</th>\n      <th>2</th>\n      <th>1</th>\n    </tr>\n  </thead>\n  <tbody>\n    <tr>\n      <th>0</th>\n      <td>2</td>\n      <td>1</td>\n      <td></td>\n      <td></td>\n      <td></td>\n      <td></td>\n      <td></td>\n      <td></td>\n      <td></td>\n      <td></td>\n      <td>2</td>\n    </tr>\n    <tr>\n      <th>1</th>\n      <td>3</td>\n      <td>1</td>\n      <td></td>\n      <td></td>\n      <td></td>\n      <td></td>\n      <td></td>\n      <td></td>\n      <td></td>\n      <td></td>\n      <td>3</td>\n    </tr>\n    <tr>\n      <th>2</th>\n      <td>5</td>\n      <td>1</td>\n      <td></td>\n      <td></td>\n      <td></td>\n      <td></td>\n      <td></td>\n      <td></td>\n      <td></td>\n      <td></td>\n      <td>5</td>\n    </tr>\n    <tr>\n      <th>3</th>\n      <td>7</td>\n      <td>1</td>\n      <td></td>\n      <td></td>\n      <td></td>\n      <td></td>\n      <td></td>\n      <td></td>\n      <td></td>\n      <td></td>\n      <td>7</td>\n    </tr>\n    <tr>\n      <th>4</th>\n      <td>11</td>\n      <td>2</td>\n      <td></td>\n      <td></td>\n      <td></td>\n      <td></td>\n      <td></td>\n      <td></td>\n      <td></td>\n      <td>1</td>\n      <td>1</td>\n    </tr>\n    <tr>\n      <th>...</th>\n      <td>...</td>\n      <td>...</td>\n      <td>...</td>\n      <td>...</td>\n      <td>...</td>\n      <td>...</td>\n      <td>...</td>\n      <td>...</td>\n      <td>...</td>\n      <td>...</td>\n      <td>...</td>\n    </tr>\n    <tr>\n      <th>664574</th>\n      <td>9999937</td>\n      <td>7</td>\n      <td></td>\n      <td></td>\n      <td>9</td>\n      <td>9</td>\n      <td>9</td>\n      <td>9</td>\n      <td>9</td>\n      <td>3</td>\n      <td>7</td>\n    </tr>\n    <tr>\n      <th>664575</th>\n      <td>9999943</td>\n      <td>7</td>\n      <td></td>\n      <td></td>\n      <td>9</td>\n      <td>9</td>\n      <td>9</td>\n      <td>9</td>\n      <td>9</td>\n      <td>4</td>\n      <td>3</td>\n    </tr>\n    <tr>\n      <th>664576</th>\n      <td>9999971</td>\n      <td>7</td>\n      <td></td>\n      <td></td>\n      <td>9</td>\n      <td>9</td>\n      <td>9</td>\n      <td>9</td>\n      <td>9</td>\n      <td>7</td>\n      <td>1</td>\n    </tr>\n    <tr>\n      <th>664577</th>\n      <td>9999973</td>\n      <td>7</td>\n      <td></td>\n      <td></td>\n      <td>9</td>\n      <td>9</td>\n      <td>9</td>\n      <td>9</td>\n      <td>9</td>\n      <td>7</td>\n      <td>3</td>\n    </tr>\n    <tr>\n      <th>664578</th>\n      <td>9999991</td>\n      <td>7</td>\n      <td></td>\n      <td></td>\n      <td>9</td>\n      <td>9</td>\n      <td>9</td>\n      <td>9</td>\n      <td>9</td>\n      <td>9</td>\n      <td>1</td>\n    </tr>\n  </tbody>\n</table>\n<p>664579 rows × 11 columns</p>\n</div>"
     },
     "execution_count": 23,
     "metadata": {},
     "output_type": "execute_result"
    }
   ],
   "source": [
    "prime_digit_positions_df = pd.DataFrame(list_of_primes, columns=['p']).astype('string')\n",
    "prime_digit_positions_df['length'] = prime_digit_positions_df.p.str.len()\n",
    "for pos in range(1, 10):\n",
    "    prime_digit_positions_df.loc[prime_digit_positions_df.length >= 10 - pos, 10 - pos] = prime_digit_positions_df[prime_digit_positions_df.length >= 10 - pos].p.apply(lambda p_s: p_s[len(p_s) - 10 + pos])\n",
    "    \n",
    "prime_digit_positions_df.fillna('', inplace=True)\n",
    "prime_digit_positions_df"
   ],
   "metadata": {
    "collapsed": false,
    "ExecuteTime": {
     "end_time": "2023-10-04T02:54:30.004150800Z",
     "start_time": "2023-10-04T02:54:28.638722100Z"
    }
   },
   "id": "f26082221a11c7a3"
  },
  {
   "cell_type": "markdown",
   "source": [
    "### Iterate through the table, broken down by length $l$ of the primes, and for each length, iterate through the combinations of masking at most $l-1$ digits. In each sub-iteration, ensure that the non-masked digits are the same in the exact same positions via a group-by operation and that the masked digit positions all contain the exact same digit for every prime in a group. "
   ],
   "metadata": {
    "collapsed": false
   },
   "id": "a5babc533d0f3293"
  },
  {
   "cell_type": "code",
   "execution_count": 55,
   "outputs": [
    {
     "name": "stdout",
     "output_type": "stream",
     "text": [
      "Length: 6 k: 3\n",
      "Max prime digit replacement combinations: ['121313', '222323', '323333', '424343', '525353', '626363', '828383', '929393']\n"
     ]
    }
   ],
   "source": [
    "is_found = False\n",
    "for length in range(2, 10):\n",
    "    length_primes_df = prime_digit_positions_df[prime_digit_positions_df.length == length]\n",
    "    for k in range(1, length):\n",
    "        for hide_comb in itertools.combinations(range(1, length + 1), k):\n",
    "            same_digit_condition = length_primes_df.p.apply(lambda _: True)\n",
    "            if k > 1:\n",
    "                for i in range(k - 1):\n",
    "                    same_digit_condition = same_digit_condition & (length_primes_df[hide_comb[i]] == length_primes_df[hide_comb[i + 1]])\n",
    "            comb_groups = length_primes_df[same_digit_condition].groupby([col for col in range(1, length + 1) if col not in hide_comb]).apply(lambda x_df: (x_df.p.to_list(), len(x_df)))\n",
    "            max_comb_group = max(comb_groups, key=lambda t: t[1]) \n",
    "            if max_comb_group[1] == 8:\n",
    "                is_found = True\n",
    "                print('Length:', length, 'k:', k)\n",
    "                print('Max prime digit replacement combinations:', max_comb_group[0])\n",
    "                break\n",
    "        if is_found:\n",
    "            break\n",
    "    if is_found:\n",
    "        break"
   ],
   "metadata": {
    "collapsed": false,
    "ExecuteTime": {
     "end_time": "2023-10-04T03:35:28.903399900Z",
     "start_time": "2023-10-04T03:35:13.556037700Z"
    }
   },
   "id": "c149f4a7a11b12c1"
  }
 ],
 "metadata": {
  "kernelspec": {
   "display_name": "Python 3",
   "language": "python",
   "name": "python3"
  },
  "language_info": {
   "codemirror_mode": {
    "name": "ipython",
    "version": 2
   },
   "file_extension": ".py",
   "mimetype": "text/x-python",
   "name": "python",
   "nbconvert_exporter": "python",
   "pygments_lexer": "ipython2",
   "version": "2.7.6"
  }
 },
 "nbformat": 4,
 "nbformat_minor": 5
}
