{
 "cells": [
  {
   "cell_type": "code",
   "execution_count": 1,
   "outputs": [],
   "source": [
    "import itertools"
   ],
   "metadata": {
    "collapsed": false,
    "ExecuteTime": {
     "end_time": "2023-10-04T21:58:06.533801100Z",
     "start_time": "2023-10-04T21:58:06.521776300Z"
    }
   },
   "id": "4931a31b305d43d"
  },
  {
   "cell_type": "code",
   "execution_count": 2,
   "outputs": [],
   "source": [
    "# permutations with replacement from https://stackoverflow.com/questions/6284396/permutations-with-unique-values\n",
    "def permutations_helper(elements, result_list, d):\n",
    "    if d < 0:\n",
    "        yield tuple(result_list)\n",
    "    else:\n",
    "        for i in elements:\n",
    "            result_list[d] = i\n",
    "            all_permutations = permutations_helper(elements, result_list, d - 1)\n",
    "            for g in all_permutations:\n",
    "                yield g\n",
    "                \n",
    "def permutations_with_replacement(elements, n):\n",
    "    return permutations_helper(elements, [0] * n, n - 1)"
   ],
   "metadata": {
    "collapsed": false,
    "ExecuteTime": {
     "end_time": "2023-10-04T21:58:06.539327600Z",
     "start_time": "2023-10-04T21:58:06.524359100Z"
    }
   },
   "id": "a0c8636a9e193c68"
  },
  {
   "cell_type": "code",
   "execution_count": 33,
   "outputs": [
    {
     "name": "stdout",
     "output_type": "stream",
     "text": [
      "1234 28\n",
      "1238 35\n",
      "1247 37\n",
      "1249 40\n",
      "1256 43\n",
      "1258 51\n"
     ]
    }
   ],
   "source": [
    "def generate_targets_from_comb(comb: str):\n",
    "    global n\n",
    "    integer_targets = []    \n",
    "    for eval_order in itertools.permutations([1, 2, 3]):\n",
    "        try:\n",
    "            comb_copy = comb[:]\n",
    "            exec('n = ' + comb_copy[2 * (eval_order[0] - 1): 2 * (eval_order[0] - 1) + 3], globals())\n",
    "            comb_copy = comb_copy[:2 * (eval_order[0] - 1)] + str(n) + comb_copy[2 * (eval_order[0] - 1) + 3:]\n",
    "            comb_copy = comb_copy.replace('+-', '-').replace('--', '+')\n",
    "            if eval_order[1] > eval_order[2]:\n",
    "                break_index_left = 1 if eval_order[0] != 1 else len(str(n))\n",
    "                exec('n = ' + comb_copy[:break_index_left + 1] + '(' + comb_copy[break_index_left + 1:] + ')', globals())\n",
    "            else:\n",
    "                break_index_right = 3 if eval_order[0] == 3 else 3 + len(str(n)) - 1\n",
    "                query = 'n = ' + '(' + comb_copy[:break_index_right] + ')' + comb_copy[break_index_right:]\n",
    "                for op in ['+', '-', '*', '/']:\n",
    "                    query = query.replace(f'{op})', f'){op}')\n",
    "                exec(query, globals())\n",
    "            if n > 0 and n == int(n):\n",
    "                integer_targets.append(int(n))\n",
    "        except ZeroDivisionError:\n",
    "            continue\n",
    "    return set(integer_targets)\n",
    "    \n",
    "def longest_consecutive_count(l):\n",
    "    n = 1\n",
    "    l = sorted(l)\n",
    "    while True:\n",
    "        if l[n - 1] == n:\n",
    "            n += 1\n",
    "        else:\n",
    "            break\n",
    "    return n - 1\n",
    "        \n",
    "            \n",
    "n = None\n",
    "max_consecutive_count = 0\n",
    "arithmetic_operation_combinations = [f\"%d{'%d'.join(p)}%d\" for p in permutations_with_replacement(['+', '-', '*', '/'], 3)]\n",
    "for a in range(1, 10):\n",
    "    for b in range(a + 1, 10):\n",
    "        for c in range(b + 1, 10):\n",
    "            for d in range(c + 1, 10):\n",
    "                positive_integer_targets = []\n",
    "                for digit_perm in itertools.permutations([a, b, c, d]):\n",
    "                    for operator_comb in arithmetic_operation_combinations:\n",
    "                        filled_comb = operator_comb % digit_perm\n",
    "                        positive_integer_targets.extend(generate_targets_from_comb(filled_comb))\n",
    "                consecutive_count = longest_consecutive_count(set(positive_integer_targets))\n",
    "                if consecutive_count > max_consecutive_count:\n",
    "                    print(''.join([str(a), str(b), str(c), str(d)]), consecutive_count)\n",
    "                    max_consecutive_count = consecutive_count"
   ],
   "metadata": {
    "collapsed": false,
    "ExecuteTime": {
     "end_time": "2023-10-04T22:55:36.188615Z",
     "start_time": "2023-10-04T22:55:21.817418600Z"
    }
   },
   "id": "d1f83688a30098cc"
  }
 ],
 "metadata": {
  "kernelspec": {
   "display_name": "Python 3",
   "language": "python",
   "name": "python3"
  },
  "language_info": {
   "codemirror_mode": {
    "name": "ipython",
    "version": 2
   },
   "file_extension": ".py",
   "mimetype": "text/x-python",
   "name": "python",
   "nbconvert_exporter": "python",
   "pygments_lexer": "ipython2",
   "version": "2.7.6"
  }
 },
 "nbformat": 4,
 "nbformat_minor": 5
}
