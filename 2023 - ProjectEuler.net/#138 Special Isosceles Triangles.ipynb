{
 "cells": [
  {
   "cell_type": "code",
   "execution_count": 24,
   "outputs": [],
   "source": [
    "from decimal import *"
   ],
   "metadata": {
    "collapsed": false,
    "ExecuteTime": {
     "end_time": "2023-10-09T03:01:18.904897200Z",
     "start_time": "2023-10-09T03:01:18.894563200Z"
    }
   },
   "id": "73c7e337f99171e9"
  },
  {
   "cell_type": "markdown",
   "source": [
    "### Compute the first few $L\\leq10^7$ to explore the sequence more"
   ],
   "metadata": {
    "collapsed": false
   },
   "id": "c4266cda5b88cea4"
  },
  {
   "cell_type": "code",
   "execution_count": 25,
   "id": "initial_id",
   "metadata": {
    "collapsed": true,
    "ExecuteTime": {
     "end_time": "2023-10-09T03:01:25.462270700Z",
     "start_time": "2023-10-09T03:01:19.282516700Z"
    }
   },
   "outputs": [
    {
     "data": {
      "text/plain": "[17, 305, 5473, 98209, 1762289]"
     },
     "execution_count": 25,
     "metadata": {},
     "output_type": "execute_result"
    }
   ],
   "source": [
    "isosceles_L = []\n",
    "for k in range(1, 10 ** 7):\n",
    "    b = 2 * k\n",
    "    for h in (b - 1, b + 1):\n",
    "        L = (k ** 2 + h ** 2) ** 0.5\n",
    "        if L == int(L):\n",
    "            isosceles_L.append(int(L))\n",
    "            \n",
    "isosceles_L"
   ]
  },
  {
   "cell_type": "markdown",
   "source": [
    "### Upon closer inspection, it turns out that the sequence we're looking for is [A007805](https://oeis.org/A007805)$(n)=\\text{Fibonacci}\\left(\\frac{(6n + 3)}{2}\\right)$"
   ],
   "metadata": {
    "collapsed": false
   },
   "id": "ecad650999d2a62a"
  },
  {
   "cell_type": "markdown",
   "source": [
    "### Definition of Fibonacci sequence numbers $\\{f_n\\}$ based on golden ratio computation"
   ],
   "metadata": {
    "collapsed": false
   },
   "id": "164840fead285d39"
  },
  {
   "cell_type": "code",
   "execution_count": 26,
   "outputs": [],
   "source": [
    "getcontext().prec = 100\n",
    "\n",
    "\n",
    "def f(n):\n",
    "    return int(round(Decimal(1) / Decimal(5).sqrt() * (((Decimal(1) + Decimal(5).sqrt()) / Decimal(2)) ** Decimal(n) - (\n",
    "            (Decimal(1) - Decimal(5).sqrt()) / Decimal(2)) ** Decimal(n))))"
   ],
   "metadata": {
    "collapsed": false,
    "ExecuteTime": {
     "end_time": "2023-10-09T03:01:25.462270700Z",
     "start_time": "2023-10-09T03:01:25.458747400Z"
    }
   },
   "id": "9790fad4bd23552e"
  },
  {
   "cell_type": "code",
   "execution_count": 27,
   "outputs": [],
   "source": [
    "def A007805(n):\n",
    "    return f(6 * n + 3) // 2"
   ],
   "metadata": {
    "collapsed": false,
    "ExecuteTime": {
     "end_time": "2023-10-09T03:01:25.480273100Z",
     "start_time": "2023-10-09T03:01:25.461268600Z"
    }
   },
   "id": "b54afd726a871b15"
  },
  {
   "cell_type": "code",
   "execution_count": 28,
   "outputs": [
    {
     "data": {
      "text/plain": "1118049290473932"
     },
     "execution_count": 28,
     "metadata": {},
     "output_type": "execute_result"
    }
   ],
   "source": [
    "L = [A007805(n) for n in range(1, 12 + 1)]\n",
    "sum(L)"
   ],
   "metadata": {
    "collapsed": false,
    "ExecuteTime": {
     "end_time": "2023-10-09T03:01:25.515778500Z",
     "start_time": "2023-10-09T03:01:25.473064700Z"
    }
   },
   "id": "46ea9ba191441250"
  }
 ],
 "metadata": {
  "kernelspec": {
   "display_name": "Python 3",
   "language": "python",
   "name": "python3"
  },
  "language_info": {
   "codemirror_mode": {
    "name": "ipython",
    "version": 2
   },
   "file_extension": ".py",
   "mimetype": "text/x-python",
   "name": "python",
   "nbconvert_exporter": "python",
   "pygments_lexer": "ipython2",
   "version": "2.7.6"
  }
 },
 "nbformat": 4,
 "nbformat_minor": 5
}
