{
 "cells": [
  {
   "cell_type": "code",
   "execution_count": 3,
   "outputs": [],
   "source": [
    "import math"
   ],
   "metadata": {
    "collapsed": false,
    "ExecuteTime": {
     "end_time": "2023-10-02T18:11:36.478493100Z",
     "start_time": "2023-10-02T18:11:36.468800Z"
    }
   },
   "id": "8343dadbbe09135a"
  },
  {
   "cell_type": "code",
   "execution_count": 34,
   "id": "initial_id",
   "metadata": {
    "collapsed": true,
    "ExecuteTime": {
     "end_time": "2023-10-02T18:25:00.984837600Z",
     "start_time": "2023-10-02T18:24:59.307545900Z"
    }
   },
   "outputs": [
    {
     "data": {
      "text/plain": "1587000"
     },
     "execution_count": 34,
     "metadata": {},
     "output_type": "execute_result"
    }
   ],
   "source": [
    "def is_bouncy(n):\n",
    "    digits = [int(d) for d in str(n)]\n",
    "    prev_difference, new_difference = digits[1] - digits[0], 0\n",
    "    for i in range(1, len(digits) - 1):\n",
    "        new_difference = digits[i + 1] - digits[i]\n",
    "        if new_difference != 0 and prev_difference != 0 and math.copysign(1, prev_difference) * math.copysign(1, new_difference) == -1:\n",
    "            return True\n",
    "        if new_difference != 0:\n",
    "            prev_difference = new_difference\n",
    "        \n",
    "    return False\n",
    "\n",
    "def bouncy_numbers(threshold):\n",
    "    if threshold == 0:\n",
    "        return 1\n",
    "    n, bouncy_count = 100, 0\n",
    "    while True:\n",
    "        if is_bouncy(n):\n",
    "            bouncy_count += 1\n",
    "        if bouncy_count / n == threshold:\n",
    "            return n\n",
    "        n += 1\n",
    "        \n",
    "bouncy_numbers(0.99)"
   ]
  }
 ],
 "metadata": {
  "kernelspec": {
   "display_name": "Python 3",
   "language": "python",
   "name": "python3"
  },
  "language_info": {
   "codemirror_mode": {
    "name": "ipython",
    "version": 2
   },
   "file_extension": ".py",
   "mimetype": "text/x-python",
   "name": "python",
   "nbconvert_exporter": "python",
   "pygments_lexer": "ipython2",
   "version": "2.7.6"
  }
 },
 "nbformat": 4,
 "nbformat_minor": 5
}
