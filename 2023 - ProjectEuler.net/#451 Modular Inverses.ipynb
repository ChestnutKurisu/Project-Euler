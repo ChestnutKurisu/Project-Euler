{
 "cells": [
  {
   "cell_type": "code",
   "execution_count": 23,
   "outputs": [],
   "source": [
    "import collections\n",
    "import functools\n",
    "import itertools\n",
    "import math\n",
    "import random\n",
    "import operator"
   ],
   "metadata": {
    "collapsed": false,
    "ExecuteTime": {
     "end_time": "2023-10-01T05:20:29.199524200Z",
     "start_time": "2023-10-01T05:20:29.189716700Z"
    }
   },
   "id": "8433ee3249753267"
  },
  {
   "cell_type": "markdown",
   "source": [
    "### Get a sieve of all numbers $n$ to indicate whether they are prime, with $0 \\leq n \\leq 2\\times10^7$"
   ],
   "metadata": {
    "collapsed": false
   },
   "id": "86ef9ad8bc47a29a"
  },
  {
   "cell_type": "code",
   "execution_count": 3,
   "outputs": [],
   "source": [
    "def get_primes_eratosthenes_sieve(n):\n",
    "    is_prime = [1] * (n + 1)\n",
    "    p = 2\n",
    "    is_prime[0] = 0\n",
    "    is_prime[1] = 0\n",
    "    while p * p <= n:\n",
    "        if is_prime[p]:\n",
    "            for i in range(p * 2, n + 1, p):\n",
    "                is_prime[i] = 0\n",
    "        p += 1\n",
    "    prime_list = []\n",
    "    for i in range(n + 1):\n",
    "        if is_prime[i]:\n",
    "            prime_list.append(i)\n",
    "    return is_prime\n",
    "\n",
    "is_prime = get_primes_eratosthenes_sieve(2 * 10 ** 7)"
   ],
   "metadata": {
    "collapsed": false,
    "ExecuteTime": {
     "end_time": "2023-10-01T04:03:04.430427900Z",
     "start_time": "2023-10-01T04:03:02.972623600Z"
    }
   },
   "id": "34a646790092c9e2"
  },
  {
   "cell_type": "markdown",
   "source": [
    "### Use Pollard's Rho algorithm for finding prime factorizations for any $n$"
   ],
   "metadata": {
    "collapsed": false
   },
   "id": "2b9295692048ef48"
  },
  {
   "cell_type": "code",
   "execution_count": 4,
   "outputs": [],
   "source": [
    "# https://github.com/zhangbo2008/python_algorithm2/blob/c53669703b957a079f100c12711f86f5fc2f9389/algorithms/factorization/pollard_rho.py\n",
    "def pollard_rho_prime_factorization(x):\n",
    "    def f(x):\n",
    "        return x * x + 1\n",
    "\n",
    "    def rho(n, x1=2, x2=2):\n",
    "        if n % 2 == 0:\n",
    "            return 2\n",
    "        i = 0\n",
    "        while True:\n",
    "            x1 = f(x1) % n\n",
    "            x2 = f(f(x2)) % n\n",
    "            divisor = math.gcd(abs(x1 - x2), n)\n",
    "            i += 1\n",
    "            if divisor != 1:\n",
    "                break\n",
    "            if i > 500:\n",
    "                x1 = random.randint(1, 10)\n",
    "                x2 = random.randint(1, 10)\n",
    "                i = 0\n",
    "        return divisor\n",
    "\n",
    "    def pollard_rho_rec(x, factors):\n",
    "        if x == 1:\n",
    "            return\n",
    "\n",
    "        if is_prime[x]:\n",
    "            factors.append(x)\n",
    "            return\n",
    "\n",
    "        divisor = rho(x, random.randint(1, 10), random.randint(1, 10))\n",
    "        pollard_rho_rec(divisor, factors)\n",
    "        pollard_rho_rec(x // divisor, factors)\n",
    "\n",
    "    if x == 1 or x == 0:\n",
    "        return {x: 1}\n",
    "    factors = []\n",
    "    pollard_rho_rec(x, factors)\n",
    "    return collections.Counter(factors)"
   ],
   "metadata": {
    "collapsed": false,
    "ExecuteTime": {
     "end_time": "2023-10-01T04:03:13.462408800Z",
     "start_time": "2023-10-01T04:03:13.430536500Z"
    }
   },
   "id": "5f2e549189871842"
  },
  {
   "cell_type": "markdown",
   "source": [
    "### Store prime factorizations for each $n$, with $2\\leq n\\leq 2\\times10^7$ for rapid access "
   ],
   "metadata": {
    "collapsed": false
   },
   "id": "52a968773909ac62"
  },
  {
   "cell_type": "code",
   "execution_count": 6,
   "outputs": [],
   "source": [
    "N = 2 * 10 ** 7\n",
    "prime_factorization = {n: pollard_rho_prime_factorization(n) for n in range(2, N + 1)}"
   ],
   "metadata": {
    "collapsed": false,
    "ExecuteTime": {
     "end_time": "2023-10-01T04:16:56.617185300Z",
     "start_time": "2023-10-01T04:04:52.660660900Z"
    }
   },
   "id": "7b747c7443de87dc"
  },
  {
   "cell_type": "markdown",
   "source": [
    "### Define functions for the Extended Euclidean algorithm, the Chinese Remainder Theorem, and the lifting of roots modulo $p^k$ to $p^{k+1}$ by Hensel's Lemma "
   ],
   "metadata": {
    "collapsed": false
   },
   "id": "2ebde99e44498ade"
  },
  {
   "cell_type": "code",
   "execution_count": 96,
   "outputs": [],
   "source": [
    "# Compute modular inverse of a (mod b) via extended_euclidean_algorithm(a, b)[1] % b\n",
    "def extended_euclidean_algorithm(a, b):\n",
    "    if a == 0:\n",
    "        return b, 0, 1\n",
    "    else:\n",
    "        gcd, x, y = extended_euclidean_algorithm(b % a, a)\n",
    "        return gcd, y - (b // a) * x, x\n",
    "\n",
    "# Pg. 22 of http://www.personal.psu.edu/rcv4/CENT.pdf\n",
    "def chinese_remainder_theorem(linear_congruences):\n",
    "    # Solves the system of linear congruences x = c_i (mod m_i)\n",
    "    M = functools.reduce(operator.mul, [m_i for c_i, m_i in linear_congruences])\n",
    "    result = 0\n",
    "    for c_i, m_i in linear_congruences:\n",
    "        M_i = M // m_i\n",
    "        GCD, x, y = extended_euclidean_algorithm(m_i, M_i)\n",
    "        result += c_i * y * M_i\n",
    "    return result % M, M\n",
    "\n",
    "# Hensel's Lemma (solutions to polynomial(x) ≡ 0 (mod p^k)): https://github.com/p4-team/crypto-commons/blob/master/crypto_commons/rsa/rsa_commons.py\n",
    "def lift(f, df, p, k, previous):\n",
    "    result = []\n",
    "    for lower_solution in previous:\n",
    "        dfr = df(lower_solution)\n",
    "        fr = f(lower_solution)\n",
    "        if dfr % p != 0:\n",
    "            t = (-(extended_euclidean_algorithm(dfr, p)[1]) * (fr // p ** (k - 1))) % p\n",
    "            result.append(lower_solution + t * p ** (k - 1))\n",
    "        if dfr % p == 0:\n",
    "            if fr % p ** k == 0:\n",
    "                for t in range(0, p):\n",
    "                    result.append(lower_solution + t * p ** (k - 1))\n",
    "    return result\n",
    "\n",
    "def hensel_lifting(f, df, p, k, base_solution: int | list = None):\n",
    "    \"\"\"\n",
    "    Calculate solutions to f(x) = 0 (mod p^k) for prime p, where f is a polynomial function in x\n",
    "    :param f: function\n",
    "    :param df: derivative of function\n",
    "    :param p: prime number\n",
    "    :param k: power of prime\n",
    "    :param base_solution: solution to return for k = 1 (assumed to be [1, p - 1] if not supplied)\n",
    "    :return: possible solutions to f(x) = 0 mod p^k\n",
    "    \"\"\"\n",
    "    if base_solution is None:\n",
    "        solution = [1, p - 1]\n",
    "    elif type(base_solution) is list:\n",
    "        solution = base_solution\n",
    "    else:\n",
    "        solution = [base_solution]\n",
    "    for i in range(2, k + 1):\n",
    "        solution = lift(f, df, p, i, solution)\n",
    "    return list(set(solution))"
   ],
   "metadata": {
    "collapsed": false,
    "ExecuteTime": {
     "end_time": "2023-10-01T12:38:33.912200400Z",
     "start_time": "2023-10-01T12:38:33.909690700Z"
    }
   },
   "id": "de8059a4498a0175"
  },
  {
   "cell_type": "markdown",
   "source": [
    "### For our use case of the Hensel's Lemma, $f = x^2-1$ and $\\partial f_x=2x$ because we are solving $m\\equiv m^{-1}\\,(\\text{mod }n)$"
   ],
   "metadata": {
    "collapsed": false
   },
   "id": "e1d0e3569967d4e4"
  },
  {
   "cell_type": "code",
   "execution_count": 91,
   "outputs": [],
   "source": [
    "h, dh = lambda x: x * x - 1, lambda x: 2 * x"
   ],
   "metadata": {
    "collapsed": false,
    "ExecuteTime": {
     "end_time": "2023-10-01T12:18:48.374639600Z",
     "start_time": "2023-10-01T12:18:48.371635100Z"
    }
   },
   "id": "95ab220759f1748d"
  },
  {
   "cell_type": "markdown",
   "source": [
    "### Compute $I(n)$ for $n=\\prod p_i^{\\alpha_i}$ by first solving the congruences $\\{x_i^2\\equiv1\\,(\\text{mod }p_i^{\\alpha_i}){\\}$ individually using Hensel's Lemma, and then combining the resultant solutions for all $i$ via the Chinese Remainder Theorem to deduce possible values for $m$"
   ],
   "metadata": {
    "collapsed": false
   },
   "id": "c68b2cc044122acb"
  },
  {
   "cell_type": "code",
   "execution_count": 94,
   "outputs": [],
   "source": [
    "def I(n):\n",
    "    if is_prime[n]:\n",
    "        return 1\n",
    "    \n",
    "    hensel_lemma_solutions = []\n",
    "    for p in prime_factorization[n]:\n",
    "        roots = hensel_lifting(h, dh, p, prime_factorization[n][p])\n",
    "        if len(roots) == 0:\n",
    "            return 1\n",
    "        hensel_lemma_solutions.append((p, prime_factorization[n][p], roots))\n",
    "    I_n_list = [chinese_remainder_theorem([(congruence_system[i], (lambda p, k: p ** k)(*list(prime_factorization[n].items())[i])) for i in range(len(congruence_system))]) for congruence_system in itertools.product(*[roots for p, k, roots in hensel_lemma_solutions])]\n",
    "    if (n - 1, n) in I_n_list:\n",
    "        I_n_list.remove((n - 1, n))\n",
    "    return max([x for x, M in I_n_list]) if len(I_n_list) != 0 else 1"
   ],
   "metadata": {
    "collapsed": false,
    "ExecuteTime": {
     "end_time": "2023-10-01T12:18:59.218887700Z",
     "start_time": "2023-10-01T12:18:59.203750100Z"
    }
   },
   "id": "ec87df123ae491df"
  },
  {
   "cell_type": "code",
   "execution_count": 95,
   "outputs": [
    {
     "name": "stdout",
     "output_type": "stream",
     "text": [
      "Progress: 100 %\r"
     ]
    },
    {
     "data": {
      "text/plain": "153651073760956"
     },
     "execution_count": 95,
     "metadata": {},
     "output_type": "execute_result"
    }
   ],
   "source": [
    "sum_I_n = 0\n",
    "for n in range(3, N + 1):\n",
    "    sum_I_n += I(n)\n",
    "    \n",
    "    # Display progress of function execution for large values of N\n",
    "    if n % (2 * 10 ** 5) == 0:\n",
    "        print('Progress:', n // (2 * 10 ** 5), '%', end='\\r', flush=True)\n",
    "        \n",
    "sum_I_n"
   ],
   "metadata": {
    "collapsed": false,
    "ExecuteTime": {
     "end_time": "2023-10-01T12:38:33.904407900Z",
     "start_time": "2023-10-01T12:19:09.092573800Z"
    }
   },
   "id": "418e32df2aec9113"
  }
 ],
 "metadata": {
  "kernelspec": {
   "display_name": "Python 3",
   "language": "python",
   "name": "python3"
  },
  "language_info": {
   "codemirror_mode": {
    "name": "ipython",
    "version": 2
   },
   "file_extension": ".py",
   "mimetype": "text/x-python",
   "name": "python",
   "nbconvert_exporter": "python",
   "pygments_lexer": "ipython2",
   "version": "2.7.6"
  }
 },
 "nbformat": 4,
 "nbformat_minor": 5
}
