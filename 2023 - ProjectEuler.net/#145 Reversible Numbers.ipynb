{
 "cells": [
  {
   "cell_type": "code",
   "execution_count": 2,
   "id": "initial_id",
   "metadata": {
    "collapsed": true,
    "ExecuteTime": {
     "end_time": "2023-09-26T10:44:11.294067400Z",
     "start_time": "2023-09-26T10:35:24.451560200Z"
    }
   },
   "outputs": [
    {
     "data": {
      "text/plain": "608720"
     },
     "execution_count": 2,
     "metadata": {},
     "output_type": "execute_result"
    }
   ],
   "source": [
    "N = 10 ** 9\n",
    "\n",
    "reversible_digit_count = 0\n",
    "for n in range(1, N):\n",
    "    if n % 10 == 0:\n",
    "        continue\n",
    "    if set(str(n + int(str(n)[::-1]))).issubset({'1', '3', '5', '7', '9'}):\n",
    "        reversible_digit_count += 1\n",
    "        \n",
    "reversible_digit_count"
   ]
  }
 ],
 "metadata": {
  "kernelspec": {
   "display_name": "Python 3",
   "language": "python",
   "name": "python3"
  },
  "language_info": {
   "codemirror_mode": {
    "name": "ipython",
    "version": 2
   },
   "file_extension": ".py",
   "mimetype": "text/x-python",
   "name": "python",
   "nbconvert_exporter": "python",
   "pygments_lexer": "ipython2",
   "version": "2.7.6"
  }
 },
 "nbformat": 4,
 "nbformat_minor": 5
}
