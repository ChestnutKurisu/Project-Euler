{
 "cells": [
  {
   "cell_type": "code",
   "execution_count": 7,
   "outputs": [],
   "source": [
    "import collections\n",
    "import functools\n",
    "import math\n",
    "import operator\n",
    "import random"
   ],
   "metadata": {
    "collapsed": false,
    "ExecuteTime": {
     "end_time": "2023-10-06T00:44:09.047012800Z",
     "start_time": "2023-10-06T00:44:09.035819700Z"
    }
   },
   "id": "7f6d38d8abd88903"
  },
  {
   "cell_type": "markdown",
   "source": [
    "### Get a sieve of all numbers $n$ to indicate whether they are prime, with $0 \\leq n \\leq 100$"
   ],
   "metadata": {
    "collapsed": false
   },
   "id": "64ee996273a6124b"
  },
  {
   "cell_type": "code",
   "execution_count": 2,
   "outputs": [],
   "source": [
    "def get_primes_eratosthenes_sieve(n):\n",
    "    is_prime = [1] * (n + 1)\n",
    "    p = 2\n",
    "    is_prime[0] = 0\n",
    "    is_prime[1] = 0\n",
    "    while p * p <= n:\n",
    "        if is_prime[p]:\n",
    "            for i in range(p * 2, n + 1, p):\n",
    "                is_prime[i] = 0\n",
    "        p += 1\n",
    "    prime_list = []\n",
    "    for i in range(n + 1):\n",
    "        if is_prime[i]:\n",
    "            prime_list.append(i)\n",
    "    return is_prime\n",
    "\n",
    "is_prime = get_primes_eratosthenes_sieve(100)"
   ],
   "metadata": {
    "collapsed": false,
    "ExecuteTime": {
     "end_time": "2023-10-06T00:31:06.600871900Z",
     "start_time": "2023-10-06T00:31:06.595953400Z"
    }
   },
   "id": "89ad937fa40c3d46"
  },
  {
   "cell_type": "markdown",
   "source": [
    "### Use Pollard's Rho algorithm for finding prime factorizations for any $n$"
   ],
   "metadata": {
    "collapsed": false
   },
   "id": "f151b8bb33dc9428"
  },
  {
   "cell_type": "code",
   "execution_count": 3,
   "outputs": [],
   "source": [
    "# https://github.com/zhangbo2008/python_algorithm2/blob/c53669703b957a079f100c12711f86f5fc2f9389/algorithms/factorization/pollard_rho.py\n",
    "def pollard_rho_prime_factorization(x):\n",
    "    def f(x):\n",
    "        return x * x + 1\n",
    "\n",
    "    def rho(n, x1=2, x2=2):\n",
    "        if n % 2 == 0:\n",
    "            return 2\n",
    "        i = 0\n",
    "        while True:\n",
    "            x1 = f(x1) % n\n",
    "            x2 = f(f(x2)) % n\n",
    "            divisor = math.gcd(abs(x1 - x2), n)\n",
    "            i += 1\n",
    "            if divisor != 1:\n",
    "                break\n",
    "            if i > 500:\n",
    "                x1 = random.randint(1, 10)\n",
    "                x2 = random.randint(1, 10)\n",
    "                i = 0\n",
    "        return divisor\n",
    "\n",
    "    def pollard_rho_rec(x, factors):\n",
    "        if x == 1:\n",
    "            return\n",
    "\n",
    "        if is_prime[x]:\n",
    "            factors.append(x)\n",
    "            return\n",
    "\n",
    "        divisor = rho(x, random.randint(1, 10), random.randint(1, 10))\n",
    "        pollard_rho_rec(divisor, factors)\n",
    "        pollard_rho_rec(x // divisor, factors)\n",
    "\n",
    "    if x == 1 or x == 0:\n",
    "        return {x: 1}\n",
    "    factors = []\n",
    "    pollard_rho_rec(x, factors)\n",
    "    return collections.Counter(factors)"
   ],
   "metadata": {
    "collapsed": false,
    "ExecuteTime": {
     "end_time": "2023-10-06T00:31:14.802678Z",
     "start_time": "2023-10-06T00:31:14.797757500Z"
    }
   },
   "id": "fea055dcb2a4b1b5"
  },
  {
   "cell_type": "markdown",
   "source": [
    "### Store prime factorizations for each $n$, with $1\\leq n\\leq N$ for rapid access "
   ],
   "metadata": {
    "collapsed": false
   },
   "id": "f68870ddd44e3157"
  },
  {
   "cell_type": "code",
   "execution_count": 21,
   "outputs": [],
   "source": [
    "N = 51\n",
    "prime_factorization = {n: pollard_rho_prime_factorization(n) for n in range(1, N + 1)}"
   ],
   "metadata": {
    "collapsed": false,
    "ExecuteTime": {
     "end_time": "2023-10-06T00:51:59.025535900Z",
     "start_time": "2023-10-06T00:51:59.021036500Z"
    }
   },
   "id": "302cd5fdca017219"
  },
  {
   "cell_type": "markdown",
   "source": [
    "### Compute binomial coefficients in each row of Pascal's triangle iteratively, keep track of their prime factorizations, and track the sum of coefficients that are squarefree"
   ],
   "metadata": {
    "collapsed": false
   },
   "id": "f44629f1605db994"
  },
  {
   "cell_type": "code",
   "execution_count": 22,
   "outputs": [
    {
     "data": {
      "text/plain": "34029210557338"
     },
     "execution_count": 22,
     "metadata": {},
     "output_type": "execute_result"
    }
   ],
   "source": [
    "square_free_binomial = [1]\n",
    "for n in range(N):\n",
    "    binomial_coefficient, binomial_pf = 1, dict()\n",
    "    for k in range(1, n + 1):\n",
    "        # (n, k) = (n, k - 1) * (n - k + 1) / k\n",
    "        multiply_pf, divide_pf = prime_factorization[n - k + 1], prime_factorization[k]\n",
    "        for p in multiply_pf:\n",
    "            if p in (0, 1):\n",
    "                continue\n",
    "            if p in binomial_pf:\n",
    "                binomial_pf[p] += multiply_pf[p]\n",
    "            else:\n",
    "                binomial_pf[p] = multiply_pf[p]\n",
    "                \n",
    "        for p in divide_pf:\n",
    "            if p in (0, 1):\n",
    "                continue\n",
    "            # Guaranteed to have p in binomial_pf\n",
    "            binomial_pf[p] -= divide_pf[p]\n",
    "        if len(binomial_pf) > 0 and max(binomial_pf.values()) < 2:\n",
    "            square_free_binomial.append(functools.reduce(operator.mul, [p ** binomial_pf[p] for p in binomial_pf if p not in (0, 1)]))\n",
    "\n",
    "distinct_square_free_binomial = sorted(set(square_free_binomial))\n",
    "sum(distinct_square_free_binomial)"
   ],
   "metadata": {
    "collapsed": false,
    "ExecuteTime": {
     "end_time": "2023-10-06T00:52:01.114770500Z",
     "start_time": "2023-10-06T00:52:01.105429Z"
    }
   },
   "id": "23f8f86851f06178"
  }
 ],
 "metadata": {
  "kernelspec": {
   "display_name": "Python 3",
   "language": "python",
   "name": "python3"
  },
  "language_info": {
   "codemirror_mode": {
    "name": "ipython",
    "version": 2
   },
   "file_extension": ".py",
   "mimetype": "text/x-python",
   "name": "python",
   "nbconvert_exporter": "python",
   "pygments_lexer": "ipython2",
   "version": "2.7.6"
  }
 },
 "nbformat": 4,
 "nbformat_minor": 5
}
