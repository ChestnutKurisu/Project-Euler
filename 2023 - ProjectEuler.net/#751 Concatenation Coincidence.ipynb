{
 "cells": [
  {
   "cell_type": "code",
   "execution_count": 139,
   "id": "initial_id",
   "metadata": {
    "collapsed": true,
    "ExecuteTime": {
     "end_time": "2023-09-27T04:42:46.654593200Z",
     "start_time": "2023-09-27T04:42:46.646980400Z"
    }
   },
   "outputs": [],
   "source": [
    "import math\n",
    "from decimal import *"
   ]
  },
  {
   "cell_type": "code",
   "execution_count": 140,
   "outputs": [],
   "source": [
    "getcontext().prec = 30\n",
    "\n",
    "def bisection(f, a, b, e):\n",
    "    if f(a) == 0:\n",
    "        return a\n",
    "    if f(b) == 0:\n",
    "        return b\n",
    "    c = (a + b) / 2\n",
    "    while abs(f(c)) >= 0:\n",
    "        c_old = c\n",
    "        if f(a) * f(c) < 0:\n",
    "            b = c\n",
    "            c = (a + c) / 2\n",
    "        elif f(b) * f(c) < 0:\n",
    "            a = c\n",
    "            c = (c + b) / 2\n",
    "        if abs(c - c_old) <= e:\n",
    "            break\n",
    "    return c"
   ],
   "metadata": {
    "collapsed": false,
    "ExecuteTime": {
     "end_time": "2023-09-27T04:42:47.140946Z",
     "start_time": "2023-09-27T04:42:47.113216100Z"
    }
   },
   "id": "c0a47027edd4b31"
  },
  {
   "cell_type": "code",
   "execution_count": 142,
   "outputs": [
    {
     "name": "stdout",
     "output_type": "stream",
     "text": [
      "2.223561019313554106173177\n"
     ]
    }
   ],
   "source": [
    "def f(theta):\n",
    "    theta = theta\n",
    "    a, b = [math.floor(theta)], theta\n",
    "    for n in range(2, 24 + 1):\n",
    "        b_floor = math.floor(b)\n",
    "        b = b_floor * (b - b_floor + 1)\n",
    "        a.append(math.floor(b))\n",
    "        \n",
    "    tau = Decimal(f'{str(a[0])}.' + ''.join([str(t) for t in a[1:]]))\n",
    "    return theta - tau\n",
    "\n",
    "print(round(bisection(f, Decimal(2), Decimal(3), Decimal(10) ** Decimal(-25)), 24))"
   ],
   "metadata": {
    "collapsed": false,
    "ExecuteTime": {
     "end_time": "2023-09-27T04:42:50.361410100Z",
     "start_time": "2023-09-27T04:42:50.355864200Z"
    }
   },
   "id": "59c28e087debbcf9"
  }
 ],
 "metadata": {
  "kernelspec": {
   "display_name": "Python 3",
   "language": "python",
   "name": "python3"
  },
  "language_info": {
   "codemirror_mode": {
    "name": "ipython",
    "version": 2
   },
   "file_extension": ".py",
   "mimetype": "text/x-python",
   "name": "python",
   "nbconvert_exporter": "python",
   "pygments_lexer": "ipython2",
   "version": "2.7.6"
  }
 },
 "nbformat": 4,
 "nbformat_minor": 5
}
