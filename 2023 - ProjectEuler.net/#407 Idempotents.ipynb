{
 "cells": [
  {
   "cell_type": "code",
   "execution_count": 1,
   "outputs": [],
   "source": [
    "import functools\n",
    "import itertools\n",
    "import operator\n",
    "import pickle"
   ],
   "metadata": {
    "collapsed": false,
    "ExecuteTime": {
     "end_time": "2023-10-08T23:50:36.849265100Z",
     "start_time": "2023-10-08T23:50:36.846065400Z"
    }
   },
   "id": "8705e7009c7f3af5"
  },
  {
   "cell_type": "markdown",
   "source": [
    "### Retrieve prime factorizations for each $n$, with $1\\leq n\\leq 10^7$, pre-computed using Pollard's Rho algorithm  "
   ],
   "metadata": {
    "collapsed": false
   },
   "id": "822261d4f4bddcbd"
  },
  {
   "cell_type": "code",
   "execution_count": 2,
   "outputs": [],
   "source": [
    "with open('..\\\\Computation Caches\\\\prime_factorizations_1_10000000.pkl', 'rb') as file:\n",
    "    prime_factorization = pickle.load(file)"
   ],
   "metadata": {
    "collapsed": false,
    "ExecuteTime": {
     "end_time": "2023-10-08T23:50:39.242486200Z",
     "start_time": "2023-10-08T23:50:36.849265100Z"
    }
   },
   "id": "2844c8cd3b62ad97"
  },
  {
   "cell_type": "markdown",
   "source": [
    "### Define functions for the Extended Euclidean algorithm, the Chinese Remainder Theorem, and the lifting of roots modulo $p^k$ to $p^{k+1}$ by Hensel's Lemma "
   ],
   "metadata": {
    "collapsed": false
   },
   "id": "30d1363f18e27e66"
  },
  {
   "cell_type": "code",
   "execution_count": 3,
   "outputs": [],
   "source": [
    "# Compute modular inverse of a (mod b) via extended_euclidean_algorithm(a, b)[1] % b\n",
    "def extended_euclidean_algorithm(a, b):\n",
    "    if a == 0:\n",
    "        return b, 0, 1\n",
    "    else:\n",
    "        gcd, x, y = extended_euclidean_algorithm(b % a, a)\n",
    "        return gcd, y - (b // a) * x, x\n",
    "\n",
    "# Pg. 22 of http://www.personal.psu.edu/rcv4/CENT.pdf\n",
    "def chinese_remainder_theorem(linear_congruences):\n",
    "    # Solves the system of linear congruences x = c_i (mod m_i)\n",
    "    M = functools.reduce(operator.mul, [m_i for c_i, m_i in linear_congruences])\n",
    "    result = 0\n",
    "    for c_i, m_i in linear_congruences:\n",
    "        M_i = M // m_i\n",
    "        GCD, x, y = extended_euclidean_algorithm(m_i, M_i)\n",
    "        result += c_i * y * M_i\n",
    "    return result % M, M\n",
    "\n",
    "# Hensel's Lemma (solutions to polynomial(x) ≡ 0 (mod p^k)): https://github.com/p4-team/crypto-commons/blob/master/crypto_commons/rsa/rsa_commons.py\n",
    "def lift(f, df, p, k, previous):\n",
    "    result = []\n",
    "    for lower_solution in previous:\n",
    "        dfr = df(lower_solution)\n",
    "        fr = f(lower_solution)\n",
    "        if dfr % p != 0:\n",
    "            t = (-(extended_euclidean_algorithm(dfr, p)[1]) * (fr // p ** (k - 1))) % p\n",
    "            result.append(lower_solution + t * p ** (k - 1))\n",
    "        if dfr % p == 0:\n",
    "            if fr % p ** k == 0:\n",
    "                for t in range(0, p):\n",
    "                    result.append(lower_solution + t * p ** (k - 1))\n",
    "    return result\n",
    "\n",
    "def hensel_lifting(f, df, p, k, base_solution: int | list = None):\n",
    "    \"\"\"\n",
    "    Calculate solutions to f(x) = 0 (mod p^k) for prime p, where f is a polynomial function in x\n",
    "    :param f: function\n",
    "    :param df: derivative of function\n",
    "    :param p: prime number\n",
    "    :param k: power of prime\n",
    "    :param base_solution: solution to return for k = 1 (assumed to be [1, p - 1] if not supplied)\n",
    "    :return: possible solutions to f(x) = 0 mod p^k\n",
    "    \"\"\"\n",
    "    if base_solution is None:\n",
    "        solution = [1, p - 1]\n",
    "    elif type(base_solution) is list:\n",
    "        solution = base_solution\n",
    "    else:\n",
    "        solution = [base_solution]\n",
    "    for i in range(2, k + 1):\n",
    "        solution = lift(f, df, p, i, solution)\n",
    "    return list(set(solution))"
   ],
   "metadata": {
    "collapsed": false,
    "ExecuteTime": {
     "end_time": "2023-10-08T23:50:39.251058700Z",
     "start_time": "2023-10-08T23:50:39.247995300Z"
    }
   },
   "id": "cef8b01aa4f299e9"
  },
  {
   "cell_type": "markdown",
   "source": [
    "### For our use case of the Hensel's Lemma, $f = x^2-x$ and $\\partial f_x=2x-1$ because we are solving $a^2\\equiv a\\,(\\text{mod }n)$"
   ],
   "metadata": {
    "collapsed": false
   },
   "id": "1648138258437b33"
  },
  {
   "cell_type": "code",
   "execution_count": 4,
   "outputs": [],
   "source": [
    "h, dh = lambda x: x * x - x, lambda x: 2 * x - 1"
   ],
   "metadata": {
    "collapsed": false,
    "ExecuteTime": {
     "end_time": "2023-10-08T23:50:39.258916600Z",
     "start_time": "2023-10-08T23:50:39.251058700Z"
    }
   },
   "id": "657742357d826182"
  },
  {
   "cell_type": "markdown",
   "source": [
    "### Compute $M(n)$ for $n=\\prod p_i^{\\alpha_i}$ by first solving the congruences $\\{x_i^2\\equiv x_i\\,(\\text{mod }p_i^{\\alpha_i}){\\}$ individually using Hensel's Lemma, and then combining the resultant solutions for all $i$ via the Chinese Remainder Theorem to deduce possible values for $M(n)$ and choosing the maximum of them in $\\mathbb{Z}_n$\n",
    "- Note that for each $n$, the base solutions are $a\\equiv 0,\\,1$ since they satisfy $a^2\\equiv a\\,(\\text{mod }n)$\n",
    "- Algorithm can be further sped up by [realizing](https://math.stackexchange.com/a/1661780) that $M(p^k)=1$ for a prime $p$ and $k\\in\\mathbb{N}$ "
   ],
   "metadata": {
    "collapsed": false
   },
   "id": "972e771f19792b6c"
  },
  {
   "cell_type": "code",
   "execution_count": 7,
   "outputs": [
    {
     "name": "stdout",
     "output_type": "stream",
     "text": [
      "Progress: 100.0 %\r"
     ]
    },
    {
     "data": {
      "text/plain": "39782849136421"
     },
     "execution_count": 7,
     "metadata": {},
     "output_type": "execute_result"
    }
   ],
   "source": [
    "def M(n):\n",
    "    # M(1) = 0 because 0^2 ≡ 0 ≡ 1 (mod 1)\n",
    "    if n == 1:\n",
    "        return 0\n",
    "    hensel_lemma_solutions = []\n",
    "    for p in prime_factorization[n]:\n",
    "        roots = hensel_lifting(h, dh, p, prime_factorization[n][p], [0, 1])\n",
    "        if len(roots) == 0:\n",
    "            return 1\n",
    "        hensel_lemma_solutions.append((p, prime_factorization[n][p], roots))\n",
    "    congruence_solutions = [chinese_remainder_theorem([(congruence_system[i], (lambda p, k: p ** k)(*list(prime_factorization[n].items())[i])) for i in range(len(congruence_system))]) for congruence_system in itertools.product(*[roots for p, k, roots in hensel_lemma_solutions])]\n",
    "    return max([x for x, M in congruence_solutions]) if len(congruence_solutions) != 0 else 1\n",
    "\n",
    "N = 10 ** 7\n",
    "s = 0\n",
    "for n in range(1, N + 1):\n",
    "    s += M(n)\n",
    "    \n",
    "    # Display progress of function execution for large values of N\n",
    "    if n % (N / 100) == 0:\n",
    "        print('Progress:', n // (N / 100), '%', end='\\r', flush=True)\n",
    "        \n",
    "s"
   ],
   "metadata": {
    "collapsed": false,
    "ExecuteTime": {
     "end_time": "2023-10-09T00:02:39.904918600Z",
     "start_time": "2023-10-08T23:54:12.663409Z"
    }
   },
   "id": "23507a07ee1d97b"
  }
 ],
 "metadata": {
  "kernelspec": {
   "display_name": "Python 3",
   "language": "python",
   "name": "python3"
  },
  "language_info": {
   "codemirror_mode": {
    "name": "ipython",
    "version": 2
   },
   "file_extension": ".py",
   "mimetype": "text/x-python",
   "name": "python",
   "nbconvert_exporter": "python",
   "pygments_lexer": "ipython2",
   "version": "2.7.6"
  }
 },
 "nbformat": 4,
 "nbformat_minor": 5
}
