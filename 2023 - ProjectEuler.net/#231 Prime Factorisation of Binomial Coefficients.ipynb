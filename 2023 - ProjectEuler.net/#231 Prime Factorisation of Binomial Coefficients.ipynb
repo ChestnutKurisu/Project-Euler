{
 "cells": [
  {
   "cell_type": "code",
   "execution_count": 1,
   "outputs": [],
   "source": [
    "import collections\n",
    "import math\n",
    "import random"
   ],
   "metadata": {
    "collapsed": false,
    "ExecuteTime": {
     "end_time": "2023-10-06T17:31:07.275658600Z",
     "start_time": "2023-10-06T17:31:07.270148200Z"
    }
   },
   "id": "43a240b79f131fb6"
  },
  {
   "cell_type": "markdown",
   "source": [
    "### Get a sieve of all numbers $n$ to indicate whether they are prime, with $0 \\leq n \\leq 2\\times10^7$"
   ],
   "metadata": {
    "collapsed": false
   },
   "id": "ff06e6a020d85a1d"
  },
  {
   "cell_type": "code",
   "execution_count": 2,
   "outputs": [],
   "source": [
    "def get_primes_eratosthenes_sieve(n):\n",
    "    is_prime = [1] * (n + 1)\n",
    "    p = 2\n",
    "    is_prime[0] = 0\n",
    "    is_prime[1] = 0\n",
    "    while p * p <= n:\n",
    "        if is_prime[p]:\n",
    "            for i in range(p * 2, n + 1, p):\n",
    "                is_prime[i] = 0\n",
    "        p += 1\n",
    "    prime_list = []\n",
    "    for i in range(n + 1):\n",
    "        if is_prime[i]:\n",
    "            prime_list.append(i)\n",
    "    return is_prime\n",
    "\n",
    "is_prime = get_primes_eratosthenes_sieve(2 * 10 ** 7)"
   ],
   "metadata": {
    "collapsed": false,
    "ExecuteTime": {
     "end_time": "2023-10-06T17:31:37.535281Z",
     "start_time": "2023-10-06T17:31:35.121461300Z"
    }
   },
   "id": "c18b1eeab5504e0b"
  },
  {
   "cell_type": "markdown",
   "source": [
    "### Use Pollard's Rho algorithm for finding prime factorizations for any $n$"
   ],
   "metadata": {
    "collapsed": false
   },
   "id": "12416dcfddf596a"
  },
  {
   "cell_type": "code",
   "execution_count": 3,
   "outputs": [],
   "source": [
    "# https://github.com/zhangbo2008/python_algorithm2/blob/c53669703b957a079f100c12711f86f5fc2f9389/algorithms/factorization/pollard_rho.py\n",
    "def pollard_rho_prime_factorization(x):\n",
    "    def f(x):\n",
    "        return x * x + 1\n",
    "\n",
    "    def rho(n, x1=2, x2=2):\n",
    "        if n % 2 == 0:\n",
    "            return 2\n",
    "        i = 0\n",
    "        while True:\n",
    "            x1 = f(x1) % n\n",
    "            x2 = f(f(x2)) % n\n",
    "            divisor = math.gcd(abs(x1 - x2), n)\n",
    "            i += 1\n",
    "            if divisor != 1:\n",
    "                break\n",
    "            if i > 500:\n",
    "                x1 = random.randint(1, 10)\n",
    "                x2 = random.randint(1, 10)\n",
    "                i = 0\n",
    "        return divisor\n",
    "\n",
    "    def pollard_rho_rec(x, factors):\n",
    "        if x == 1:\n",
    "            return\n",
    "\n",
    "        if is_prime[x]:\n",
    "            factors.append(x)\n",
    "            return\n",
    "\n",
    "        divisor = rho(x, random.randint(1, 10), random.randint(1, 10))\n",
    "        pollard_rho_rec(divisor, factors)\n",
    "        pollard_rho_rec(x // divisor, factors)\n",
    "\n",
    "    if x == 1 or x == 0:\n",
    "        return {x: 1}\n",
    "    factors = []\n",
    "    pollard_rho_rec(x, factors)\n",
    "    return collections.Counter(factors)"
   ],
   "metadata": {
    "collapsed": false,
    "ExecuteTime": {
     "end_time": "2023-10-06T17:31:37.549166400Z",
     "start_time": "2023-10-06T17:31:37.536869500Z"
    }
   },
   "id": "af823b35f9756c9c"
  },
  {
   "cell_type": "markdown",
   "source": [
    "### Store prime factorizations for each $n$, with $1\\leq n\\leq N$ for rapid access "
   ],
   "metadata": {
    "collapsed": false
   },
   "id": "1d721f65be5fe951"
  },
  {
   "cell_type": "code",
   "execution_count": 4,
   "outputs": [],
   "source": [
    "N = 2 * 10 ** 7\n",
    "prime_factorization = {n: pollard_rho_prime_factorization(n) for n in range(1, N + 1)}"
   ],
   "metadata": {
    "collapsed": false,
    "ExecuteTime": {
     "end_time": "2023-10-06T17:48:33.073005800Z",
     "start_time": "2023-10-06T17:32:01.642288500Z"
    }
   },
   "id": "f07616bcceaf81a4"
  },
  {
   "cell_type": "markdown",
   "source": [
    "### Compute binomial coefficients $20000000 \\choose k$ iteratively, for $1\\leq k\\leq15000000$, and keep track of their prime factorizations in each iteration"
   ],
   "metadata": {
    "collapsed": false
   },
   "id": "ecfa98de8baaba63"
  },
  {
   "cell_type": "code",
   "execution_count": 5,
   "outputs": [
    {
     "data": {
      "text/plain": "7526965179680"
     },
     "execution_count": 5,
     "metadata": {},
     "output_type": "execute_result"
    }
   ],
   "source": [
    "K = 15 * 10 ** 6\n",
    "binomial_coefficient, binomial_pf = 1, dict()\n",
    "for k in range(1, K + 1):\n",
    "    # (n, k) = (n, k - 1) * (n - k + 1) / k\n",
    "    multiply_pf, divide_pf = prime_factorization[N - k + 1], prime_factorization[k]\n",
    "    for p in multiply_pf:\n",
    "        if p in (0, 1):\n",
    "            continue\n",
    "        if p in binomial_pf:\n",
    "            binomial_pf[p] += multiply_pf[p]\n",
    "        else:\n",
    "            binomial_pf[p] = multiply_pf[p]\n",
    "            \n",
    "    for p in divide_pf:\n",
    "        if p in (0, 1):\n",
    "            continue\n",
    "        # Guaranteed to have p in binomial_pf\n",
    "        binomial_pf[p] -= divide_pf[p]\n",
    "        \n",
    "sum_of_terms_in_pf = sum(p * binomial_pf[p] for p in binomial_pf)\n",
    "sum_of_terms_in_pf"
   ],
   "metadata": {
    "collapsed": false,
    "ExecuteTime": {
     "end_time": "2023-10-06T17:49:12.227920200Z",
     "start_time": "2023-10-06T17:48:33.072009200Z"
    }
   },
   "id": "456640941fc69d99"
  }
 ],
 "metadata": {
  "kernelspec": {
   "display_name": "Python 3",
   "language": "python",
   "name": "python3"
  },
  "language_info": {
   "codemirror_mode": {
    "name": "ipython",
    "version": 2
   },
   "file_extension": ".py",
   "mimetype": "text/x-python",
   "name": "python",
   "nbconvert_exporter": "python",
   "pygments_lexer": "ipython2",
   "version": "2.7.6"
  }
 },
 "nbformat": 4,
 "nbformat_minor": 5
}
