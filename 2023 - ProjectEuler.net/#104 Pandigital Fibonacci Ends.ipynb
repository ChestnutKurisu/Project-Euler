{
 "cells": [
  {
   "cell_type": "code",
   "execution_count": 10,
   "id": "initial_id",
   "metadata": {
    "collapsed": true,
    "ExecuteTime": {
     "end_time": "2023-10-02T17:48:47.237574900Z",
     "start_time": "2023-10-02T17:48:47.070034900Z"
    }
   },
   "outputs": [
    {
     "name": "stdout",
     "output_type": "stream",
     "text": [
      "329468\n"
     ]
    }
   ],
   "source": [
    "all_digits = set('123456789')\n",
    "F_end_current, F_end_next = 1, 1  # Track the last 9 digits\n",
    "F_start_current, F_start_next = 1, 1  # Track the first 9 digits\n",
    "for k in range(3, 10 ** 7):\n",
    "    F_end_current, F_end_next = F_end_next, (F_end_current + F_end_next) % (10 ** 10)\n",
    "    F_start_current, F_start_next = F_start_next, (F_start_current + F_start_next)\n",
    "    if len(str(F_start_current)) > 50:\n",
    "        F_start_current, F_start_next = F_start_current // (10 ** 30), F_start_next // (10 ** 30)\n",
    "    \n",
    "    if set(str(F_start_next)[:9]) == all_digits and set(str(F_end_next)[-9:]) == all_digits:\n",
    "        print(k)\n",
    "        break"
   ]
  }
 ],
 "metadata": {
  "kernelspec": {
   "display_name": "Python 3",
   "language": "python",
   "name": "python3"
  },
  "language_info": {
   "codemirror_mode": {
    "name": "ipython",
    "version": 2
   },
   "file_extension": ".py",
   "mimetype": "text/x-python",
   "name": "python",
   "nbconvert_exporter": "python",
   "pygments_lexer": "ipython2",
   "version": "2.7.6"
  }
 },
 "nbformat": 4,
 "nbformat_minor": 5
}
