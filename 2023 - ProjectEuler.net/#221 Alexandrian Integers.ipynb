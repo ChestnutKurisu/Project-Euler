{
 "cells": [
  {
   "cell_type": "code",
   "execution_count": 41,
   "outputs": [],
   "source": [
    "import functools\n",
    "import math\n",
    "import pickle\n",
    "import random"
   ],
   "metadata": {
    "collapsed": false,
    "ExecuteTime": {
     "end_time": "2023-10-08T16:15:11.531458Z",
     "start_time": "2023-10-08T16:15:11.510810400Z"
    }
   },
   "id": "b67831881d965942"
  },
  {
   "cell_type": "markdown",
   "source": [
    "### Get a sieve of all numbers $n$ to indicate whether they are prime, with $0 \\leq n \\leq 10^7$"
   ],
   "metadata": {
    "collapsed": false
   },
   "id": "6d3f6ff8fd2b029a"
  },
  {
   "cell_type": "code",
   "execution_count": 40,
   "outputs": [],
   "source": [
    "def get_primes_eratosthenes_sieve(n):\n",
    "    is_prime = [1] * (n + 1)\n",
    "    p = 2\n",
    "    is_prime[0] = 0\n",
    "    is_prime[1] = 0\n",
    "    while p * p <= n:\n",
    "        if is_prime[p]:\n",
    "            for i in range(p * 2, n + 1, p):\n",
    "                is_prime[i] = 0\n",
    "        p += 1\n",
    "    prime_list = []\n",
    "    for i in range(n + 1):\n",
    "        if is_prime[i]:\n",
    "            prime_list.append(i)\n",
    "    return is_prime\n",
    "\n",
    "is_prime = get_primes_eratosthenes_sieve(10 ** 7)"
   ],
   "metadata": {
    "collapsed": false,
    "ExecuteTime": {
     "end_time": "2023-10-08T16:14:06.304905400Z",
     "start_time": "2023-10-08T16:14:05.512359400Z"
    }
   },
   "id": "cb941ca06d763c7f"
  },
  {
   "cell_type": "markdown",
   "source": [
    "### Use Pollard's Rho algorithm for finding prime factorizations, and thereby the list of all divisors, for any $n$"
   ],
   "metadata": {
    "collapsed": false
   },
   "id": "5eaebeece685d763"
  },
  {
   "cell_type": "code",
   "execution_count": 42,
   "outputs": [],
   "source": [
    "def fast_miller_rabin(n, use_probabilistic=False, tolerance=30):\n",
    "    \"\"\"\n",
    "    Tests whether a number is prime using a deterministic version of the Miller-\n",
    "    Rabin primality test. Optionally tests whether the specified number is a\n",
    "    prime probabilistically up to a given tolerance using the regular version of\n",
    "    the Miller-Rabin test. If the number is greater than 10^36, then all witnesses\n",
    "    in the range [2, 2*log(n)*log(log(n))] are tested. However, this is conjectural\n",
    "    and only heuristic evidence exists for it. To certify that a number is actually\n",
    "    prime, one needs to test all witnesses in the range [2, 2*log(n)^2]. However,\n",
    "    this is generally quite slow.\n",
    "    Arguments:\n",
    "        n (:int) - the integer to be tested\n",
    "        use_probabilistic (:bool) - flag to indicate whether to use the regular\n",
    "                                   version of the Miller-Rabin primality test\n",
    "        tolerance (:int) - number of trials to be used to test primality\n",
    "    Returns:\n",
    "        True if 'n' is prime (or probably prime) and False otherwise\n",
    "    References:\n",
    "        - Francky from the PE Forums\n",
    "        - https://miller-rabin.appspot.com/\n",
    "        - https://en.wikipedia.org/wiki/Miller-Rabin_primality_test\n",
    "    \"\"\"\n",
    "    firstPrime = [2, 3, 5, 7, 11, 13, 17, 19, 23, 29, 31, 37, 41, 43, 47, 53, 59, 61, 67, 71]\n",
    "    # Determine bases for deterministic Miller-Rabin test\n",
    "    if n >= 10 ** 36:\n",
    "        log_n = math.log(n)\n",
    "        if not use_probabilistic:\n",
    "            w = range(2, 2 * int(log_n * math.log(log_n) / math.log(2)))\n",
    "        else:\n",
    "            w = range(tolerance)\n",
    "    elif n >= 1543267864443420616877677640751301:\n",
    "        w = firstPrime[:20]\n",
    "    elif n >= 564132928021909221014087501701:\n",
    "        w = firstPrime[:18]\n",
    "    elif n >= 59276361075595573263446330101:\n",
    "        w = firstPrime[:16]\n",
    "    elif n >= 6003094289670105800312596501:\n",
    "        w = firstPrime[:15]\n",
    "    elif n >= 3317044064679887385961981:\n",
    "        w = firstPrime[:14]\n",
    "    elif n >= 318665857834031151167461:\n",
    "        w = firstPrime[:13]\n",
    "    elif n >= 3825123056546413051:\n",
    "        w = firstPrime[:12]\n",
    "    # [2, 3, 5, 7, 11, 13, 17, 19, 23]\n",
    "    elif n >= 341550071728321:\n",
    "        w = firstPrime[:9]\n",
    "    # [2, 3, 5, 7, 11, 13, 17]\n",
    "    elif n >= 3474749660383:\n",
    "        w = firstPrime[:7]\n",
    "    elif n >= 2152302898749:\n",
    "        w = firstPrime[:6]\n",
    "    # [2, 3, 5, 7, 11, 13]\n",
    "    elif n >= 4759123141:\n",
    "        w = firstPrime[:5]\n",
    "    # [2, 3, 5, 7, 11]\n",
    "    elif n >= 9006403:\n",
    "        w = [2, 7, 61]\n",
    "    elif n >= 489997:\n",
    "        # Some Fermat stuff\n",
    "        if n & 1 and n % 3 and n % 5 and n % 7 and n % 11 and n % 13 and n % 17 and n % 19 and n % 23 and n % 29 and n % 31 and n % 37 and n % 41 and n % 43 and n % 47 and n % 53 and n % 59 and n % 61 and n % 67 and n % 71 and n % 73 and n % 79 and n % 83 and n % 89 and n % 97 and n % 101:\n",
    "            hn, nm1 = n >> 1, n - 1\n",
    "            p = pow(2, hn, n)\n",
    "            if p == 1 or p == nm1:\n",
    "                p = pow(3, hn, n)\n",
    "                if p == 1 or p == nm1:\n",
    "                    p = pow(5, hn, n)\n",
    "                    return p == 1 or p == nm1\n",
    "        return False\n",
    "    elif n >= 42799:\n",
    "        return n & 1 and n % 3 and n % 5 and n % 7 and n % 11 and n % 13 and n % 17 and n % 19 and n % 23 and n % 29 and n % 31 and n % 37 and n % 41 and n % 43 and pow(2, n - 1, n) == 1 and pow(5, n - 1, n) == 1\n",
    "    elif n >= 841:\n",
    "        return n & 1 and n % 3 and n % 5 and n % 7 and n % 11 and n % 13 and n % 17 and n % 19 and n % 23 and n % 29 and n % 31 and n % 37 and n % 41 and n % 43 and n % 47 and n % 53 and n % 59 and n % 61 and n % 67 and n % 71 and n % 73 and n % 79 and n % 83 and n % 89 and n % 97 and n % 101 and n % 103 and pow(2, n - 1, n) == 1\n",
    "    elif n >= 25:\n",
    "        return n & 1 and n % 3 and n % 5 and n % 7 and n % 11 and n % 13 and n % 17 and n % 19 and n % 23\n",
    "    elif n >= 4:\n",
    "        return n & 1 and n % 3\n",
    "    else:\n",
    "        return n > 1\n",
    "    if not (n & 1 and n % 3 and n % 5 and n % 7 and n % 11 and n % 13 and n % 17\n",
    "            and n % 19 and n % 23 and n % 29 and n % 31 and n % 37 and n % 41 and n % 43\n",
    "            and n % 47 and n % 53 and n % 59 and n % 61 and n % 67 and n % 71 and n % 73\n",
    "            and n % 79 and n % 83 and n % 89):\n",
    "        return False\n",
    "    # Miller-Rabin\n",
    "    s = 0\n",
    "    d = n - 1\n",
    "    while not d & 1:\n",
    "        d >>= 1\n",
    "        s += 1\n",
    "    for k in w:\n",
    "        # Pick a random witness if probabilistic\n",
    "        if use_probabilistic:\n",
    "            p = random.randint(2, n - 2)\n",
    "        else:\n",
    "            p = k\n",
    "        x = pow(p, d, n)\n",
    "        if x == 1:\n",
    "            continue\n",
    "        for _ in range(s):\n",
    "            if x + 1 == n:\n",
    "                break\n",
    "            x = x * x % n\n",
    "        else:\n",
    "            return False\n",
    "    return True\n",
    "\n",
    "\n",
    "# https://github.com/zhangbo2008/python_algorithm2/blob/c53669703b957a079f100c12711f86f5fc2f9389/algorithms/factorization/pollard_rho.py\n",
    "def pollard_rho_prime_factorization(x):\n",
    "    def f(x):\n",
    "        return x * x + 1\n",
    "\n",
    "    def rho(n, x1=2, x2=2):\n",
    "        if n % 2 == 0:\n",
    "            return 2\n",
    "        i = 0\n",
    "        while True:\n",
    "            x1 = f(x1) % n\n",
    "            x2 = f(f(x2)) % n\n",
    "            divisor = math.gcd(abs(x1 - x2), n)\n",
    "            i += 1\n",
    "            if divisor != 1:\n",
    "                break\n",
    "            if i > 500:\n",
    "                x1 = random.randint(1, 10)\n",
    "                x2 = random.randint(1, 10)\n",
    "                i = 0\n",
    "        return divisor\n",
    "\n",
    "    def pollard_rho_rec(x, factors):\n",
    "        if x == 1:\n",
    "            return\n",
    "\n",
    "        if x <= 10 ** 7:\n",
    "            if is_prime[x]:\n",
    "                factors.append(x)\n",
    "                return\n",
    "        elif fast_miller_rabin(x):\n",
    "            factors.append(x)\n",
    "            return\n",
    "\n",
    "        divisor = rho(x, random.randint(1, 10), random.randint(1, 10))\n",
    "        pollard_rho_rec(divisor, factors)\n",
    "        pollard_rho_rec(x // divisor, factors)\n",
    "\n",
    "    if x == 1 or x == 0:\n",
    "        return dict()\n",
    "    factors = []\n",
    "    pollard_rho_rec(x, factors)\n",
    "    return [(f, factors.count(f)) for f in set(factors)]\n",
    "\n",
    "def divisor_list_from_factors(factors):\n",
    "    # https://stackoverflow.com/questions/171765/what-is-the-best-way-to-get-all-the-divisors-of-a-number\n",
    "    num_factors = len(factors)\n",
    "    f = [0] * num_factors\n",
    "    while True:\n",
    "        yield functools.reduce(lambda x, y: x * y, [factors[x][0] ** f[x] for x in range(num_factors)], 1)\n",
    "        i = 0\n",
    "        while True:\n",
    "            f[i] += 1\n",
    "            if f[i] <= factors[i][1]:\n",
    "                break\n",
    "            f[i] = 0\n",
    "            i += 1\n",
    "            if i >= num_factors:\n",
    "                return"
   ],
   "metadata": {
    "collapsed": false,
    "ExecuteTime": {
     "end_time": "2023-10-08T16:15:43.078782Z",
     "start_time": "2023-10-08T16:15:43.039923900Z"
    }
   },
   "id": "a7d86bed01ccfad6"
  },
  {
   "cell_type": "markdown",
   "source": [
    "### Retrieve prime factorizations for each $n$, with $1\\leq n\\leq 10^8$, pre-computed using Pollard's Rho algorithm  "
   ],
   "metadata": {
    "collapsed": false
   },
   "id": "d9ca7a822400cf8e"
  },
  {
   "cell_type": "code",
   "execution_count": 34,
   "outputs": [],
   "source": [
    "with open('..\\\\Computation Caches\\\\prime_factorizations_1_100000000.pkl', 'rb') as file:\n",
    "    prime_factorization = pickle.load(file)"
   ],
   "metadata": {
    "collapsed": false,
    "ExecuteTime": {
     "end_time": "2023-10-08T16:11:33.171053400Z",
     "start_time": "2023-10-08T16:09:34.114684900Z"
    }
   },
   "id": "4c83d6fef85bfe37"
  },
  {
   "cell_type": "markdown",
   "source": [
    "### From [A147811](https://oeis.org/A147811): Alexandrian integers are numbers of the form $p\\cdot(p+d)\\cdot\\left(p+\\frac{(p^2+1)}{d}\\right)$, where $d\\mid p^2+1$."
   ],
   "metadata": {
    "collapsed": false
   },
   "id": "d1e250081494eba3"
  },
  {
   "cell_type": "code",
   "execution_count": 50,
   "outputs": [
    {
     "data": {
      "text/plain": "1884161251122450"
     },
     "execution_count": 50,
     "metadata": {},
     "output_type": "execute_result"
    }
   ],
   "source": [
    "L = 10 ** 8\n",
    "n_max = 150000\n",
    "alexandrian_numbers = set()\n",
    "for p in range(1, 10 ** 5 + 1):\n",
    "    divisor_list_p = divisor_list_from_factors(list(prime_factorization[p ** 2 + 1].items()) if p ** 2 + 1 <= L else pollard_rho_prime_factorization(p ** 2 + 1))\n",
    "    for d in divisor_list_p:\n",
    "        alexandrian_numbers.update({p * (p + d) * (p + (p ** 2 + 1) // d)})\n",
    "    \n",
    "alexandrian_numbers = sorted(alexandrian_numbers)\n",
    "alexandrian_numbers[n_max - 1]"
   ],
   "metadata": {
    "collapsed": false,
    "ExecuteTime": {
     "end_time": "2023-10-08T16:24:25.792129Z",
     "start_time": "2023-10-08T16:24:11.689596Z"
    }
   },
   "id": "7380ce965149abdc"
  }
 ],
 "metadata": {
  "kernelspec": {
   "display_name": "Python 3",
   "language": "python",
   "name": "python3"
  },
  "language_info": {
   "codemirror_mode": {
    "name": "ipython",
    "version": 2
   },
   "file_extension": ".py",
   "mimetype": "text/x-python",
   "name": "python",
   "nbconvert_exporter": "python",
   "pygments_lexer": "ipython2",
   "version": "2.7.6"
  }
 },
 "nbformat": 4,
 "nbformat_minor": 5
}
