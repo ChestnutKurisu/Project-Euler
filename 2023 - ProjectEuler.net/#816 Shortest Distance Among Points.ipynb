{
 "cells": [
  {
   "cell_type": "code",
   "execution_count": 8,
   "outputs": [],
   "source": [
    "import math"
   ],
   "metadata": {
    "collapsed": false,
    "ExecuteTime": {
     "end_time": "2023-09-25T03:55:56.299447900Z",
     "start_time": "2023-09-25T03:55:56.293301800Z"
    }
   },
   "id": "1aa45422ceb76209"
  },
  {
   "cell_type": "markdown",
   "source": [
    "### Compute the list of points $\\{P_i\\}_{i=0}^{2000000-1}$"
   ],
   "metadata": {
    "collapsed": false
   },
   "id": "3e50342acf3a7ec0"
  },
  {
   "cell_type": "code",
   "execution_count": 14,
   "outputs": [],
   "source": [
    "s_0, M = 290797, 50515093\n",
    "s_a, s_b = s_0, pow(s_0, 2, M)\n",
    "P = []\n",
    "for k in range(2 * 10 ** 6):\n",
    "    P.append((s_a, s_b))\n",
    "    s_a = pow(s_b, 2, M)\n",
    "    s_b = pow(s_a, 2, M)"
   ],
   "metadata": {
    "collapsed": false,
    "ExecuteTime": {
     "end_time": "2023-09-25T04:08:45.150970300Z",
     "start_time": "2023-09-25T04:08:44.637956500Z"
    }
   },
   "id": "da566199e3c51b36"
  },
  {
   "cell_type": "markdown",
   "source": [
    "### Find the closest pair of points in $P$ using divide-and-conquer\n",
    "[1] [Closest pair of points problem](https://en.wikipedia.org/wiki/Closest_pair_of_points_problem)\n",
    "[2] [Speeding up the helper function to find closest points recursively](https://codereview.stackexchange.com/a/199523)\n",
    "[3] [Closest pair problem notes from UCSB](https://sites.cs.ucsb.edu/~suri/cs235/ClosestPair.pdf)\n",
    "[4] Implementation for the above algorithm, including the rectangular $\\delta$-strip optimization, referenced from [TheAlgorithms](https://github.com/TheAlgorithms/Python/blob/master/divide_and_conquer/closest_pair_of_points.py)"
   ],
   "metadata": {
    "collapsed": false
   },
   "id": "32cf132cda6e2096"
  },
  {
   "cell_type": "code",
   "execution_count": null,
   "outputs": [],
   "source": [
    "\"\"\"\n",
    "The algorithm finds distance between closest pair of points\n",
    "in the given n points.\n",
    "Approach used -> Divide and conquer\n",
    "The points are sorted based on Xco-ords and\n",
    "then based on Yco-ords separately.\n",
    "And by applying divide and conquer approach,\n",
    "minimum distance is obtained recursively.\n",
    "\n",
    ">> Closest points can lie on different sides of partition.\n",
    "This case handled by forming a strip of points\n",
    "whose Xco-ords distance is less than closest_pair_dis\n",
    "from mid-point's Xco-ords. Points sorted based on Yco-ords\n",
    "are used in this step to reduce sorting time.\n",
    "Closest pair distance is found in the strip of points. (closest_in_strip)\n",
    "\n",
    "min(closest_pair_dis, closest_in_strip) would be the final answer.\n",
    "\n",
    "Time complexity: O(n * log n)\n",
    "\"\"\"\n",
    "\n",
    "\n",
    "def euclidean_distance_sqr(point1, point2):\n",
    "    \"\"\"\n",
    "    >>> euclidean_distance_sqr([1,2],[2,4])\n",
    "    5\n",
    "    \"\"\"\n",
    "    return (point1[0] - point2[0]) ** 2 + (point1[1] - point2[1]) ** 2\n",
    "\n",
    "\n",
    "def column_based_sort(array, column=0):\n",
    "    \"\"\"\n",
    "    >>> column_based_sort([(5, 1), (4, 2), (3, 0)], 1)\n",
    "    [(3, 0), (5, 1), (4, 2)]\n",
    "    \"\"\"\n",
    "    return sorted(array, key=lambda x: x[column])\n",
    "\n",
    "\n",
    "def dis_between_closest_pair(points, points_counts, min_dis=float(\"inf\")):\n",
    "    \"\"\"\n",
    "    brute force approach to find distance between closest pair points\n",
    "\n",
    "    Parameters :\n",
    "    points, points_count, min_dis (list(tuple(int, int)), int, int)\n",
    "\n",
    "    Returns :\n",
    "    min_dis (float):  distance between closest pair of points\n",
    "\n",
    "    >>> dis_between_closest_pair([[1,2],[2,4],[5,7],[8,9],[11,0]],5)\n",
    "    5\n",
    "\n",
    "    \"\"\"\n",
    "\n",
    "    for i in range(points_counts - 1):\n",
    "        for j in range(i + 1, points_counts):\n",
    "            current_dis = euclidean_distance_sqr(points[i], points[j])\n",
    "            if current_dis < min_dis:\n",
    "                min_dis = current_dis\n",
    "    return min_dis\n",
    "\n",
    "\n",
    "def dis_between_closest_in_strip(points, points_counts, min_dis=float(\"inf\")):\n",
    "    \"\"\"\n",
    "    closest pair of points in strip\n",
    "\n",
    "    Parameters :\n",
    "    points, points_count, min_dis (list(tuple(int, int)), int, int)\n",
    "\n",
    "    Returns :\n",
    "    min_dis (float):  distance btw closest pair of points in the strip (< min_dis)\n",
    "\n",
    "    >>> dis_between_closest_in_strip([[1,2],[2,4],[5,7],[8,9],[11,0]],5)\n",
    "    85\n",
    "    \"\"\"\n",
    "\n",
    "    for i in range(min(6, points_counts - 1), points_counts):\n",
    "        for j in range(max(0, i - 6), i):\n",
    "            current_dis = euclidean_distance_sqr(points[i], points[j])\n",
    "            if current_dis < min_dis:\n",
    "                min_dis = current_dis\n",
    "    return min_dis\n",
    "\n",
    "\n",
    "def closest_pair_of_points_sqr(points_sorted_on_x, points_sorted_on_y, points_counts):\n",
    "    \"\"\"divide and conquer approach\n",
    "\n",
    "    Parameters :\n",
    "    points, points_count (list(tuple(int, int)), int)\n",
    "\n",
    "    Returns :\n",
    "    (float):  distance btw closest pair of points\n",
    "\n",
    "    >>> closest_pair_of_points_sqr([(1, 2), (3, 4)], [(5, 6), (7, 8)], 2)\n",
    "    8\n",
    "    \"\"\"\n",
    "\n",
    "    # base case\n",
    "    if points_counts <= 3:\n",
    "        return dis_between_closest_pair(points_sorted_on_x, points_counts)\n",
    "\n",
    "    # recursion\n",
    "    mid = points_counts // 2\n",
    "    closest_in_left = closest_pair_of_points_sqr(\n",
    "        points_sorted_on_x, points_sorted_on_y[:mid], mid\n",
    "    )\n",
    "    closest_in_right = closest_pair_of_points_sqr(\n",
    "        points_sorted_on_y, points_sorted_on_y[mid:], points_counts - mid\n",
    "    )\n",
    "    closest_pair_dis = min(closest_in_left, closest_in_right)\n",
    "\n",
    "    \"\"\"\n",
    "    cross_strip contains the points, whose Xcoords are at a\n",
    "    distance(< closest_pair_dis) from mid's Xcoord\n",
    "    \"\"\"\n",
    "\n",
    "    cross_strip = []\n",
    "    for point in points_sorted_on_x:\n",
    "        if abs(point[0] - points_sorted_on_x[mid][0]) < closest_pair_dis:\n",
    "            cross_strip.append(point)\n",
    "\n",
    "    closest_in_strip = dis_between_closest_in_strip(\n",
    "        cross_strip, len(cross_strip), closest_pair_dis\n",
    "    )\n",
    "    return min(closest_pair_dis, closest_in_strip)\n",
    "\n",
    "\n",
    "def closest_pair_of_points(points, points_counts):\n",
    "    \"\"\"\n",
    "    >>> closest_pair_of_points([(2, 3), (12, 30)], len([(2, 3), (12, 30)]))\n",
    "    28.792360097775937\n",
    "    \"\"\"\n",
    "    points_sorted_on_x = column_based_sort(points, column=0)\n",
    "    points_sorted_on_y = column_based_sort(points, column=1)\n",
    "    return (\n",
    "        closest_pair_of_points_sqr(\n",
    "            points_sorted_on_x, points_sorted_on_y, points_counts\n",
    "        )\n",
    "    ) ** 0.5"
   ],
   "metadata": {
    "collapsed": false
   },
   "id": "76cad2e2ef10a6c4"
  },
  {
   "cell_type": "code",
   "execution_count": 17,
   "outputs": [
    {
     "name": "stdout",
     "output_type": "stream",
     "text": [
      "Shortest distance between points: 20.8806130178211\n"
     ]
    }
   ],
   "source": [
    "print(\"Shortest distance between points:\", closest_pair_of_points(P, len(P)))"
   ],
   "metadata": {
    "collapsed": false,
    "ExecuteTime": {
     "end_time": "2023-09-25T04:25:01.680062900Z",
     "start_time": "2023-09-25T04:22:16.508322300Z"
    }
   },
   "id": "a044a01cf382c713"
  }
 ],
 "metadata": {
  "kernelspec": {
   "display_name": "Python 3",
   "language": "python",
   "name": "python3"
  },
  "language_info": {
   "codemirror_mode": {
    "name": "ipython",
    "version": 2
   },
   "file_extension": ".py",
   "mimetype": "text/x-python",
   "name": "python",
   "nbconvert_exporter": "python",
   "pygments_lexer": "ipython2",
   "version": "2.7.6"
  }
 },
 "nbformat": 4,
 "nbformat_minor": 5
}
