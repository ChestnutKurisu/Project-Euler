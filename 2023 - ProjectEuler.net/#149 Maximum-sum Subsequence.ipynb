{
 "cells": [
  {
   "cell_type": "markdown",
   "source": [
    "### Implementation of Kadane's algorithm to find the maximum sum of a contiguous subarray in $\\mathcal{O}(n)$ time"
   ],
   "metadata": {
    "collapsed": false
   },
   "id": "3fe9590f3c622632"
  },
  {
   "cell_type": "code",
   "execution_count": 70,
   "outputs": [],
   "source": [
    "# https://neetcode.io/courses/advanced-algorithms/0\n",
    "def kadane_maximum_sum_subarray(l):\n",
    "    if len(l) == 0:\n",
    "        return 0\n",
    "    max_sum = l[0]\n",
    "    current_sum = 0\n",
    "    for n in l:\n",
    "        current_sum = max(current_sum, 0)\n",
    "        current_sum += n\n",
    "        max_sum = max(max_sum, current_sum)\n",
    "        \n",
    "    return max_sum"
   ],
   "metadata": {
    "collapsed": false,
    "ExecuteTime": {
     "end_time": "2023-10-09T02:13:21.663835100Z",
     "start_time": "2023-10-09T02:13:21.660778700Z"
    }
   },
   "id": "8b0333f979531774"
  },
  {
   "cell_type": "markdown",
   "source": [
    "### Compute $\\{s_k\\}_{1\\,\\leq\\,k\\,\\leq\\,4000000}$ via the Lagged Fibonacci Generator formula"
   ],
   "metadata": {
    "collapsed": false
   },
   "id": "22b39d7734b285c0"
  },
  {
   "cell_type": "code",
   "execution_count": 75,
   "id": "initial_id",
   "metadata": {
    "collapsed": true,
    "ExecuteTime": {
     "end_time": "2023-10-09T02:13:37.129148500Z",
     "start_time": "2023-10-09T02:13:36.639187300Z"
    }
   },
   "outputs": [
    {
     "data": {
      "text/plain": "(-393027, 86613)"
     },
     "execution_count": 75,
     "metadata": {},
     "output_type": "execute_result"
    }
   ],
   "source": [
    "dim = 2000\n",
    "N = dim ** 2\n",
    "s = [0] * (N + 1)\n",
    "for k in range(1, 55 + 1):\n",
    "    s[k] = (100003 - 200003 * k + 300007 * k ** 3) % 1000000 - 500000\n",
    "for k in range(56, N + 1):\n",
    "    s[k] = (s[k - 24] + s[k - 55] + 1000000) % 1000000 - 500000\n",
    "\n",
    "s[10], s[100]"
   ]
  },
  {
   "cell_type": "markdown",
   "source": [
    "### Apply Kadane's algorithm to each possible row, column, diagonal, and anti-diagonal array in the matrix formed using $\\{s_k\\}$"
   ],
   "metadata": {
    "collapsed": false
   },
   "id": "aa245ff135240697"
  },
  {
   "cell_type": "code",
   "execution_count": 76,
   "outputs": [
    {
     "data": {
      "text/plain": "52852124"
     },
     "execution_count": 76,
     "metadata": {},
     "output_type": "execute_result"
    }
   ],
   "source": [
    "max_sum_rows = max(kadane_maximum_sum_subarray(s[dim * (row - 1) + 1:dim * row + 1]) for row in range(1, dim + 1))\n",
    "max_sum_columns = max(kadane_maximum_sum_subarray([s[k + (col - 1)] for k in range(1, N + 1, dim)]) for col in range(1, dim + 1))\n",
    "\n",
    "# Diagonal starting indices are in the first row of matrix\n",
    "diagonal_start_index_length = {d: dim - d + 1 for d in (range(1, dim + 1))} \n",
    "# Diagonal starting indices are in the first column of matrix\n",
    "diagonal_start_index_length.update({dim * (d - 1) + 1: dim - d + 1 for d in (range(2, dim + 1))})\n",
    "max_sum_diagonals = max(kadane_maximum_sum_subarray([s[d + k * (dim + 1)] for k in range(0, diagonal_start_index_length[d])]) for d in diagonal_start_index_length)\n",
    "\n",
    "# Anti-diagonal starting indices are in the first row of matrix\n",
    "antidiagonal_start_index_length = {d: d for d in (range(1, dim + 1))} \n",
    "# Diagonal starting indices are in the last column of matrix\n",
    "antidiagonal_start_index_length.update({dim * d: dim - d + 1 for d in (range(2, dim + 1))})\n",
    "max_sum_antidiagonals = max(kadane_maximum_sum_subarray([s[d + k * (dim - 1)] for k in range(0, antidiagonal_start_index_length[d])]) for d in antidiagonal_start_index_length)\n",
    "\n",
    "max(max_sum_rows, max_sum_columns, max_sum_diagonals, max_sum_antidiagonals)"
   ],
   "metadata": {
    "collapsed": false,
    "ExecuteTime": {
     "end_time": "2023-10-09T02:13:41.526337Z",
     "start_time": "2023-10-09T02:13:38.745871400Z"
    }
   },
   "id": "551f84c6754b0b54"
  }
 ],
 "metadata": {
  "kernelspec": {
   "display_name": "Python 3",
   "language": "python",
   "name": "python3"
  },
  "language_info": {
   "codemirror_mode": {
    "name": "ipython",
    "version": 2
   },
   "file_extension": ".py",
   "mimetype": "text/x-python",
   "name": "python",
   "nbconvert_exporter": "python",
   "pygments_lexer": "ipython2",
   "version": "2.7.6"
  }
 },
 "nbformat": 4,
 "nbformat_minor": 5
}
