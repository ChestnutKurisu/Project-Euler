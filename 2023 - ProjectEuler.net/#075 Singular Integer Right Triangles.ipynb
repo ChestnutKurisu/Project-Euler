{
 "cells": [
  {
   "cell_type": "code",
   "execution_count": 11,
   "outputs": [],
   "source": [
    "import collections\n",
    "import math"
   ],
   "metadata": {
    "collapsed": false,
    "ExecuteTime": {
     "end_time": "2023-10-06T15:44:40.844128500Z",
     "start_time": "2023-10-06T15:44:40.840702800Z"
    }
   },
   "id": "4f73c4a74c2422d"
  },
  {
   "cell_type": "code",
   "execution_count": 12,
   "outputs": [
    {
     "data": {
      "text/plain": "22892367"
     },
     "execution_count": 12,
     "metadata": {},
     "output_type": "execute_result"
    }
   ],
   "source": [
    "# Using General Representation (ii) of Pythagorean triples from http://f2.org/maths/ppt.html\n",
    "N = 10 ** 7\n",
    "pythagorean_triples = []\n",
    "for m in range(1, int((N // 2) ** 0.5)):\n",
    "    for n in range(1, m):\n",
    "        if math.gcd(m, n) != 1 or (m + n) % 2 == 0:\n",
    "            continue\n",
    "        triple = sorted((m * m - n * n, 2 * m * n, m * m + n * n))\n",
    "        pythagorean_triples.extend([(k * triple[0], k * triple[1], k * triple[2]) for k in range(1, N // (m * m + n * n) + 1)])\n",
    "len(pythagorean_triples)"
   ],
   "metadata": {
    "collapsed": false,
    "ExecuteTime": {
     "end_time": "2023-10-06T15:44:48.182359100Z",
     "start_time": "2023-10-06T15:44:43.703395400Z"
    }
   },
   "id": "8e5bec965125a533"
  },
  {
   "cell_type": "code",
   "execution_count": 13,
   "outputs": [
    {
     "data": {
      "text/plain": "161667"
     },
     "execution_count": 13,
     "metadata": {},
     "output_type": "execute_result"
    }
   ],
   "source": [
    "pythagorean_perimeter_counts = collections.Counter([sum(triple) for triple in pythagorean_triples])\n",
    "len([L for L in pythagorean_perimeter_counts if pythagorean_perimeter_counts[L] == 1 and L <= 1500000])"
   ],
   "metadata": {
    "collapsed": false,
    "ExecuteTime": {
     "end_time": "2023-10-06T15:44:59.874519Z",
     "start_time": "2023-10-06T15:44:48.178796Z"
    }
   },
   "id": "2c01e57cea517107"
  }
 ],
 "metadata": {
  "kernelspec": {
   "display_name": "Python 3",
   "language": "python",
   "name": "python3"
  },
  "language_info": {
   "codemirror_mode": {
    "name": "ipython",
    "version": 2
   },
   "file_extension": ".py",
   "mimetype": "text/x-python",
   "name": "python",
   "nbconvert_exporter": "python",
   "pygments_lexer": "ipython2",
   "version": "2.7.6"
  }
 },
 "nbformat": 4,
 "nbformat_minor": 5
}
