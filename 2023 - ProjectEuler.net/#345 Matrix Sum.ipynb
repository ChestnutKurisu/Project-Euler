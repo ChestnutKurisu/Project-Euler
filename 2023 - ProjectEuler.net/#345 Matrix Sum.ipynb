{
 "cells": [
  {
   "cell_type": "code",
   "execution_count": 11,
   "outputs": [],
   "source": [
    "import pandas as pd"
   ],
   "metadata": {
    "collapsed": false,
    "ExecuteTime": {
     "end_time": "2023-09-28T12:51:56.570716700Z",
     "start_time": "2023-09-28T12:51:56.557672100Z"
    }
   },
   "id": "47b948afaabc8dbf"
  },
  {
   "cell_type": "code",
   "execution_count": 57,
   "id": "initial_id",
   "metadata": {
    "collapsed": true,
    "ExecuteTime": {
     "end_time": "2023-09-28T13:09:06.425076Z",
     "start_time": "2023-09-28T13:09:06.413624Z"
    }
   },
   "outputs": [
    {
     "data": {
      "text/plain": "[[7, 53, 183, 439, 863, 497, 383, 563, 79, 973, 287, 63, 343, 169, 583],\n [627, 343, 773, 959, 943, 767, 473, 103, 699, 303, 957, 703, 583, 639, 913],\n [447, 283, 463, 29, 23, 487, 463, 993, 119, 883, 327, 493, 423, 159, 743],\n [217, 623, 3, 399, 853, 407, 103, 983, 89, 463, 290, 516, 212, 462, 350],\n [960, 376, 682, 962, 300, 780, 486, 502, 912, 800, 250, 346, 172, 812, 350],\n [870, 456, 192, 162, 593, 473, 915, 45, 989, 873, 823, 965, 425, 329, 803],\n [973, 965, 905, 919, 133, 673, 665, 235, 509, 613, 673, 815, 165, 992, 326],\n [322, 148, 972, 962, 286, 255, 941, 541, 265, 323, 925, 281, 601, 95, 973],\n [445, 721, 11, 525, 473, 65, 511, 164, 138, 672, 18, 428, 154, 448, 848],\n [414, 456, 310, 312, 798, 104, 566, 520, 302, 248, 694, 976, 430, 392, 198],\n [184, 829, 373, 181, 631, 101, 969, 613, 840, 740, 778, 458, 284, 760, 390],\n [821, 461, 843, 513, 17, 901, 711, 993, 293, 157, 274, 94, 192, 156, 574],\n [34, 124, 4, 878, 450, 476, 712, 914, 838, 669, 875, 299, 823, 329, 699],\n [815, 559, 813, 459, 522, 788, 168, 586, 966, 232, 308, 833, 251, 631, 107],\n [813, 883, 451, 509, 615, 77, 281, 613, 459, 205, 380, 274, 302, 35, 805]]"
     },
     "execution_count": 57,
     "metadata": {},
     "output_type": "execute_result"
    }
   ],
   "source": [
    "M_text = \"\"\"  7  53 183 439 863 497 383 563  79 973 287  63 343 169 583\n",
    "627 343 773 959 943 767 473 103 699 303 957 703 583 639 913\n",
    "447 283 463  29  23 487 463 993 119 883 327 493 423 159 743\n",
    "217 623   3 399 853 407 103 983  89 463 290 516 212 462 350\n",
    "960 376 682 962 300 780 486 502 912 800 250 346 172 812 350\n",
    "870 456 192 162 593 473 915  45 989 873 823 965 425 329 803\n",
    "973 965 905 919 133 673 665 235 509 613 673 815 165 992 326\n",
    "322 148 972 962 286 255 941 541 265 323 925 281 601  95 973\n",
    "445 721  11 525 473  65 511 164 138 672  18 428 154 448 848\n",
    "414 456 310 312 798 104 566 520 302 248 694 976 430 392 198\n",
    "184 829 373 181 631 101 969 613 840 740 778 458 284 760 390\n",
    "821 461 843 513  17 901 711 993 293 157 274  94 192 156 574\n",
    " 34 124   4 878 450 476 712 914 838 669 875 299 823 329 699\n",
    "815 559 813 459 522 788 168 586 966 232 308 833 251 631 107\n",
    "813 883 451 509 615  77 281 613 459 205 380 274 302  35 805\"\"\"\n",
    "M = [[int(m) for m in r.split()] for r in M_text.replace('  ', ' ').split('\\n')]\n",
    "M"
   ]
  },
  {
   "cell_type": "markdown",
   "source": [
    "### Iterate through $M$ row-wise and keep track of the maximal sum for each unique column combination in each iteration"
   ],
   "metadata": {
    "collapsed": false
   },
   "id": "767bfc25e029b72"
  },
  {
   "cell_type": "code",
   "execution_count": 58,
   "outputs": [
    {
     "data": {
      "text/plain": "13938"
     },
     "execution_count": 58,
     "metadata": {},
     "output_type": "execute_result"
    }
   ],
   "source": [
    "def matrix_sum(M):\n",
    "    dim = len(M)  # Assuming that M is a square matrix\n",
    "    if dim == 1:\n",
    "        return M[0][0]\n",
    "    initial_sums = [[M[0][i] + M[1][j]] + [k in (i, j) for k in range(dim)] for i in range(dim) for j in range(dim) if i != j]\n",
    "    M_sums_df = pd.DataFrame(initial_sums, columns=['s'] + list(range(dim)))\n",
    "    for i in range(2, dim):\n",
    "        M_sums_df = M_sums_df.groupby(list(range(dim)), as_index=False, sort=False).apply(lambda x: x[x.s == max(x.s)])\n",
    "        new_sums_df_list = []\n",
    "        for j in range(dim):\n",
    "            M_sums_df_copy = M_sums_df[M_sums_df[j] == False].copy()\n",
    "            M_sums_df_copy.s += M[i][j]\n",
    "            M_sums_df_copy[j] = True\n",
    "            new_sums_df_list.append(M_sums_df_copy)\n",
    "        M_sums_df = pd.concat(new_sums_df_list)\n",
    "        \n",
    "    return max(M_sums_df.s)\n",
    "\n",
    "matrix_sum(M)"
   ],
   "metadata": {
    "collapsed": false,
    "ExecuteTime": {
     "end_time": "2023-09-28T13:10:51.827452Z",
     "start_time": "2023-09-28T13:09:07.971523900Z"
    }
   },
   "id": "2976f80fe893bf6"
  }
 ],
 "metadata": {
  "kernelspec": {
   "display_name": "Python 3",
   "language": "python",
   "name": "python3"
  },
  "language_info": {
   "codemirror_mode": {
    "name": "ipython",
    "version": 2
   },
   "file_extension": ".py",
   "mimetype": "text/x-python",
   "name": "python",
   "nbconvert_exporter": "python",
   "pygments_lexer": "ipython2",
   "version": "2.7.6"
  }
 },
 "nbformat": 4,
 "nbformat_minor": 5
}
