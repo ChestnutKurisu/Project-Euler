{
 "cells": [
  {
   "cell_type": "markdown",
   "source": [
    "### First, observe that $(m-i+1)\\cdot(n-j+1)$ rectangles of size $i\\times j$ can be fit in a larger rectangle of size $m\\times n$, with $1\\leq i\\leq m$ and $1\\leq j\\leq n$. Hence, the total number of nested rectangles within a larger rectangle of size $m\\times n$ are $\\sum_{i=1}^m\\sum_{j=1}^n (m-i+1)\\cdot(n-j+1) = \\frac{mn(m+1)(n+1)}{4}$"
   ],
   "metadata": {
    "collapsed": false
   },
   "id": "b45be76b8949c934"
  },
  {
   "cell_type": "code",
   "execution_count": 4,
   "outputs": [
    {
     "data": {
      "text/plain": "2772"
     },
     "execution_count": 4,
     "metadata": {},
     "output_type": "execute_result"
    }
   ],
   "source": [
    "K, required_rectangles, min_diff, min_pair = 10 ** 3, 2 * 10 ** 6, -1, None\n",
    "\n",
    "rectangles_in_grid = lambda m, n: (m * n * (m + 1) * (n + 1)) // 4\n",
    "for m in range(1, K + 1):\n",
    "    for n in range(m, K + 1):  # Ensure that m ≤ n to prevent duplicate pair checking\n",
    "        distance_to_required = abs(rectangles_in_grid(m, n) - required_rectangles)\n",
    "        if min_diff == -1 or distance_to_required < min_diff:\n",
    "            min_diff = distance_to_required\n",
    "            min_pair = (m, n)\n",
    "\n",
    "min_pair[0] * min_pair[1]"
   ],
   "metadata": {
    "collapsed": false,
    "ExecuteTime": {
     "end_time": "2023-10-04T16:43:11.121462400Z",
     "start_time": "2023-10-04T16:43:11.025588600Z"
    }
   },
   "id": "cb41f9972f6a3f99"
  }
 ],
 "metadata": {
  "kernelspec": {
   "display_name": "Python 3",
   "language": "python",
   "name": "python3"
  },
  "language_info": {
   "codemirror_mode": {
    "name": "ipython",
    "version": 2
   },
   "file_extension": ".py",
   "mimetype": "text/x-python",
   "name": "python",
   "nbconvert_exporter": "python",
   "pygments_lexer": "ipython2",
   "version": "2.7.6"
  }
 },
 "nbformat": 4,
 "nbformat_minor": 5
}
