{
 "cells": [
  {
   "cell_type": "code",
   "execution_count": 21,
   "id": "initial_id",
   "metadata": {
    "collapsed": true,
    "ExecuteTime": {
     "end_time": "2023-09-26T16:54:27.931809700Z",
     "start_time": "2023-09-26T16:54:27.230634900Z"
    }
   },
   "outputs": [],
   "source": [
    "import itertools\n",
    "import math\n",
    "import pandas as pd\n",
    "import random"
   ]
  },
  {
   "cell_type": "code",
   "execution_count": 7,
   "outputs": [],
   "source": [
    "def fast_miller_rabin(n, use_probabilistic=False, tolerance=30):\n",
    "    \"\"\"\n",
    "    Tests whether a number is prime using a deterministic version of the Miller-\n",
    "    Rabin primality test. Optionally tests whether the specified number is a\n",
    "    prime probabilistically up to a given tolerance using the regular version of\n",
    "    the Miller-Rabin test. If the number is greater than 10^36, then all witnesses\n",
    "    in the range [2, 2*log(n)*log(log(n))] are tested. However, this is conjectural\n",
    "    and only heuristic evidence exists for it. To certify that a number is actually\n",
    "    prime, one needs to test all witnesses in the range [2, 2*log(n)^2]. However,\n",
    "    this is generally quite slow.\n",
    "    Arguments:\n",
    "        n (:int) - the integer to be tested\n",
    "        use_probabilistic (:bool) - flag to indicate whether to use the regular\n",
    "                                   version of the Miller-Rabin primality test\n",
    "        tolerance (:int) - number of trials to be used to test primality\n",
    "    Returns:\n",
    "        True if 'n' is prime (or probably prime) and False otherwise\n",
    "    References:\n",
    "        - Francky from the PE Forums\n",
    "        - https://miller-rabin.appspot.com/\n",
    "        - https://en.wikipedia.org/wiki/Miller-Rabin_primality_test\n",
    "    \"\"\"\n",
    "    firstPrime = [2, 3, 5, 7, 11, 13, 17, 19, 23, 29, 31, 37, 41, 43, 47, 53, 59, 61, 67, 71]\n",
    "    # Determine bases for deterministic Miller-Rabin test\n",
    "    if n >= 10 ** 36:\n",
    "        log_n = math.log(n)\n",
    "        if not use_probabilistic:\n",
    "            w = range(2, 2 * int(log_n * log(log_n) / log(2)))\n",
    "        else:\n",
    "            w = range(tolerance)\n",
    "    elif n >= 1543267864443420616877677640751301:\n",
    "        w = firstPrime[:20]\n",
    "    elif n >= 564132928021909221014087501701:\n",
    "        w = firstPrime[:18]\n",
    "    elif n >= 59276361075595573263446330101:\n",
    "        w = firstPrime[:16]\n",
    "    elif n >= 6003094289670105800312596501:\n",
    "        w = firstPrime[:15]\n",
    "    elif n >= 3317044064679887385961981:\n",
    "        w = firstPrime[:14]\n",
    "    elif n >= 318665857834031151167461:\n",
    "        w = firstPrime[:13]\n",
    "    elif n >= 3825123056546413051:\n",
    "        w = firstPrime[:12]\n",
    "    # [2, 3, 5, 7, 11, 13, 17, 19, 23]\n",
    "    elif n >= 341550071728321:\n",
    "        w = firstPrime[:9]\n",
    "    # [2, 3, 5, 7, 11, 13, 17]\n",
    "    elif n >= 3474749660383:\n",
    "        w = firstPrime[:7]\n",
    "    elif n >= 2152302898749:\n",
    "        w = firstPrime[:6]\n",
    "    # [2, 3, 5, 7, 11, 13]\n",
    "    elif n >= 4759123141:\n",
    "        w = firstPrime[:5]\n",
    "    # [2, 3, 5, 7, 11]\n",
    "    elif n >= 9006403:\n",
    "        w = [2, 7, 61]\n",
    "    elif n >= 489997:\n",
    "        # Some Fermat stuff\n",
    "        if n & 1 and n % 3 and n % 5 and n % 7 and n % 11 and n % 13 and n % 17 and n % 19 and n % 23 and n % 29 and n % 31 and n % 37 and n % 41 and n % 43 and n % 47 and n % 53 and n % 59 and n % 61 and n % 67 and n % 71 and n % 73 and n % 79 and n % 83 and n % 89 and n % 97 and n % 101:\n",
    "            hn, nm1 = n >> 1, n - 1\n",
    "            p = pow(2, hn, n)\n",
    "            if p == 1 or p == nm1:\n",
    "                p = pow(3, hn, n)\n",
    "                if p == 1 or p == nm1:\n",
    "                    p = pow(5, hn, n)\n",
    "                    return p == 1 or p == nm1\n",
    "        return False\n",
    "    elif n >= 42799:\n",
    "        return n & 1 and n % 3 and n % 5 and n % 7 and n % 11 and n % 13 and n % 17 and n % 19 and n % 23 and n % 29 and n % 31 and n % 37 and n % 41 and n % 43 and pow(2, n - 1, n) == 1 and pow(5, n - 1, n) == 1\n",
    "    elif n >= 841:\n",
    "        return n & 1 and n % 3 and n % 5 and n % 7 and n % 11 and n % 13 and n % 17 and n % 19 and n % 23 and n % 29 and n % 31 and n % 37 and n % 41 and n % 43 and n % 47 and n % 53 and n % 59 and n % 61 and n % 67 and n % 71 and n % 73 and n % 79 and n % 83 and n % 89 and n % 97 and n % 101 and n % 103 and pow(2, n - 1, n) == 1\n",
    "    elif n >= 25:\n",
    "        return n & 1 and n % 3 and n % 5 and n % 7 and n % 11 and n % 13 and n % 17 and n % 19 and n % 23\n",
    "    elif n >= 4:\n",
    "        return n & 1 and n % 3\n",
    "    else:\n",
    "        return n > 1\n",
    "    if not (n & 1 and n % 3 and n % 5 and n % 7 and n % 11 and n % 13 and n % 17\n",
    "            and n % 19 and n % 23 and n % 29 and n % 31 and n % 37 and n % 41 and n % 43\n",
    "            and n % 47 and n % 53 and n % 59 and n % 61 and n % 67 and n % 71 and n % 73\n",
    "            and n % 79 and n % 83 and n % 89):\n",
    "        return False\n",
    "    # Miller-Rabin\n",
    "    s = 0\n",
    "    d = n - 1\n",
    "    while not d & 1:\n",
    "        d >>= 1\n",
    "        s += 1\n",
    "    for k in w:\n",
    "        # Pick a random witness if probabilistic\n",
    "        if use_probabilistic:\n",
    "            p = random.randint(2, n - 2)\n",
    "        else:\n",
    "            p = k\n",
    "        x = pow(p, d, n)\n",
    "        if x == 1:\n",
    "            continue\n",
    "        for _ in range(s):\n",
    "            if x + 1 == n:\n",
    "                break\n",
    "            x = x * x % n\n",
    "        else:\n",
    "            return False\n",
    "    return True"
   ],
   "metadata": {
    "collapsed": false,
    "ExecuteTime": {
     "end_time": "2023-09-26T16:36:02.411424700Z",
     "start_time": "2023-09-26T16:36:02.407238200Z"
    }
   },
   "id": "f42f2c31e9f117b6"
  },
  {
   "cell_type": "markdown",
   "source": [
    "### Investigate if there exist any pandigital primes (with all digits $1,2,\\cdots,9$)"
   ],
   "metadata": {
    "collapsed": false
   },
   "id": "a2b8ebdb3f6d5f1f"
  },
  {
   "cell_type": "code",
   "execution_count": 17,
   "outputs": [
    {
     "data": {
      "text/plain": "[]"
     },
     "execution_count": 17,
     "metadata": {},
     "output_type": "execute_result"
    }
   ],
   "source": [
    "pandigital_primes = []\n",
    "for s in itertools.permutations('123456789'):\n",
    "    p = int(''.join(s))\n",
    "    if fast_miller_rabin(p):\n",
    "        pandigital_primes.append(p)\n",
    "        \n",
    "pandigital_primes"
   ],
   "metadata": {
    "collapsed": false,
    "ExecuteTime": {
     "end_time": "2023-09-26T16:40:18.772440700Z",
     "start_time": "2023-09-26T16:40:18.547139600Z"
    }
   },
   "id": "914a2bd5b2cf43ce"
  },
  {
   "cell_type": "markdown",
   "source": [
    "### Get all required primes $p$, with $2 \\leq p < 10^8$"
   ],
   "metadata": {
    "collapsed": false
   },
   "id": "711bbaa916d1899c"
  },
  {
   "cell_type": "code",
   "execution_count": 16,
   "outputs": [
    {
     "data": {
      "text/plain": "5761455"
     },
     "execution_count": 16,
     "metadata": {},
     "output_type": "execute_result"
    }
   ],
   "source": [
    "def rwh_primes2(n):\n",
    "    # https://stackoverflow.com/questions/2068372/fastest-way-to-list-all-primes-below-n-in-python/3035188#3035188\n",
    "    \"\"\" Input n>=6, Returns a list of primes, 2 <= p < n \"\"\"\n",
    "    n, correction = n - n % 6 + 6, 2 - (n % 6 > 1)\n",
    "    sieve = bytearray([True]) * (n // 3)\n",
    "    for i in range(1, int(n ** 0.5) // 3 + 1):\n",
    "        if sieve[i]:\n",
    "            k = 3 * i + 1 | 1\n",
    "            sieve[k * k // 3::2 * k] = bytearray([False]) * ((n // 6 - k * k // 6 - 1) // k + 1)\n",
    "            sieve[k * (k - 2 * (i & 1) + 4) // 3::2 * k] = bytearray([False]) * (\n",
    "                    (n // 6 - k * (k - 2 * (i & 1) + 4) // 6 - 1) // k + 1)\n",
    "    return [2, 3] + [3 * i + 1 | 1 for i in range(1, n // 3 - correction) if sieve[i]]\n",
    "\n",
    "list_of_primes = rwh_primes2(10 ** 8)\n",
    "len(list_of_primes)"
   ],
   "metadata": {
    "collapsed": false,
    "ExecuteTime": {
     "end_time": "2023-09-26T16:39:24.415984900Z",
     "start_time": "2023-09-26T16:39:22.924518Z"
    }
   },
   "id": "4737d197336049b5"
  },
  {
   "cell_type": "markdown",
   "source": [
    "### Filter down the list of primes obtained above to only those that have a single occurrence of digits $1,2,\\cdots,9$"
   ],
   "metadata": {
    "collapsed": false
   },
   "id": "90ff6b6a8970a499"
  },
  {
   "cell_type": "code",
   "execution_count": 47,
   "outputs": [
    {
     "data": {
      "text/plain": "43089"
     },
     "execution_count": 47,
     "metadata": {},
     "output_type": "execute_result"
    }
   ],
   "source": [
    "unique_digit_primes = [p for p in list_of_primes if (lambda s: len(s) == len(set(s)) and '0' not in s)(str(p))]\n",
    "len(unique_digit_primes)"
   ],
   "metadata": {
    "collapsed": false,
    "ExecuteTime": {
     "end_time": "2023-09-26T18:31:27.404102100Z",
     "start_time": "2023-09-26T18:31:25.406500200Z"
    }
   },
   "id": "d3bfe383faaecbda"
  },
  {
   "cell_type": "markdown",
   "source": [
    "### Create a matrix to indicate the digits that appear in each of the remaining primes"
   ],
   "metadata": {
    "collapsed": false
   },
   "id": "b27f8005b857b775"
  },
  {
   "cell_type": "code",
   "execution_count": 48,
   "outputs": [
    {
     "data": {
      "text/plain": "              p      1      2      3      4      5      6      7      8      9\n0             2  False   True  False  False  False  False  False  False  False\n1             3  False  False   True  False  False  False  False  False  False\n2             5  False  False  False  False   True  False  False  False  False\n3             7  False  False  False  False  False  False   True  False  False\n4            13   True  False   True  False  False  False  False  False  False\n...         ...    ...    ...    ...    ...    ...    ...    ...    ...    ...\n43084  98764153   True  False   True   True   True   True   True   True   True\n43085  98764321   True   True   True   True  False   True   True   True   True\n43086  98765143   True  False   True   True   True   True   True   True   True\n43087  98765413   True  False   True   True   True   True   True   True   True\n43088  98765431   True  False   True   True   True   True   True   True   True\n\n[43089 rows x 10 columns]",
      "text/html": "<div>\n<style scoped>\n    .dataframe tbody tr th:only-of-type {\n        vertical-align: middle;\n    }\n\n    .dataframe tbody tr th {\n        vertical-align: top;\n    }\n\n    .dataframe thead th {\n        text-align: right;\n    }\n</style>\n<table border=\"1\" class=\"dataframe\">\n  <thead>\n    <tr style=\"text-align: right;\">\n      <th></th>\n      <th>p</th>\n      <th>1</th>\n      <th>2</th>\n      <th>3</th>\n      <th>4</th>\n      <th>5</th>\n      <th>6</th>\n      <th>7</th>\n      <th>8</th>\n      <th>9</th>\n    </tr>\n  </thead>\n  <tbody>\n    <tr>\n      <th>0</th>\n      <td>2</td>\n      <td>False</td>\n      <td>True</td>\n      <td>False</td>\n      <td>False</td>\n      <td>False</td>\n      <td>False</td>\n      <td>False</td>\n      <td>False</td>\n      <td>False</td>\n    </tr>\n    <tr>\n      <th>1</th>\n      <td>3</td>\n      <td>False</td>\n      <td>False</td>\n      <td>True</td>\n      <td>False</td>\n      <td>False</td>\n      <td>False</td>\n      <td>False</td>\n      <td>False</td>\n      <td>False</td>\n    </tr>\n    <tr>\n      <th>2</th>\n      <td>5</td>\n      <td>False</td>\n      <td>False</td>\n      <td>False</td>\n      <td>False</td>\n      <td>True</td>\n      <td>False</td>\n      <td>False</td>\n      <td>False</td>\n      <td>False</td>\n    </tr>\n    <tr>\n      <th>3</th>\n      <td>7</td>\n      <td>False</td>\n      <td>False</td>\n      <td>False</td>\n      <td>False</td>\n      <td>False</td>\n      <td>False</td>\n      <td>True</td>\n      <td>False</td>\n      <td>False</td>\n    </tr>\n    <tr>\n      <th>4</th>\n      <td>13</td>\n      <td>True</td>\n      <td>False</td>\n      <td>True</td>\n      <td>False</td>\n      <td>False</td>\n      <td>False</td>\n      <td>False</td>\n      <td>False</td>\n      <td>False</td>\n    </tr>\n    <tr>\n      <th>...</th>\n      <td>...</td>\n      <td>...</td>\n      <td>...</td>\n      <td>...</td>\n      <td>...</td>\n      <td>...</td>\n      <td>...</td>\n      <td>...</td>\n      <td>...</td>\n      <td>...</td>\n    </tr>\n    <tr>\n      <th>43084</th>\n      <td>98764153</td>\n      <td>True</td>\n      <td>False</td>\n      <td>True</td>\n      <td>True</td>\n      <td>True</td>\n      <td>True</td>\n      <td>True</td>\n      <td>True</td>\n      <td>True</td>\n    </tr>\n    <tr>\n      <th>43085</th>\n      <td>98764321</td>\n      <td>True</td>\n      <td>True</td>\n      <td>True</td>\n      <td>True</td>\n      <td>False</td>\n      <td>True</td>\n      <td>True</td>\n      <td>True</td>\n      <td>True</td>\n    </tr>\n    <tr>\n      <th>43086</th>\n      <td>98765143</td>\n      <td>True</td>\n      <td>False</td>\n      <td>True</td>\n      <td>True</td>\n      <td>True</td>\n      <td>True</td>\n      <td>True</td>\n      <td>True</td>\n      <td>True</td>\n    </tr>\n    <tr>\n      <th>43087</th>\n      <td>98765413</td>\n      <td>True</td>\n      <td>False</td>\n      <td>True</td>\n      <td>True</td>\n      <td>True</td>\n      <td>True</td>\n      <td>True</td>\n      <td>True</td>\n      <td>True</td>\n    </tr>\n    <tr>\n      <th>43088</th>\n      <td>98765431</td>\n      <td>True</td>\n      <td>False</td>\n      <td>True</td>\n      <td>True</td>\n      <td>True</td>\n      <td>True</td>\n      <td>True</td>\n      <td>True</td>\n      <td>True</td>\n    </tr>\n  </tbody>\n</table>\n<p>43089 rows × 10 columns</p>\n</div>"
     },
     "execution_count": 48,
     "metadata": {},
     "output_type": "execute_result"
    }
   ],
   "source": [
    "unique_digit_primes_df = pd.DataFrame([[p, *[d in str(p) for d in '123456789']] for p in unique_digit_primes],\n",
    "                                      columns=['p'] + list('123456789'))\n",
    "unique_digit_primes_df.sort_values('p', inplace=True)\n",
    "unique_digit_primes_df"
   ],
   "metadata": {
    "collapsed": false,
    "ExecuteTime": {
     "end_time": "2023-09-26T18:31:29.270997500Z",
     "start_time": "2023-09-26T18:31:28.897961900Z"
    }
   },
   "id": "28833cbe8691e161"
  },
  {
   "cell_type": "markdown",
   "source": [
    "### Use a recursive algorithm to constructively generate all pandigital prime sets"
   ],
   "metadata": {
    "collapsed": false
   },
   "id": "9450b30126898d26"
  },
  {
   "cell_type": "code",
   "execution_count": 71,
   "outputs": [
    {
     "data": {
      "text/plain": "44680"
     },
     "execution_count": 71,
     "metadata": {},
     "output_type": "execute_result"
    }
   ],
   "source": [
    "def pandigital_prime_set_generator(current_sets):\n",
    "    if len(current_sets) == 0:\n",
    "        current_sets = [{p} for p in unique_digit_primes]\n",
    "    \n",
    "    new_current_sets = []\n",
    "    for cs in current_sets:\n",
    "        if len(''.join([str(p) for p in cs])) == 9:\n",
    "            new_current_sets.append(cs)\n",
    "            continue\n",
    "        \n",
    "        remaining_unique_digit_primes_df = unique_digit_primes_df.copy()\n",
    "        for p in cs:\n",
    "            for d in str(p):\n",
    "                remaining_unique_digit_primes_df = remaining_unique_digit_primes_df[remaining_unique_digit_primes_df[d] == False]\n",
    "                    \n",
    "        remaining_unique_digit_primes_df = remaining_unique_digit_primes_df.loc[unique_digit_primes_df[unique_digit_primes_df.p == max(cs)].index[0] + 1:]\n",
    "            \n",
    "        new_current_sets.extend([cs.union({p}) for p in remaining_unique_digit_primes_df.p])\n",
    "            \n",
    "    return new_current_sets\n",
    "    \n",
    "pandigital_prime_sets = pandigital_prime_set_generator([])\n",
    "# Iterating five times would add at most five additional prime numbers to any set, already containing two primes, from the first iteration above\n",
    "for i in range(5):\n",
    "    pandigital_prime_sets = pandigital_prime_set_generator(pandigital_prime_sets)\n",
    "    \n",
    "pandigital_prime_sets = [s for s in pandigital_prime_sets if len(''.join([str(p) for p in s])) == 9]\n",
    "len(pandigital_prime_sets)"
   ],
   "metadata": {
    "collapsed": false,
    "ExecuteTime": {
     "end_time": "2023-09-26T18:53:11.388549800Z",
     "start_time": "2023-09-26T18:50:32.947406200Z"
    }
   },
   "id": "1fa660f9c7b68622"
  }
 ],
 "metadata": {
  "kernelspec": {
   "display_name": "Python 3",
   "language": "python",
   "name": "python3"
  },
  "language_info": {
   "codemirror_mode": {
    "name": "ipython",
    "version": 2
   },
   "file_extension": ".py",
   "mimetype": "text/x-python",
   "name": "python",
   "nbconvert_exporter": "python",
   "pygments_lexer": "ipython2",
   "version": "2.7.6"
  }
 },
 "nbformat": 4,
 "nbformat_minor": 5
}
