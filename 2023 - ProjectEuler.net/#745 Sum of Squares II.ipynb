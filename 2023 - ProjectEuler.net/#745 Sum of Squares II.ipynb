{
 "cells": [
  {
   "cell_type": "code",
   "execution_count": 1,
   "outputs": [],
   "source": [
    "import functools\n",
    "import math \n",
    "import random"
   ],
   "metadata": {
    "collapsed": false,
    "ExecuteTime": {
     "end_time": "2023-09-28T00:48:38.979131800Z",
     "start_time": "2023-09-28T00:48:38.975855600Z"
    }
   },
   "id": "3885ab83af230aa3"
  },
  {
   "cell_type": "markdown",
   "source": [
    "### Get a sieve of all numbers $n$ to indicate whether they are prime, with $0 \\leq n \\leq 10^7$"
   ],
   "metadata": {
    "collapsed": false
   },
   "id": "40e94906d5f3de0f"
  },
  {
   "cell_type": "code",
   "execution_count": 2,
   "outputs": [],
   "source": [
    "def get_primes_eratosthenes_sieve(n):\n",
    "    is_prime = [1] * (n + 1)\n",
    "    p = 2\n",
    "    is_prime[0] = 0\n",
    "    is_prime[1] = 0\n",
    "    while p * p <= n:\n",
    "        if is_prime[p]:\n",
    "            for i in range(p * 2, n + 1, p):\n",
    "                is_prime[i] = 0\n",
    "        p += 1\n",
    "    prime_list = []\n",
    "    for i in range(n + 1):\n",
    "        if is_prime[i]:\n",
    "            prime_list.append(i)\n",
    "    return is_prime\n",
    "\n",
    "is_prime = get_primes_eratosthenes_sieve(10 ** 7)"
   ],
   "metadata": {
    "collapsed": false,
    "ExecuteTime": {
     "end_time": "2023-09-28T00:48:39.812121300Z",
     "start_time": "2023-09-28T00:48:38.980154600Z"
    }
   },
   "id": "6210952d2f152523"
  },
  {
   "cell_type": "markdown",
   "source": [
    "### Use Pollard's Rho algorithm for finding prime factorizations, and thereby the list of all divisors, for any $n$"
   ],
   "metadata": {
    "collapsed": false
   },
   "id": "b4bc6e6411e64134"
  },
  {
   "cell_type": "code",
   "execution_count": 3,
   "outputs": [],
   "source": [
    "def fast_miller_rabin(n, use_probabilistic=False, tolerance=30):\n",
    "    \"\"\"\n",
    "    Tests whether a number is prime using a deterministic version of the Miller-\n",
    "    Rabin primality test. Optionally tests whether the specified number is a\n",
    "    prime probabilistically up to a given tolerance using the regular version of\n",
    "    the Miller-Rabin test. If the number is greater than 10^36, then all witnesses\n",
    "    in the range [2, 2*log(n)*log(log(n))] are tested. However, this is conjectural\n",
    "    and only heuristic evidence exists for it. To certify that a number is actually\n",
    "    prime, one needs to test all witnesses in the range [2, 2*log(n)^2]. However,\n",
    "    this is generally quite slow.\n",
    "    Arguments:\n",
    "        n (:int) - the integer to be tested\n",
    "        use_probabilistic (:bool) - flag to indicate whether to use the regular\n",
    "                                   version of the Miller-Rabin primality test\n",
    "        tolerance (:int) - number of trials to be used to test primality\n",
    "    Returns:\n",
    "        True if 'n' is prime (or probably prime) and False otherwise\n",
    "    References:\n",
    "        - Francky from the PE Forums\n",
    "        - https://miller-rabin.appspot.com/\n",
    "        - https://en.wikipedia.org/wiki/Miller-Rabin_primality_test\n",
    "    \"\"\"\n",
    "    firstPrime = [2, 3, 5, 7, 11, 13, 17, 19, 23, 29, 31, 37, 41, 43, 47, 53, 59, 61, 67, 71]\n",
    "    # Determine bases for deterministic Miller-Rabin test\n",
    "    if n >= 10 ** 36:\n",
    "        log_n = math.log(n)\n",
    "        if not use_probabilistic:\n",
    "            w = range(2, 2 * int(log_n * math.log(log_n) / math.log(2)))\n",
    "        else:\n",
    "            w = range(tolerance)\n",
    "    elif n >= 1543267864443420616877677640751301:\n",
    "        w = firstPrime[:20]\n",
    "    elif n >= 564132928021909221014087501701:\n",
    "        w = firstPrime[:18]\n",
    "    elif n >= 59276361075595573263446330101:\n",
    "        w = firstPrime[:16]\n",
    "    elif n >= 6003094289670105800312596501:\n",
    "        w = firstPrime[:15]\n",
    "    elif n >= 3317044064679887385961981:\n",
    "        w = firstPrime[:14]\n",
    "    elif n >= 318665857834031151167461:\n",
    "        w = firstPrime[:13]\n",
    "    elif n >= 3825123056546413051:\n",
    "        w = firstPrime[:12]\n",
    "    # [2, 3, 5, 7, 11, 13, 17, 19, 23]\n",
    "    elif n >= 341550071728321:\n",
    "        w = firstPrime[:9]\n",
    "    # [2, 3, 5, 7, 11, 13, 17]\n",
    "    elif n >= 3474749660383:\n",
    "        w = firstPrime[:7]\n",
    "    elif n >= 2152302898749:\n",
    "        w = firstPrime[:6]\n",
    "    # [2, 3, 5, 7, 11, 13]\n",
    "    elif n >= 4759123141:\n",
    "        w = firstPrime[:5]\n",
    "    # [2, 3, 5, 7, 11]\n",
    "    elif n >= 9006403:\n",
    "        w = [2, 7, 61]\n",
    "    elif n >= 489997:\n",
    "        # Some Fermat stuff\n",
    "        if n & 1 and n % 3 and n % 5 and n % 7 and n % 11 and n % 13 and n % 17 and n % 19 and n % 23 and n % 29 and n % 31 and n % 37 and n % 41 and n % 43 and n % 47 and n % 53 and n % 59 and n % 61 and n % 67 and n % 71 and n % 73 and n % 79 and n % 83 and n % 89 and n % 97 and n % 101:\n",
    "            hn, nm1 = n >> 1, n - 1\n",
    "            p = pow(2, hn, n)\n",
    "            if p == 1 or p == nm1:\n",
    "                p = pow(3, hn, n)\n",
    "                if p == 1 or p == nm1:\n",
    "                    p = pow(5, hn, n)\n",
    "                    return p == 1 or p == nm1\n",
    "        return False\n",
    "    elif n >= 42799:\n",
    "        return n & 1 and n % 3 and n % 5 and n % 7 and n % 11 and n % 13 and n % 17 and n % 19 and n % 23 and n % 29 and n % 31 and n % 37 and n % 41 and n % 43 and pow(2, n - 1, n) == 1 and pow(5, n - 1, n) == 1\n",
    "    elif n >= 841:\n",
    "        return n & 1 and n % 3 and n % 5 and n % 7 and n % 11 and n % 13 and n % 17 and n % 19 and n % 23 and n % 29 and n % 31 and n % 37 and n % 41 and n % 43 and n % 47 and n % 53 and n % 59 and n % 61 and n % 67 and n % 71 and n % 73 and n % 79 and n % 83 and n % 89 and n % 97 and n % 101 and n % 103 and pow(2, n - 1, n) == 1\n",
    "    elif n >= 25:\n",
    "        return n & 1 and n % 3 and n % 5 and n % 7 and n % 11 and n % 13 and n % 17 and n % 19 and n % 23\n",
    "    elif n >= 4:\n",
    "        return n & 1 and n % 3\n",
    "    else:\n",
    "        return n > 1\n",
    "    if not (n & 1 and n % 3 and n % 5 and n % 7 and n % 11 and n % 13 and n % 17\n",
    "            and n % 19 and n % 23 and n % 29 and n % 31 and n % 37 and n % 41 and n % 43\n",
    "            and n % 47 and n % 53 and n % 59 and n % 61 and n % 67 and n % 71 and n % 73\n",
    "            and n % 79 and n % 83 and n % 89):\n",
    "        return False\n",
    "    # Miller-Rabin\n",
    "    s = 0\n",
    "    d = n - 1\n",
    "    while not d & 1:\n",
    "        d >>= 1\n",
    "        s += 1\n",
    "    for k in w:\n",
    "        # Pick a random witness if probabilistic\n",
    "        if use_probabilistic:\n",
    "            p = random.randint(2, n - 2)\n",
    "        else:\n",
    "            p = k\n",
    "        x = pow(p, d, n)\n",
    "        if x == 1:\n",
    "            continue\n",
    "        for _ in range(s):\n",
    "            if x + 1 == n:\n",
    "                break\n",
    "            x = x * x % n\n",
    "        else:\n",
    "            return False\n",
    "    return True\n",
    "\n",
    "\n",
    "# https://github.com/zhangbo2008/python_algorithm2/blob/c53669703b957a079f100c12711f86f5fc2f9389/algorithms/factorization/pollard_rho.py\n",
    "def pollard_rho_prime_factorization(x):\n",
    "    def f(x):\n",
    "        return x * x + 1\n",
    "\n",
    "    def rho(n, x1=2, x2=2):\n",
    "        if n % 2 == 0:\n",
    "            return 2\n",
    "        i = 0\n",
    "        while True:\n",
    "            x1 = f(x1) % n\n",
    "            x2 = f(f(x2)) % n\n",
    "            divisor = math.gcd(abs(x1 - x2), n)\n",
    "            i += 1\n",
    "            if divisor != 1:\n",
    "                break\n",
    "            if i > 500:\n",
    "                x1 = random.randint(1, 10)\n",
    "                x2 = random.randint(1, 10)\n",
    "                i = 0\n",
    "        return divisor\n",
    "\n",
    "    def pollard_rho_rec(x, factors):\n",
    "        if x == 1:\n",
    "            return\n",
    "\n",
    "        if x <= 10 ** 7:\n",
    "            if is_prime[x]:\n",
    "                factors.append(x)\n",
    "                return\n",
    "        elif fast_miller_rabin(x):\n",
    "            factors.append(x)\n",
    "            return\n",
    "\n",
    "        divisor = rho(x, random.randint(1, 10), random.randint(1, 10))\n",
    "        pollard_rho_rec(divisor, factors)\n",
    "        pollard_rho_rec(x // divisor, factors)\n",
    "\n",
    "    if x == 1 or x == 0:\n",
    "        return [(x, 1)]\n",
    "    factors = []\n",
    "    pollard_rho_rec(x, factors)\n",
    "    return [(f, factors.count(f)) for f in set(factors)]\n",
    "\n",
    "def divisor_list(n):\n",
    "    # https://stackoverflow.com/questions/171765/what-is-the-best-way-to-get-all-the-divisors-of-a-number\n",
    "    factors = pollard_rho_prime_factorization(n)\n",
    "    num_factors = len(factors)\n",
    "    f = [0] * num_factors\n",
    "    while True:\n",
    "        yield functools.reduce(lambda x, y: x * y, [factors[x][0] ** f[x] for x in range(num_factors)], 1)\n",
    "        i = 0\n",
    "        while True:\n",
    "            f[i] += 1\n",
    "            if f[i] <= factors[i][1]:\n",
    "                break\n",
    "            f[i] = 0\n",
    "            i += 1\n",
    "            if i >= num_factors:\n",
    "                return"
   ],
   "metadata": {
    "collapsed": false,
    "ExecuteTime": {
     "end_time": "2023-09-28T00:48:39.862794800Z",
     "start_time": "2023-09-28T00:48:39.812121300Z"
    }
   },
   "id": "8e2659a7dba18289"
  },
  {
   "cell_type": "markdown",
   "source": [
    "### Idea behind an algorithm to compute $S(N)$ is to iterate squares in descending order starting from the maximal possible value and keeping track of the positions occupied by it in place of its divisor squares"
   ],
   "metadata": {
    "collapsed": false
   },
   "id": "72df4bcee233468e"
  },
  {
   "cell_type": "code",
   "execution_count": 4,
   "outputs": [],
   "source": [
    "def S(N):\n",
    "    max_square_sum = 0\n",
    "    max_squares_occupied_by_higher_numbers = {n: 0 for n in range(1, int(N ** 0.5) + 1)}\n",
    "    for m in range(int(N ** 0.5), 0, -1):\n",
    "        m_2 = m * m\n",
    "        m_max_squares_frequency = N // m_2 - max_squares_occupied_by_higher_numbers[m]\n",
    "        max_square_sum += m_max_squares_frequency * m_2\n",
    "        divisors = sorted(divisor_list(m))[:-1]\n",
    "        for d in divisors:\n",
    "            max_squares_occupied_by_higher_numbers[d] += m_max_squares_frequency\n",
    "            \n",
    "        # Display progress of function execution for large values of N\n",
    "        if m % (10 ** 5) == 0:\n",
    "            print('Progress:', (int(N ** 0.5) - m) // (10 ** 5) + 1, '%', end='\\r', flush=True)\n",
    "            \n",
    "    return max_square_sum"
   ],
   "metadata": {
    "collapsed": false,
    "ExecuteTime": {
     "end_time": "2023-09-28T00:49:19.003773100Z",
     "start_time": "2023-09-28T00:49:19.001763Z"
    }
   },
   "id": "cc582bfdff9986a"
  },
  {
   "cell_type": "code",
   "execution_count": 5,
   "outputs": [
    {
     "name": "stdout",
     "output_type": "stream",
     "text": [
      "Progress: 100 %\r"
     ]
    },
    {
     "data": {
      "text/plain": "94586478"
     },
     "execution_count": 5,
     "metadata": {},
     "output_type": "execute_result"
    }
   ],
   "source": [
    "S(10 ** 14) % (10 ** 9 + 7)"
   ],
   "metadata": {
    "collapsed": false,
    "ExecuteTime": {
     "end_time": "2023-09-28T00:57:32.063832Z",
     "start_time": "2023-09-28T00:49:22.782077800Z"
    }
   },
   "id": "7de480c9fe34cc34"
  }
 ],
 "metadata": {
  "kernelspec": {
   "display_name": "Python 3",
   "language": "python",
   "name": "python3"
  },
  "language_info": {
   "codemirror_mode": {
    "name": "ipython",
    "version": 2
   },
   "file_extension": ".py",
   "mimetype": "text/x-python",
   "name": "python",
   "nbconvert_exporter": "python",
   "pygments_lexer": "ipython2",
   "version": "2.7.6"
  }
 },
 "nbformat": 4,
 "nbformat_minor": 5
}
