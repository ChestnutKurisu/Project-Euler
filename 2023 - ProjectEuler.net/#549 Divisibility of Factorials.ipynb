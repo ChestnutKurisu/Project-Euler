{
 "cells": [
  {
   "cell_type": "code",
   "execution_count": 1,
   "outputs": [],
   "source": [
    "import math \n",
    "import random"
   ],
   "metadata": {
    "collapsed": false,
    "ExecuteTime": {
     "end_time": "2023-09-28T17:50:51.623816900Z",
     "start_time": "2023-09-28T17:50:51.620465500Z"
    }
   },
   "id": "f85942b20b0a8cc7"
  },
  {
   "cell_type": "markdown",
   "source": [
    "### Get a sieve of all numbers $n$ to indicate whether they are prime, with $0 \\leq n \\leq 10^8$"
   ],
   "metadata": {
    "collapsed": false
   },
   "id": "e165ca289e31bf88"
  },
  {
   "cell_type": "code",
   "execution_count": 2,
   "outputs": [],
   "source": [
    "def get_primes_eratosthenes_sieve(n):\n",
    "    is_prime = [1] * (n + 1)\n",
    "    p = 2\n",
    "    is_prime[0] = 0\n",
    "    is_prime[1] = 0\n",
    "    while p * p <= n:\n",
    "        if is_prime[p]:\n",
    "            for i in range(p * 2, n + 1, p):\n",
    "                is_prime[i] = 0\n",
    "        p += 1\n",
    "    prime_list = []\n",
    "    for i in range(n + 1):\n",
    "        if is_prime[i]:\n",
    "            prime_list.append(i)\n",
    "    return is_prime\n",
    "\n",
    "is_prime = get_primes_eratosthenes_sieve(10 ** 8)"
   ],
   "metadata": {
    "collapsed": false,
    "ExecuteTime": {
     "end_time": "2023-09-28T17:51:00.435023800Z",
     "start_time": "2023-09-28T17:50:51.624812400Z"
    }
   },
   "id": "3c0891e787d332ab"
  },
  {
   "cell_type": "markdown",
   "source": [
    "### Use Pollard's Rho algorithm for finding prime factorizations for any $n$"
   ],
   "metadata": {
    "collapsed": false
   },
   "id": "49833835044f5345"
  },
  {
   "cell_type": "code",
   "execution_count": 3,
   "outputs": [],
   "source": [
    "# https://github.com/zhangbo2008/python_algorithm2/blob/c53669703b957a079f100c12711f86f5fc2f9389/algorithms/factorization/pollard_rho.py\n",
    "def pollard_rho_prime_factorization(x):\n",
    "    def f(x):\n",
    "        return x * x + 1\n",
    "\n",
    "    def rho(n, x1=2, x2=2):\n",
    "        if n % 2 == 0:\n",
    "            return 2\n",
    "        i = 0\n",
    "        while True:\n",
    "            x1 = f(x1) % n\n",
    "            x2 = f(f(x2)) % n\n",
    "            divisor = math.gcd(abs(x1 - x2), n)\n",
    "            i += 1\n",
    "            if divisor != 1:\n",
    "                break\n",
    "            if i > 500:\n",
    "                x1 = random.randint(1, 10)\n",
    "                x2 = random.randint(1, 10)\n",
    "                i = 0\n",
    "        return divisor\n",
    "\n",
    "    def pollard_rho_rec(x, factors):\n",
    "        if x == 1:\n",
    "            return\n",
    "\n",
    "        if is_prime[x]:\n",
    "            factors.append(x)\n",
    "            return\n",
    "\n",
    "        divisor = rho(x, random.randint(1, 10), random.randint(1, 10))\n",
    "        pollard_rho_rec(divisor, factors)\n",
    "        pollard_rho_rec(x // divisor, factors)\n",
    "\n",
    "    if x == 1 or x == 0:\n",
    "        return [(x, 1)]\n",
    "    factors = []\n",
    "    pollard_rho_rec(x, factors)\n",
    "    return [(f, factors.count(f)) for f in set(factors)]"
   ],
   "metadata": {
    "collapsed": false,
    "ExecuteTime": {
     "end_time": "2023-09-28T17:51:00.440383300Z",
     "start_time": "2023-09-28T17:51:00.437058400Z"
    }
   },
   "id": "a9253e846fc3a585"
  },
  {
   "cell_type": "code",
   "execution_count": 4,
   "outputs": [],
   "source": [
    "def prime_count(n, p):\n",
    "    d = 0\n",
    "    while n % p == 0:\n",
    "        d += 1\n",
    "        n /= p\n",
    "    return d"
   ],
   "metadata": {
    "collapsed": false,
    "ExecuteTime": {
     "end_time": "2023-09-28T17:51:00.448077500Z",
     "start_time": "2023-09-28T17:51:00.441437500Z"
    }
   },
   "id": "b362f4bc900dbd67"
  },
  {
   "cell_type": "code",
   "execution_count": 7,
   "outputs": [],
   "source": [
    "def s(n):\n",
    "    prime_factorization = pollard_rho_prime_factorization(n)\n",
    "    def count_min_p_occurrences(p, exponent):\n",
    "        guess = p * exponent\n",
    "        total_p_multiplied, i = 0, 1\n",
    "        while (i - 1) * math.log(p) - math.log(exponent) <= 0:  # p * exponent >= p ** i\n",
    "            total_p_multiplied += guess // (p ** i)  # Using Legendre's formula\n",
    "            i += 1\n",
    "            \n",
    "        # Reduce initial guess to remove the extra buffer of p factors (total_p_multiplied - exponent)\n",
    "        while True:\n",
    "            pc = prime_count(guess, p)\n",
    "            if total_p_multiplied - pc < exponent:\n",
    "                break\n",
    "            guess -= p\n",
    "            total_p_multiplied -= pc\n",
    "            \n",
    "        return guess\n",
    "        \n",
    "    # TODO: this is recalculating s(p^k) multiple times which can be avoided\n",
    "    return max([count_min_p_occurrences(p, exponent) for p, exponent in prime_factorization])\n",
    "\n",
    "def S(n):\n",
    "    sum_s = 0\n",
    "    for i in range(2, n + 1):\n",
    "        sum_s += s(i)\n",
    "        \n",
    "        # Display progress of function execution for large values of N\n",
    "        # Note: takes 1 hour 40 minutes to run for n = 10^8\n",
    "        if i % (10 ** 6) == 0:\n",
    "            print('Progress:', i // (10 ** 6), '%', end='\\r', flush=True)\n",
    "            \n",
    "    return sum_s"
   ],
   "metadata": {
    "collapsed": false,
    "ExecuteTime": {
     "end_time": "2023-09-28T17:51:49.884536600Z",
     "start_time": "2023-09-28T17:51:49.880473100Z"
    }
   },
   "id": "29d943da2c79ee2e"
  },
  {
   "cell_type": "code",
   "execution_count": 8,
   "outputs": [
    {
     "name": "stdout",
     "output_type": "stream",
     "text": [
      "Progress: 100 %\r"
     ]
    },
    {
     "data": {
      "text/plain": "476001479068717"
     },
     "execution_count": 8,
     "metadata": {},
     "output_type": "execute_result"
    }
   ],
   "source": [
    "S(10 ** 8)"
   ],
   "metadata": {
    "collapsed": false,
    "ExecuteTime": {
     "end_time": "2023-09-28T19:32:48.654392300Z",
     "start_time": "2023-09-28T17:51:50.380194Z"
    }
   },
   "id": "e4bc116f2e7f6f10"
  }
 ],
 "metadata": {
  "kernelspec": {
   "display_name": "Python 3",
   "language": "python",
   "name": "python3"
  },
  "language_info": {
   "codemirror_mode": {
    "name": "ipython",
    "version": 2
   },
   "file_extension": ".py",
   "mimetype": "text/x-python",
   "name": "python",
   "nbconvert_exporter": "python",
   "pygments_lexer": "ipython2",
   "version": "2.7.6"
  }
 },
 "nbformat": 4,
 "nbformat_minor": 5
}
