{
 "cells": [
  {
   "cell_type": "code",
   "execution_count": 8,
   "outputs": [],
   "source": [
    "import pandas as pd"
   ],
   "metadata": {
    "collapsed": false,
    "ExecuteTime": {
     "end_time": "2023-10-03T07:42:30.767656700Z",
     "start_time": "2023-10-03T07:42:30.214336400Z"
    }
   },
   "id": "2b215776dcb1d32a"
  },
  {
   "cell_type": "markdown",
   "source": [
    "### Compute all 4-digit polygonal (triangle, square, pentagonal, hexagonal, heptagonal, octagonal) numbers $1000\\leq P_{m,\\,n}\\leq 9999$, with $3\\leq m≤8$"
   ],
   "metadata": {
    "collapsed": false
   },
   "id": "1620e53759125e91"
  },
  {
   "cell_type": "code",
   "execution_count": 9,
   "id": "initial_id",
   "metadata": {
    "collapsed": true,
    "ExecuteTime": {
     "end_time": "2023-10-03T07:42:32.330383100Z",
     "start_time": "2023-10-03T07:42:32.318565Z"
    }
   },
   "outputs": [
    {
     "name": "stdout",
     "output_type": "stream",
     "text": [
      "{3: [1035, 1081, 1128, 1176, 1225, 1275, 1326, 1378, 1431, 1485, 1540, 1596, 1653, 1711, 1770, 1830, 1891, 1953, 2016, 2080, 2145, 2211, 2278, 2346, 2415, 2485, 2556, 2628, 2701, 2775, 2850, 2926, 3003, 3081, 3160, 3240, 3321, 3403, 3486, 3570, 3655, 3741, 3828, 3916, 4005, 4095, 4186, 4278, 4371, 4465, 4560, 4656, 4753, 4851, 4950, 5050, 5151, 5253, 5356, 5460, 5565, 5671, 5778, 5886, 5995, 6105, 6216, 6328, 6441, 6555, 6670, 6786, 6903, 7021, 7140, 7260, 7381, 7503, 7626, 7750, 7875, 8001, 8128, 8256, 8385, 8515, 8646, 8778, 8911, 9045, 9180, 9316, 9453, 9591, 9730, 9870], 4: [1024, 1089, 1156, 1225, 1296, 1369, 1444, 1521, 1600, 1681, 1764, 1849, 1936, 2025, 2116, 2209, 2304, 2401, 2500, 2601, 2704, 2809, 2916, 3025, 3136, 3249, 3364, 3481, 3600, 3721, 3844, 3969, 4096, 4225, 4356, 4489, 4624, 4761, 4900, 5041, 5184, 5329, 5476, 5625, 5776, 5929, 6084, 6241, 6400, 6561, 6724, 6889, 7056, 7225, 7396, 7569, 7744, 7921, 8100, 8281, 8464, 8649, 8836, 9025, 9216, 9409, 9604, 9801], 5: [1001, 1080, 1162, 1247, 1335, 1426, 1520, 1617, 1717, 1820, 1926, 2035, 2147, 2262, 2380, 2501, 2625, 2752, 2882, 3015, 3151, 3290, 3432, 3577, 3725, 3876, 4030, 4187, 4347, 4510, 4676, 4845, 5017, 5192, 5370, 5551, 5735, 5922, 6112, 6305, 6501, 6700, 6902, 7107, 7315, 7526, 7740, 7957, 8177, 8400, 8626, 8855, 9087, 9322, 9560, 9801], 6: [1035, 1128, 1225, 1326, 1431, 1540, 1653, 1770, 1891, 2016, 2145, 2278, 2415, 2556, 2701, 2850, 3003, 3160, 3321, 3486, 3655, 3828, 4005, 4186, 4371, 4560, 4753, 4950, 5151, 5356, 5565, 5778, 5995, 6216, 6441, 6670, 6903, 7140, 7381, 7626, 7875, 8128, 8385, 8646, 8911, 9180, 9453, 9730], 7: [1071, 1177, 1288, 1404, 1525, 1651, 1782, 1918, 2059, 2205, 2356, 2512, 2673, 2839, 3010, 3186, 3367, 3553, 3744, 3940, 4141, 4347, 4558, 4774, 4995, 5221, 5452, 5688, 5929, 6175, 6426, 6682, 6943, 7209, 7480, 7756, 8037, 8323, 8614, 8910, 9211, 9517, 9828], 8: [1045, 1160, 1281, 1408, 1541, 1680, 1825, 1976, 2133, 2296, 2465, 2640, 2821, 3008, 3201, 3400, 3605, 3816, 4033, 4256, 4485, 4720, 4961, 5208, 5461, 5720, 5985, 6256, 6533, 6816, 7105, 7400, 7701, 8008, 8321, 8640, 8965, 9296, 9633, 9976]}\n"
     ]
    }
   ],
   "source": [
    "polygonal = {m: [n * ((m - 2) * n - (m - 4)) // 2 for n in range(1, 1000) if len(str(n * ((m - 2) * n - (m - 4)) // 2)) == 4] for m in range(3, 8 + 1)}\n",
    "print(polygonal)"
   ]
  },
  {
   "cell_type": "code",
   "execution_count": 13,
   "outputs": [
    {
     "data": {
      "text/plain": "       n  m start end\n0   1035  3    10  35\n1   1081  3    10  81\n2   1128  3    11  28\n3   1176  3    11  76\n4   1225  3    12  25\n..   ... ..   ...  ..\n35  8640  8    86  40\n36  8965  8    89  65\n37  9296  8    92  96\n38  9633  8    96  33\n39  9976  8    99  76\n\n[351 rows x 4 columns]",
      "text/html": "<div>\n<style scoped>\n    .dataframe tbody tr th:only-of-type {\n        vertical-align: middle;\n    }\n\n    .dataframe tbody tr th {\n        vertical-align: top;\n    }\n\n    .dataframe thead th {\n        text-align: right;\n    }\n</style>\n<table border=\"1\" class=\"dataframe\">\n  <thead>\n    <tr style=\"text-align: right;\">\n      <th></th>\n      <th>n</th>\n      <th>m</th>\n      <th>start</th>\n      <th>end</th>\n    </tr>\n  </thead>\n  <tbody>\n    <tr>\n      <th>0</th>\n      <td>1035</td>\n      <td>3</td>\n      <td>10</td>\n      <td>35</td>\n    </tr>\n    <tr>\n      <th>1</th>\n      <td>1081</td>\n      <td>3</td>\n      <td>10</td>\n      <td>81</td>\n    </tr>\n    <tr>\n      <th>2</th>\n      <td>1128</td>\n      <td>3</td>\n      <td>11</td>\n      <td>28</td>\n    </tr>\n    <tr>\n      <th>3</th>\n      <td>1176</td>\n      <td>3</td>\n      <td>11</td>\n      <td>76</td>\n    </tr>\n    <tr>\n      <th>4</th>\n      <td>1225</td>\n      <td>3</td>\n      <td>12</td>\n      <td>25</td>\n    </tr>\n    <tr>\n      <th>...</th>\n      <td>...</td>\n      <td>...</td>\n      <td>...</td>\n      <td>...</td>\n    </tr>\n    <tr>\n      <th>35</th>\n      <td>8640</td>\n      <td>8</td>\n      <td>86</td>\n      <td>40</td>\n    </tr>\n    <tr>\n      <th>36</th>\n      <td>8965</td>\n      <td>8</td>\n      <td>89</td>\n      <td>65</td>\n    </tr>\n    <tr>\n      <th>37</th>\n      <td>9296</td>\n      <td>8</td>\n      <td>92</td>\n      <td>96</td>\n    </tr>\n    <tr>\n      <th>38</th>\n      <td>9633</td>\n      <td>8</td>\n      <td>96</td>\n      <td>33</td>\n    </tr>\n    <tr>\n      <th>39</th>\n      <td>9976</td>\n      <td>8</td>\n      <td>99</td>\n      <td>76</td>\n    </tr>\n  </tbody>\n</table>\n<p>351 rows × 4 columns</p>\n</div>"
     },
     "execution_count": 13,
     "metadata": {},
     "output_type": "execute_result"
    }
   ],
   "source": [
    "polygonal_df = pd.concat([pd.DataFrame(data={'n': polygonal[m], 'm': [m] * len(polygonal[m])}) for m in polygonal])\n",
    "polygonal_df['start'], polygonal_df['end'] = polygonal_df.n.astype('string').str[:2], polygonal_df.n.astype('string').str[-2:]\n",
    "polygonal_df"
   ],
   "metadata": {
    "collapsed": false,
    "ExecuteTime": {
     "end_time": "2023-10-03T07:47:14.012451400Z",
     "start_time": "2023-10-03T07:47:13.955367700Z"
    }
   },
   "id": "89c9710de3186fa4"
  },
  {
   "cell_type": "code",
   "execution_count": 38,
   "outputs": [
    {
     "data": {
      "text/plain": "([1281, 2512, 2882, 5625, 8128, 8256], 28684)"
     },
     "execution_count": 38,
     "metadata": {},
     "output_type": "execute_result"
    }
   ],
   "source": [
    "cyclic_polygonal_df = polygonal_df.rename(columns={col: f'{col}_0' for col in polygonal_df.columns})\n",
    "cyclic_polygonal_df['cumulative_m'] = cyclic_polygonal_df.m_0.apply(lambda m: [m])\n",
    "for i in range(5):\n",
    "    cyclic_polygonal_df = pd.merge(cyclic_polygonal_df, polygonal_df.rename(columns={col: f'{col}_{i + 1}' for col in polygonal_df.columns}), left_on=f'end_{i}', right_on=f'start_{i + 1}')\n",
    "    cyclic_polygonal_df = cyclic_polygonal_df[cyclic_polygonal_df.apply(lambda r: r[f'm_{i + 1}'] not in r['cumulative_m'], axis=1)]\n",
    "    cyclic_polygonal_df['cumulative_m'] = cyclic_polygonal_df.apply(lambda r: r['cumulative_m'] + [r[f'm_{i + 1}']], axis=1)\n",
    "\n",
    "# Ensure that each combination found is entirely cyclic with the first and last elements fitting the required criterion as well\n",
    "cyclic_polygonal_df = cyclic_polygonal_df[cyclic_polygonal_df.end_5 == cyclic_polygonal_df.start_0]\n",
    "\n",
    "unique_combination = cyclic_polygonal_df.apply(lambda r: sorted([int(r[f'n_{i}']) for i in range(6)]), axis=1).drop_duplicates().iloc[0]\n",
    "unique_combination, sum(unique_combination)"
   ],
   "metadata": {
    "collapsed": false,
    "ExecuteTime": {
     "end_time": "2023-10-03T08:12:10.722752800Z",
     "start_time": "2023-10-03T08:12:10.468030300Z"
    }
   },
   "id": "2161667b5aff2e51"
  }
 ],
 "metadata": {
  "kernelspec": {
   "display_name": "Python 3",
   "language": "python",
   "name": "python3"
  },
  "language_info": {
   "codemirror_mode": {
    "name": "ipython",
    "version": 2
   },
   "file_extension": ".py",
   "mimetype": "text/x-python",
   "name": "python",
   "nbconvert_exporter": "python",
   "pygments_lexer": "ipython2",
   "version": "2.7.6"
  }
 },
 "nbformat": 4,
 "nbformat_minor": 5
}
