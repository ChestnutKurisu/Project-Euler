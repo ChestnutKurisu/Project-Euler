{
 "cells": [
  {
   "cell_type": "markdown",
   "source": [
    "#### Compute the pentagonal numbers $P_{5,\\,m} = \\frac{3m^2-m}{2}$ and then use the recurrence relation obtained from Euler's pentagonal number theorem: $p(n)=p(n-1)+p(n-2)-p(n-5)-p(n-7)+\\cdots=\\sum_{k\\neq0}(-1)^{k-1}p(n-g_k)$, where $g_k$ is the $k^{\\text{th}}$ generalized pentagonal number.\n",
    "References:\n",
    "1. [A000041 - a(n) is the number of partitions of n (the partition numbers).](https://oeis.org/A000041)\n",
    "2. [Partition (number theory)](https://en.wikipedia.org/wiki/Partition_(number_theory))\n",
    "3. [Pentagonal number theorem](https://en.wikipedia.org/wiki/Pentagonal_number_theorem)"
   ],
   "metadata": {
    "collapsed": false
   },
   "id": "6339a2e934535394"
  },
  {
   "cell_type": "code",
   "execution_count": 45,
   "outputs": [
    {
     "name": "stdout",
     "output_type": "stream",
     "text": [
      "55374\n"
     ]
    }
   ],
   "source": [
    "M = 10 ** 6\n",
    "p = {0: 1, 1: 1}\n",
    "generalized_pentagonal_numbers = {(3 * n * n - n) // 2: n for n in range(-(10 ** 6), 10 ** 6)}\n",
    "generalized_pentagonal_numbers = {k: generalized_pentagonal_numbers[k] for k in sorted(generalized_pentagonal_numbers.keys())}\n",
    "m = 2\n",
    "while True:\n",
    "    p[m] = 0\n",
    "    for k in generalized_pentagonal_numbers:\n",
    "        if k == 0:\n",
    "            continue\n",
    "        if k > m:\n",
    "            break\n",
    "        p[m] += (-1 if generalized_pentagonal_numbers[k] % 2 == 0 else 1) * p[m - k]\n",
    "    if p[m] % M == 0:\n",
    "        print(m)\n",
    "        break\n",
    "    p[m] %= M\n",
    "    m += 1"
   ],
   "metadata": {
    "collapsed": false,
    "ExecuteTime": {
     "end_time": "2023-10-05T00:20:02.924388700Z",
     "start_time": "2023-10-05T00:19:59.591407400Z"
    }
   },
   "id": "aa6e8ea7baba741e"
  }
 ],
 "metadata": {
  "kernelspec": {
   "display_name": "Python 3",
   "language": "python",
   "name": "python3"
  },
  "language_info": {
   "codemirror_mode": {
    "name": "ipython",
    "version": 2
   },
   "file_extension": ".py",
   "mimetype": "text/x-python",
   "name": "python",
   "nbconvert_exporter": "python",
   "pygments_lexer": "ipython2",
   "version": "2.7.6"
  }
 },
 "nbformat": 4,
 "nbformat_minor": 5
}
