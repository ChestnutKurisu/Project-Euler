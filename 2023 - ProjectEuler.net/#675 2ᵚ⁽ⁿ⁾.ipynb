{
 "cells": [
  {
   "cell_type": "code",
   "execution_count": 1,
   "outputs": [],
   "source": [
    "import collections\n",
    "import math\n",
    "import random"
   ],
   "metadata": {
    "collapsed": false,
    "ExecuteTime": {
     "end_time": "2023-09-29T22:30:10.836702800Z",
     "start_time": "2023-09-29T22:30:10.833924600Z"
    }
   },
   "id": "64307e51660e1006"
  },
  {
   "cell_type": "markdown",
   "source": [
    "### Get a sieve of all numbers $n$ to indicate whether they are prime, with $0 \\leq n \\leq 10^7$"
   ],
   "metadata": {
    "collapsed": false
   },
   "id": "7c418a27f4d97b90"
  },
  {
   "cell_type": "code",
   "execution_count": 2,
   "outputs": [],
   "source": [
    "def get_primes_eratosthenes_sieve(n):\n",
    "    is_prime = [1] * (n + 1)\n",
    "    p = 2\n",
    "    is_prime[0] = 0\n",
    "    is_prime[1] = 0\n",
    "    while p * p <= n:\n",
    "        if is_prime[p]:\n",
    "            for i in range(p * 2, n + 1, p):\n",
    "                is_prime[i] = 0\n",
    "        p += 1\n",
    "    prime_list = []\n",
    "    for i in range(n + 1):\n",
    "        if is_prime[i]:\n",
    "            prime_list.append(i)\n",
    "    return is_prime\n",
    "\n",
    "is_prime = get_primes_eratosthenes_sieve(10 ** 7)"
   ],
   "metadata": {
    "collapsed": false,
    "ExecuteTime": {
     "end_time": "2023-09-29T22:30:11.893217Z",
     "start_time": "2023-09-29T22:30:11.096866500Z"
    }
   },
   "id": "4d9d6a85f9686b22"
  },
  {
   "cell_type": "markdown",
   "source": [
    "### Use Pollard's Rho algorithm for finding prime factorizations for any $n$"
   ],
   "metadata": {
    "collapsed": false
   },
   "id": "20ee0711df4aa52d"
  },
  {
   "cell_type": "code",
   "execution_count": 3,
   "outputs": [],
   "source": [
    "# https://github.com/zhangbo2008/python_algorithm2/blob/c53669703b957a079f100c12711f86f5fc2f9389/algorithms/factorization/pollard_rho.py\n",
    "def pollard_rho_prime_factorization(x):\n",
    "    def f(x):\n",
    "        return x * x + 1\n",
    "\n",
    "    def rho(n, x1=2, x2=2):\n",
    "        if n % 2 == 0:\n",
    "            return 2\n",
    "        i = 0\n",
    "        while True:\n",
    "            x1 = f(x1) % n\n",
    "            x2 = f(f(x2)) % n\n",
    "            divisor = math.gcd(abs(x1 - x2), n)\n",
    "            i += 1\n",
    "            if divisor != 1:\n",
    "                break\n",
    "            if i > 500:\n",
    "                x1 = random.randint(1, 10)\n",
    "                x2 = random.randint(1, 10)\n",
    "                i = 0\n",
    "        return divisor\n",
    "\n",
    "    def pollard_rho_rec(x, factors):\n",
    "        if x == 1:\n",
    "            return\n",
    "\n",
    "        if is_prime[x]:\n",
    "            factors.append(x)\n",
    "            return\n",
    "\n",
    "        divisor = rho(x, random.randint(1, 10), random.randint(1, 10))\n",
    "        pollard_rho_rec(divisor, factors)\n",
    "        pollard_rho_rec(x // divisor, factors)\n",
    "\n",
    "    if x == 1 or x == 0:\n",
    "        return [(x, 1)]\n",
    "    factors = []\n",
    "    pollard_rho_rec(x, factors)\n",
    "    return collections.Counter(factors)"
   ],
   "metadata": {
    "collapsed": false,
    "ExecuteTime": {
     "end_time": "2023-09-29T22:30:11.898023500Z",
     "start_time": "2023-09-29T22:30:11.894859400Z"
    }
   },
   "id": "ef2401cec5263f89"
  },
  {
   "cell_type": "markdown",
   "source": [
    "### Find multiplicative inverse $x$ satisfying $xa \\equiv 1\\,(\\text{mod b})$ and $\\text{gcd}(a, b) = 1$"
   ],
   "metadata": {
    "collapsed": false
   },
   "id": "20b2db7032a88c8d"
  },
  {
   "cell_type": "code",
   "execution_count": 4,
   "outputs": [],
   "source": [
    "def mul_inv(a, b):\n",
    "    if b == 1:\n",
    "        return 1\n",
    "    b_0 = b\n",
    "    x_0, x_1 = 0, 1\n",
    "    while a > 1:\n",
    "        x_0, x_1 = x_1 - (a // b) * x_0, x_0\n",
    "        a, b = b, a % b\n",
    "    if x_1 < 0:\n",
    "        x_1 += b_0\n",
    "    return x_1"
   ],
   "metadata": {
    "collapsed": false,
    "ExecuteTime": {
     "end_time": "2023-09-29T22:30:11.909771400Z",
     "start_time": "2023-09-29T22:30:11.899015400Z"
    }
   },
   "id": "4dccd06b4c0f84d"
  },
  {
   "cell_type": "markdown",
   "source": [
    "### Compute $F(n)=\\sum_{i=2}^n S(i!)$ by iterating through each $i$ and computing its prime factorization, and then updating the value of $S$ computed for the previous iteration using the observation $S(i!) = \\prod{(2\\cdot \\alpha_j + 1)}$ where $i! = \\prod{p_j^{\\alpha_j}}$"
   ],
   "metadata": {
    "collapsed": false
   },
   "id": "ea6fe581555f674e"
  },
  {
   "cell_type": "code",
   "execution_count": 5,
   "id": "initial_id",
   "metadata": {
    "collapsed": true,
    "ExecuteTime": {
     "end_time": "2023-09-29T22:36:15.346664Z",
     "start_time": "2023-09-29T22:30:11.911423100Z"
    }
   },
   "outputs": [
    {
     "name": "stdout",
     "output_type": "stream",
     "text": [
      "Progress: 100 %\r"
     ]
    },
    {
     "data": {
      "text/plain": "416146418"
     },
     "execution_count": 5,
     "metadata": {},
     "output_type": "execute_result"
    }
   ],
   "source": [
    "def F(n, M):\n",
    "    factors_count = {p: 0 for p in [n for n in range(len(is_prime)) if is_prime[n] == 1]}\n",
    "    S_sum = S_i = 3  # Starting with S(2!) = S(2) = 2^w(1) + 2^w(2) = 2^0 + 2^1 = 3\n",
    "    factors_count[2] = 1\n",
    "    for i in range(3, n + 1):\n",
    "        prime_factorization_i = pollard_rho_prime_factorization(i)\n",
    "        for p in prime_factorization_i:\n",
    "            S_i = (S_i * (2 * (factors_count[p] + prime_factorization_i[p]) + 1) * mul_inv(2 * factors_count[p] + 1, M)) % M\n",
    "            factors_count[p] += prime_factorization_i[p]\n",
    "        S_sum = (S_sum + S_i) % M\n",
    "\n",
    "        # Display progress of function execution for large values of N\n",
    "        if i % (10 ** 5) == 0:\n",
    "            print('Progress:', i // (10 ** 5), '%', end='\\r', flush=True)\n",
    "        \n",
    "    return S_sum % M\n",
    "\n",
    "F(10 ** 7, 10 ** 9 + 87)"
   ]
  }
 ],
 "metadata": {
  "kernelspec": {
   "display_name": "Python 3",
   "language": "python",
   "name": "python3"
  },
  "language_info": {
   "codemirror_mode": {
    "name": "ipython",
    "version": 2
   },
   "file_extension": ".py",
   "mimetype": "text/x-python",
   "name": "python",
   "nbconvert_exporter": "python",
   "pygments_lexer": "ipython2",
   "version": "2.7.6"
  }
 },
 "nbformat": 4,
 "nbformat_minor": 5
}
