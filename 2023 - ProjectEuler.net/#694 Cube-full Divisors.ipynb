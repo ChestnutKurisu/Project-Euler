{
 "cells": [
  {
   "cell_type": "code",
   "execution_count": 51,
   "outputs": [],
   "source": [
    "import math\n",
    "import pickle"
   ],
   "metadata": {
    "collapsed": false,
    "ExecuteTime": {
     "end_time": "2023-10-10T14:10:31.017433900Z",
     "start_time": "2023-10-10T14:10:31.010775300Z"
    }
   },
   "id": "e54ac339689c718f"
  },
  {
   "cell_type": "code",
   "execution_count": 52,
   "id": "initial_id",
   "metadata": {
    "collapsed": true,
    "ExecuteTime": {
     "end_time": "2023-10-10T14:11:15.999279900Z",
     "start_time": "2023-10-10T14:11:15.992068600Z"
    }
   },
   "outputs": [],
   "source": [
    "N = 10 ** 18"
   ]
  },
  {
   "cell_type": "markdown",
   "source": [
    "### Retrieve prime factorizations for each $n$, with $1\\leq n\\leq N^{\\frac{1}{3}}$, pre-computed using Pollard's Rho algorithm  "
   ],
   "metadata": {
    "collapsed": false
   },
   "id": "5f0774fc124920b0"
  },
  {
   "cell_type": "code",
   "execution_count": 53,
   "outputs": [],
   "source": [
    "with open('..\\\\Computation Caches\\\\prime_factorizations_1_10000000.pkl', 'rb') as file:\n",
    "    prime_factorization = pickle.load(file)\n",
    "    prime_factorization = {n: prime_factorization[n] for n in range(1, int(math.ceil(N ** (1 / 3))) + 1)}"
   ],
   "metadata": {
    "collapsed": false,
    "ExecuteTime": {
     "end_time": "2023-10-10T14:11:30.417792Z",
     "start_time": "2023-10-10T14:11:16.001291300Z"
    }
   },
   "id": "34fd15ea686393c9"
  },
  {
   "cell_type": "markdown",
   "source": [
    "### Compute a list of all _cube-full_ numbers $1\\leq m\\leq N$ by extending the prime factorizations retrieved above. This is done by starting with the prime factorization of $n$, which naturally yields the cube-full number $n^3$, and then multiplying $n^3$ with multiples of prime factors of $n$. "
   ],
   "metadata": {
    "collapsed": false
   },
   "id": "a67350e0822a0f56"
  },
  {
   "cell_type": "code",
   "execution_count": 54,
   "outputs": [],
   "source": [
    "cube_full_numbers = [n for n in prime_factorization if all(prime_factorization[n][p] >= 3 for p in prime_factorization[n])]\n",
    "for n in prime_factorization:\n",
    "    if n == 1:\n",
    "        cube_full_numbers.append(n)\n",
    "        continue\n",
    "    n_3 = n ** 3\n",
    "    n_cube_full = [n_3]\n",
    "    for p in prime_factorization[n]:\n",
    "        p_k_n_cube_full = []\n",
    "        p_k = 1\n",
    "        while True:\n",
    "            p_k *= p\n",
    "            if n_3 * p_k >= N:\n",
    "                break\n",
    "            p_k_n_cube_full.extend([m * p_k for m in n_cube_full])\n",
    "        n_cube_full.extend(p_k_n_cube_full)\n",
    "    cube_full_numbers.extend(n_cube_full)\n",
    "    \n",
    "cube_full_numbers = set(cube_full_numbers)"
   ],
   "metadata": {
    "collapsed": false,
    "ExecuteTime": {
     "end_time": "2023-10-10T14:11:55.874550800Z",
     "start_time": "2023-10-10T14:11:30.484563200Z"
    }
   },
   "id": "71d03e8e6a235ab"
  },
  {
   "cell_type": "markdown",
   "source": [
    "### $S(n)$ is computed by adding the number of multiples of each _cube-full_ number that are at most $n$, as that is the number of times the cube-full number would appear as a divisor for any $i\\in[1, n]$"
   ],
   "metadata": {
    "collapsed": false
   },
   "id": "358feb748e81bb4"
  },
  {
   "cell_type": "code",
   "execution_count": 55,
   "outputs": [
    {
     "data": {
      "text/plain": "1339784153569958487"
     },
     "execution_count": 55,
     "metadata": {},
     "output_type": "execute_result"
    }
   ],
   "source": [
    "def S(n):\n",
    "    return sum(n // cf for cf in cube_full_numbers)\n",
    "\n",
    "S(10 ** 18)"
   ],
   "metadata": {
    "collapsed": false,
    "ExecuteTime": {
     "end_time": "2023-10-10T14:12:02.494734Z",
     "start_time": "2023-10-10T14:11:55.894189Z"
    }
   },
   "id": "9e676ad072935890"
  }
 ],
 "metadata": {
  "kernelspec": {
   "display_name": "Python 3",
   "language": "python",
   "name": "python3"
  },
  "language_info": {
   "codemirror_mode": {
    "name": "ipython",
    "version": 2
   },
   "file_extension": ".py",
   "mimetype": "text/x-python",
   "name": "python",
   "nbconvert_exporter": "python",
   "pygments_lexer": "ipython2",
   "version": "2.7.6"
  }
 },
 "nbformat": 4,
 "nbformat_minor": 5
}
