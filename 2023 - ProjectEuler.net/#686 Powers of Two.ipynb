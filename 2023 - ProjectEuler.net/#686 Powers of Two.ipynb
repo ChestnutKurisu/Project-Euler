{
 "cells": [
  {
   "cell_type": "code",
   "execution_count": 16,
   "id": "initial_id",
   "metadata": {
    "collapsed": true,
    "ExecuteTime": {
     "end_time": "2023-09-24T21:46:06.177932600Z",
     "start_time": "2023-09-24T21:44:39.581790500Z"
    }
   },
   "outputs": [
    {
     "data": {
      "text/plain": "193060223"
     },
     "execution_count": 16,
     "metadata": {},
     "output_type": "execute_result"
    }
   ],
   "source": [
    "def p(L, n):\n",
    "    L = str(L)\n",
    "    j, current_exponent, exponent_count = 0, 1, 0\n",
    "    while exponent_count < n:\n",
    "        current_exponent *= 2\n",
    "        current_exponent_str = str(current_exponent)\n",
    "        if current_exponent_str.startswith(L):\n",
    "            exponent_count += 1\n",
    "        j += 1\n",
    "    \n",
    "        # We can drop trailing digits since we're primarily concerned only with the first three\n",
    "        if len(current_exponent_str) >= 100:\n",
    "            current_exponent = int(current_exponent_str[:20])\n",
    "    \n",
    "    return j\n",
    "\n",
    "p(123, 678910)"
   ]
  }
 ],
 "metadata": {
  "kernelspec": {
   "display_name": "Python 3",
   "language": "python",
   "name": "python3"
  },
  "language_info": {
   "codemirror_mode": {
    "name": "ipython",
    "version": 2
   },
   "file_extension": ".py",
   "mimetype": "text/x-python",
   "name": "python",
   "nbconvert_exporter": "python",
   "pygments_lexer": "ipython2",
   "version": "2.7.6"
  }
 },
 "nbformat": 4,
 "nbformat_minor": 5
}
