{
 "cells": [
  {
   "cell_type": "markdown",
   "source": [
    "### Get all required primes $p$, with $2 \\leq p \\leq \\text{type}$"
   ],
   "metadata": {
    "collapsed": false
   },
   "id": "593cd0802ae059f1"
  },
  {
   "cell_type": "code",
   "execution_count": 1,
   "outputs": [],
   "source": [
    "def rwh_primes2(n):\n",
    "    # https://stackoverflow.com/questions/2068372/fastest-way-to-list-all-primes-below-n-in-python/3035188#3035188\n",
    "    \"\"\" Input n>=6, Returns a list of primes, 2 <= p < n \"\"\"\n",
    "    n, correction = n - n % 6 + 6, 2 - (n % 6 > 1)\n",
    "    sieve = bytearray([True]) * (n // 3)\n",
    "    for i in range(1, int(n ** 0.5) // 3 + 1):\n",
    "        if sieve[i]:\n",
    "            k = 3 * i + 1 | 1\n",
    "            sieve[k * k // 3::2 * k] = bytearray([False]) * ((n // 6 - k * k // 6 - 1) // k + 1)\n",
    "            sieve[k * (k - 2 * (i & 1) + 4) // 3::2 * k] = bytearray([False]) * (\n",
    "                    (n // 6 - k * (k - 2 * (i & 1) + 4) // 6 - 1) // k + 1)\n",
    "    return [2, 3] + [3 * i + 1 | 1 for i in range(1, n // 3 - correction) if sieve[i]]"
   ],
   "metadata": {
    "collapsed": false,
    "ExecuteTime": {
     "end_time": "2023-10-03T23:33:08.544177600Z",
     "start_time": "2023-10-03T23:33:08.494914100Z"
    }
   },
   "id": "6912f84ce024706f"
  },
  {
   "cell_type": "markdown",
   "source": [
    "### Maintain a _bytearray_ sieve of size $N$ to indicate whether a number $m\\in[1,\\,N]$ is a generalized Hamming number of type $n$ or not, iterate through all prime numbers $n< p\\leq N$ and mark all the multiples of each $p$ as non-Hamming in the sieve"
   ],
   "metadata": {
    "collapsed": false
   },
   "id": "e99c46b3fe63c8d"
  },
  {
   "cell_type": "code",
   "execution_count": 11,
   "outputs": [
    {
     "data": {
      "text/plain": "2944730"
     },
     "execution_count": 11,
     "metadata": {},
     "output_type": "execute_result"
    }
   ],
   "source": [
    "def generalized_hamming_count(N, type_n):\n",
    "    list_of_primes = rwh_primes2(N + 1)\n",
    "    is_hamming = bytearray([True]) * N\n",
    "    for p in list_of_primes:\n",
    "        if p <= type_n:\n",
    "            continue\n",
    "        is_hamming[p - 1::p] = bytearray([False]) * (N // p)\n",
    "    \n",
    "    return sum(is_hamming)\n",
    "\n",
    "generalized_hamming_count(10 ** 9, 100)"
   ],
   "metadata": {
    "collapsed": false,
    "ExecuteTime": {
     "end_time": "2023-10-03T23:50:04.066443500Z",
     "start_time": "2023-10-03T23:49:02.536926900Z"
    }
   },
   "id": "e1c269d391b765db"
  }
 ],
 "metadata": {
  "kernelspec": {
   "display_name": "Python 3",
   "language": "python",
   "name": "python3"
  },
  "language_info": {
   "codemirror_mode": {
    "name": "ipython",
    "version": 2
   },
   "file_extension": ".py",
   "mimetype": "text/x-python",
   "name": "python",
   "nbconvert_exporter": "python",
   "pygments_lexer": "ipython2",
   "version": "2.7.6"
  }
 },
 "nbformat": 4,
 "nbformat_minor": 5
}
