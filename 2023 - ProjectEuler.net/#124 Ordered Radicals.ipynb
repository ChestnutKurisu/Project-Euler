{
 "cells": [
  {
   "cell_type": "code",
   "execution_count": 10,
   "outputs": [],
   "source": [
    "import collections\n",
    "import functools\n",
    "import math\n",
    "import operator\n",
    "import pandas as pd\n",
    "import random"
   ],
   "metadata": {
    "collapsed": false,
    "ExecuteTime": {
     "end_time": "2023-10-05T01:59:19.382253600Z",
     "start_time": "2023-10-05T01:59:19.379720300Z"
    }
   },
   "id": "a9fe4c33f34d0c23"
  },
  {
   "cell_type": "markdown",
   "source": [
    "### Get a sieve of all numbers $n$ to indicate whether they are prime, with $0 \\leq n \\leq 10^5$"
   ],
   "metadata": {
    "collapsed": false
   },
   "id": "a2c8b017366742ed"
  },
  {
   "cell_type": "code",
   "execution_count": 6,
   "outputs": [],
   "source": [
    "def get_primes_eratosthenes_sieve(n):\n",
    "    is_prime = [1] * (n + 1)\n",
    "    p = 2\n",
    "    is_prime[0] = 0\n",
    "    is_prime[1] = 0\n",
    "    while p * p <= n:\n",
    "        if is_prime[p]:\n",
    "            for i in range(p * 2, n + 1, p):\n",
    "                is_prime[i] = 0\n",
    "        p += 1\n",
    "    prime_list = []\n",
    "    for i in range(n + 1):\n",
    "        if is_prime[i]:\n",
    "            prime_list.append(i)\n",
    "    return is_prime\n",
    "\n",
    "is_prime = get_primes_eratosthenes_sieve(10 ** 5)"
   ],
   "metadata": {
    "collapsed": false,
    "ExecuteTime": {
     "end_time": "2023-10-05T01:58:02.845787800Z",
     "start_time": "2023-10-05T01:58:02.821596200Z"
    }
   },
   "id": "b59821262e9002b6"
  },
  {
   "cell_type": "markdown",
   "source": [
    "### Use Pollard's Rho algorithm for finding prime factorizations for any $n$"
   ],
   "metadata": {
    "collapsed": false
   },
   "id": "33a5ffe21f918b4a"
  },
  {
   "cell_type": "code",
   "execution_count": 7,
   "outputs": [],
   "source": [
    "# https://github.com/zhangbo2008/python_algorithm2/blob/c53669703b957a079f100c12711f86f5fc2f9389/algorithms/factorization/pollard_rho.py\n",
    "def pollard_rho_prime_factorization(x):\n",
    "    def f(x):\n",
    "        return x * x + 1\n",
    "\n",
    "    def rho(n, x1=2, x2=2):\n",
    "        if n % 2 == 0:\n",
    "            return 2\n",
    "        i = 0\n",
    "        while True:\n",
    "            x1 = f(x1) % n\n",
    "            x2 = f(f(x2)) % n\n",
    "            divisor = math.gcd(abs(x1 - x2), n)\n",
    "            i += 1\n",
    "            if divisor != 1:\n",
    "                break\n",
    "            if i > 500:\n",
    "                x1 = random.randint(1, 10)\n",
    "                x2 = random.randint(1, 10)\n",
    "                i = 0\n",
    "        return divisor\n",
    "\n",
    "    def pollard_rho_rec(x, factors):\n",
    "        if x == 1:\n",
    "            return\n",
    "\n",
    "        if is_prime[x]:\n",
    "            factors.append(x)\n",
    "            return\n",
    "\n",
    "        divisor = rho(x, random.randint(1, 10), random.randint(1, 10))\n",
    "        pollard_rho_rec(divisor, factors)\n",
    "        pollard_rho_rec(x // divisor, factors)\n",
    "\n",
    "    if x == 1 or x == 0:\n",
    "        return {x: 1}\n",
    "    factors = []\n",
    "    pollard_rho_rec(x, factors)\n",
    "    return collections.Counter(factors)"
   ],
   "metadata": {
    "collapsed": false,
    "ExecuteTime": {
     "end_time": "2023-10-05T01:58:03.838740700Z",
     "start_time": "2023-10-05T01:58:03.833800600Z"
    }
   },
   "id": "2b22f963f837d116"
  },
  {
   "cell_type": "markdown",
   "source": [
    "### Store prime factorizations for each $n$, with $2\\leq n\\leq10^5$ for rapid access "
   ],
   "metadata": {
    "collapsed": false
   },
   "id": "251e21e8dcacc396"
  },
  {
   "cell_type": "code",
   "execution_count": 24,
   "outputs": [],
   "source": [
    "N = 10 ** 5\n",
    "prime_factorization = {n: pollard_rho_prime_factorization(n) for n in range(1, N + 1)}"
   ],
   "metadata": {
    "collapsed": false,
    "ExecuteTime": {
     "end_time": "2023-10-05T02:08:29.252789500Z",
     "start_time": "2023-10-05T02:08:27.117160Z"
    }
   },
   "id": "8020ce0ccdac1e17"
  },
  {
   "cell_type": "markdown",
   "source": [
    "### Maintain a table of $n$ and $\\text{rad}(n)$ for $1\\leq n\\leq 10^5$ and sort as required"
   ],
   "metadata": {
    "collapsed": false
   },
   "id": "3f645302176302ac"
  },
  {
   "cell_type": "code",
   "execution_count": 25,
   "outputs": [],
   "source": [
    "radicals_df = pd.DataFrame({'n': range(1, N + 1)})\n",
    "radicals_df['rad'] = radicals_df.n.apply(lambda n: functools.reduce(operator.mul, [p for p in prime_factorization[n]]))\n",
    "radicals_df.sort_values(['rad', 'n'], inplace=True)"
   ],
   "metadata": {
    "collapsed": false,
    "ExecuteTime": {
     "end_time": "2023-10-05T02:09:30.092169Z",
     "start_time": "2023-10-05T02:09:30.024193400Z"
    }
   },
   "id": "4d2552cad856f51b"
  },
  {
   "cell_type": "code",
   "execution_count": 26,
   "outputs": [],
   "source": [
    "def E(k):\n",
    "    return radicals_df.iloc[k - 1].n"
   ],
   "metadata": {
    "collapsed": false,
    "ExecuteTime": {
     "end_time": "2023-10-05T02:09:30.435733300Z",
     "start_time": "2023-10-05T02:09:30.429418200Z"
    }
   },
   "id": "4b7c825265048782"
  },
  {
   "cell_type": "code",
   "execution_count": 27,
   "outputs": [
    {
     "data": {
      "text/plain": "21417"
     },
     "execution_count": 27,
     "metadata": {},
     "output_type": "execute_result"
    }
   ],
   "source": [
    "E(10000)"
   ],
   "metadata": {
    "collapsed": false,
    "ExecuteTime": {
     "end_time": "2023-10-05T02:09:31.432646900Z",
     "start_time": "2023-10-05T02:09:31.422345100Z"
    }
   },
   "id": "71ec55e6680552b2"
  }
 ],
 "metadata": {
  "kernelspec": {
   "display_name": "Python 3",
   "language": "python",
   "name": "python3"
  },
  "language_info": {
   "codemirror_mode": {
    "name": "ipython",
    "version": 2
   },
   "file_extension": ".py",
   "mimetype": "text/x-python",
   "name": "python",
   "nbconvert_exporter": "python",
   "pygments_lexer": "ipython2",
   "version": "2.7.6"
  }
 },
 "nbformat": 4,
 "nbformat_minor": 5
}
