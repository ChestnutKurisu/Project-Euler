{
 "cells": [
  {
   "cell_type": "code",
   "execution_count": 9,
   "outputs": [],
   "source": [
    "import functools \n",
    "import operator\n",
    "import pickle"
   ],
   "metadata": {
    "collapsed": false,
    "ExecuteTime": {
     "end_time": "2023-10-07T02:05:26.615428400Z",
     "start_time": "2023-10-07T02:05:26.456641300Z"
    }
   },
   "id": "cb45b255dff7a5ad"
  },
  {
   "cell_type": "code",
   "execution_count": 3,
   "outputs": [],
   "source": [
    "N = 64 * 10 ** 6"
   ],
   "metadata": {
    "collapsed": false,
    "ExecuteTime": {
     "end_time": "2023-10-07T01:57:30.653692600Z",
     "start_time": "2023-10-07T01:57:30.645586500Z"
    }
   },
   "id": "c522767fd6180f52"
  },
  {
   "cell_type": "markdown",
   "source": [
    "### Retrieve prime factorizations for each $n$, with $1\\leq n< N$, pre-computed using Pollard's Rho algorithm  "
   ],
   "metadata": {
    "collapsed": false
   },
   "id": "9d50e70e2277caa4"
  },
  {
   "cell_type": "code",
   "execution_count": 8,
   "outputs": [],
   "source": [
    "with open('..\\\\Computation Caches\\\\prime_factorizations_1_100000000.pkl', 'rb') as file:\n",
    "    prime_factorization = pickle.load(file)\n",
    "    prime_factorization = {n: prime_factorization[n] for n in range(1, N)}"
   ],
   "metadata": {
    "collapsed": false,
    "ExecuteTime": {
     "end_time": "2023-10-07T02:05:26.403521600Z",
     "start_time": "2023-10-07T02:00:09.050895700Z"
    }
   },
   "id": "2dc99dc0ed237619"
  },
  {
   "cell_type": "markdown",
   "source": [
    "### Note that $\\sigma_2(1) = 1 = 1^2$ and so we count $1$ as part of our sum. For $n>1$, we compute $\\sigma_2(n)=\\prod\\left(\\frac{p_i^{2(n_i+1)}}{p_i^2-1}\\right)$ where $n=\\prod p_i^{n_i}$"
   ],
   "metadata": {
    "collapsed": false
   },
   "id": "e4d97a08ddf299b9"
  },
  {
   "cell_type": "code",
   "execution_count": 11,
   "outputs": [
    {
     "name": "stdout",
     "output_type": "stream",
     "text": [
      "Progress: 100 %\r"
     ]
    },
    {
     "data": {
      "text/plain": "1922364685"
     },
     "execution_count": 11,
     "metadata": {},
     "output_type": "execute_result"
    }
   ],
   "source": [
    "sum_n_sigma_2_perfect_square = 0\n",
    "for n in range(1, N):\n",
    "    if n == 1:\n",
    "        sum_n_sigma_2_perfect_square += 1\n",
    "        continue\n",
    "    sigma_2 = functools.reduce(operator.mul, [(p ** (2 * prime_factorization[n][p] + 2) - 1) // (p ** 2 - 1) for p in prime_factorization[n]])\n",
    "    if sigma_2 == int(sigma_2 ** 0.5) ** 2:\n",
    "        sum_n_sigma_2_perfect_square += n \n",
    "        \n",
    "    # Display progress of function execution for large values of N\n",
    "    if n % (N // 100) == 0:\n",
    "        print('Progress:', n // (N // 100) + 1, '%', end='\\r', flush=True)\n",
    "\n",
    "sum_n_sigma_2_perfect_square"
   ],
   "metadata": {
    "collapsed": false,
    "ExecuteTime": {
     "end_time": "2023-10-07T02:14:37.101839500Z",
     "start_time": "2023-10-07T02:11:45.077984400Z"
    }
   },
   "id": "ac65e1e86a5a3aee"
  }
 ],
 "metadata": {
  "kernelspec": {
   "display_name": "Python 3",
   "language": "python",
   "name": "python3"
  },
  "language_info": {
   "codemirror_mode": {
    "name": "ipython",
    "version": 2
   },
   "file_extension": ".py",
   "mimetype": "text/x-python",
   "name": "python",
   "nbconvert_exporter": "python",
   "pygments_lexer": "ipython2",
   "version": "2.7.6"
  }
 },
 "nbformat": 4,
 "nbformat_minor": 5
}
