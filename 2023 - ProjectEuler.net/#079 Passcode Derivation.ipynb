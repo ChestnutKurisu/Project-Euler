{
 "cells": [
  {
   "cell_type": "code",
   "execution_count": 9,
   "id": "initial_id",
   "metadata": {
    "collapsed": true,
    "ExecuteTime": {
     "end_time": "2023-09-23T22:15:33.658704800Z",
     "start_time": "2023-09-23T22:15:33.245210800Z"
    }
   },
   "outputs": [
    {
     "name": "stdout",
     "output_type": "stream",
     "text": [
      "['319', '680', '180', '690', '129', '620', '762', '689', '762', '318', '368', '710', '720', '710', '629', '168', '160', '689', '716', '731', '736', '729', '316', '729', '729', '710', '769', '290', '719', '680', '318', '389', '162', '289', '162', '718', '729', '319', '790', '680', '890', '362', '319', '760', '316', '729', '380', '319', '728', '716']\n"
     ]
    }
   ],
   "source": [
    "import urllib.request\n",
    "\n",
    "successful_attempts = []\n",
    "for line in urllib.request.urlopen('https://projecteuler.net/resources/documents/0079_keylog.txt'):\n",
    "    successful_attempts.append(line.decode('utf-8').strip())\n",
    "    \n",
    "print(successful_attempts)"
   ]
  },
  {
   "cell_type": "code",
   "execution_count": 13,
   "outputs": [
    {
     "name": "stdout",
     "output_type": "stream",
     "text": [
      "73162890\n"
     ]
    }
   ],
   "source": [
    "possible_chars = [d for d in set(''.join(successful_attempts))]  # Assuming uniqueness of character occurrence\n",
    "secret_passcode, before_dict, after_dict = '', {d: set() for d in possible_chars}, {d: set() for d in possible_chars}\n",
    "for attempt in successful_attempts:\n",
    "    for i in range(len(attempt)):\n",
    "        before_dict[attempt[i]].update(attempt[:i])\n",
    "        after_dict[attempt[i]].update(attempt[i + 1:])\n",
    "        \n",
    "print(''.join(sorted(after_dict, key=lambda x: after_dict[x], reverse=True)))"
   ],
   "metadata": {
    "collapsed": false,
    "ExecuteTime": {
     "end_time": "2023-09-23T22:23:41.900417400Z",
     "start_time": "2023-09-23T22:23:41.886161600Z"
    }
   },
   "id": "2fc2be474cbfb46b"
  }
 ],
 "metadata": {
  "kernelspec": {
   "display_name": "Python 3",
   "language": "python",
   "name": "python3"
  },
  "language_info": {
   "codemirror_mode": {
    "name": "ipython",
    "version": 2
   },
   "file_extension": ".py",
   "mimetype": "text/x-python",
   "name": "python",
   "nbconvert_exporter": "python",
   "pygments_lexer": "ipython2",
   "version": "2.7.6"
  }
 },
 "nbformat": 4,
 "nbformat_minor": 5
}
