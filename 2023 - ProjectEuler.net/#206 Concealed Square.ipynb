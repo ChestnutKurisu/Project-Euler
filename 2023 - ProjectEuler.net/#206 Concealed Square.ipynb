{
 "cells": [
  {
   "cell_type": "code",
   "execution_count": 7,
   "outputs": [],
   "source": [
    "import re"
   ],
   "metadata": {
    "collapsed": false,
    "ExecuteTime": {
     "end_time": "2023-09-23T18:39:11.117431100Z",
     "start_time": "2023-09-23T18:39:11.090780500Z"
    }
   },
   "id": "cab57e5eae991711"
  },
  {
   "cell_type": "code",
   "execution_count": 41,
   "id": "initial_id",
   "metadata": {
    "collapsed": true,
    "ExecuteTime": {
     "end_time": "2023-09-23T19:10:28.150269900Z",
     "start_time": "2023-09-23T19:10:16.818725400Z"
    }
   },
   "outputs": [
    {
     "name": "stdout",
     "output_type": "stream",
     "text": [
      "Answer: 1389019170\n"
     ]
    }
   ],
   "source": [
    "target_number = '1.2.3.4.5.6.7.8.9.0'\n",
    "possibilities = ['30', '70'] \n",
    "for n in possibilities:\n",
    "    for i in range(10000000, 20000000):\n",
    "        m = str(int(str(i) + n) ** 2)\n",
    "        if re.match(target_number[-len(m):], m):\n",
    "            if len(m) == len(target_number):\n",
    "                print('Answer:', str(i) + n)\n",
    "                break\n",
    "            else:\n",
    "                print('Lead:', str(i) + n)"
   ]
  }
 ],
 "metadata": {
  "kernelspec": {
   "display_name": "Python 3",
   "language": "python",
   "name": "python3"
  },
  "language_info": {
   "codemirror_mode": {
    "name": "ipython",
    "version": 2
   },
   "file_extension": ".py",
   "mimetype": "text/x-python",
   "name": "python",
   "nbconvert_exporter": "python",
   "pygments_lexer": "ipython2",
   "version": "2.7.6"
  }
 },
 "nbformat": 4,
 "nbformat_minor": 5
}
