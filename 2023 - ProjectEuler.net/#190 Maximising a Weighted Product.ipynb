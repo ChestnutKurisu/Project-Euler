{
 "cells": [
  {
   "cell_type": "code",
   "execution_count": 13,
   "id": "initial_id",
   "metadata": {
    "collapsed": true,
    "ExecuteTime": {
     "end_time": "2023-10-08T07:42:33.879315200Z",
     "start_time": "2023-10-08T07:42:33.869761500Z"
    }
   },
   "outputs": [],
   "source": [
    "import functools\n",
    "import numpy as np\n",
    "import operator\n",
    "import scipy"
   ]
  },
  {
   "cell_type": "code",
   "execution_count": 18,
   "outputs": [
    {
     "name": "stderr",
     "output_type": "stream",
     "text": [
      "C:\\Users\\param\\OneDrive\\Documents\\PyCharmProjects\\ProjectEuler\\venv-2\\Lib\\site-packages\\scipy\\optimize\\_hessian_update_strategy.py:182: UserWarning: delta_grad == 0.0. Check if the approximated function is linear. If the function is linear better results can be obtained by defining the Hessian as zero instead of using quasi-Newton approximations.\n",
      "  warn('delta_grad == 0.0. Check if the approximated '\n"
     ]
    },
    {
     "data": {
      "text/plain": "371048281"
     },
     "execution_count": 18,
     "metadata": {},
     "output_type": "execute_result"
    }
   ],
   "source": [
    "def prod(x):\n",
    "    return functools.reduce(operator.mul, [x[j] ** (j + 1) for j in range(len(x))])\n",
    "def P(m):\n",
    "    s_m = scipy.optimize.minimize(lambda x: -prod(x), [1] * m, method='trust-constr', \n",
    "                                  constraints=[scipy.optimize.LinearConstraint([[1] * m, *[[int(i == j) for i in range(1, m + 1)] for j in range(1, m + 1)]], [m, *[0 for i in range(1, m + 1)]], [m, *[np.inf for i in range(1, m + 1)]])]).x\n",
    "    return prod(s_m)\n",
    "\n",
    "sum(int(P(m)) for m in range(2, 15 + 1))"
   ],
   "metadata": {
    "collapsed": false,
    "ExecuteTime": {
     "end_time": "2023-10-08T07:47:34.243247100Z",
     "start_time": "2023-10-08T07:47:32.475133900Z"
    }
   },
   "id": "f06a685c369cd9a1"
  }
 ],
 "metadata": {
  "kernelspec": {
   "display_name": "Python 3",
   "language": "python",
   "name": "python3"
  },
  "language_info": {
   "codemirror_mode": {
    "name": "ipython",
    "version": 2
   },
   "file_extension": ".py",
   "mimetype": "text/x-python",
   "name": "python",
   "nbconvert_exporter": "python",
   "pygments_lexer": "ipython2",
   "version": "2.7.6"
  }
 },
 "nbformat": 4,
 "nbformat_minor": 5
}
