{
 "cells": [
  {
   "cell_type": "markdown",
   "source": [
    "### Key observation is that $u_n+u_{n+1}$ converges as these two terms alternate after $n=517$"
   ],
   "metadata": {
    "collapsed": false
   },
   "id": "aeebd93a990d6f5a"
  },
  {
   "cell_type": "code",
   "execution_count": 17,
   "id": "initial_id",
   "metadata": {
    "collapsed": true,
    "ExecuteTime": {
     "end_time": "2023-10-09T03:32:42.028249500Z",
     "start_time": "2023-10-09T03:32:41.994342700Z"
    }
   },
   "outputs": [
    {
     "name": "stdout",
     "output_type": "stream",
     "text": [
      "Sum of u[n] + u[n+1] convergent at n = 517: 1.710637717\n"
     ]
    }
   ],
   "source": [
    "def f(x):\n",
    "    return int(pow(2, 30.403243784 - x ** 2)) * (10 ** -9)\n",
    "\n",
    "N = 10 ** 6\n",
    "u = [-1] + [0] * (N + 1)\n",
    "for n in range(1, N + 2):\n",
    "    u[n] = f(u[n - 1])\n",
    "    s = u[n] + u[n - 1]\n",
    "    if all(s == u[k] + u[k - 1] for k in range(n - 1, n - 11, -1)):\n",
    "        print(f'Sum of u[n] + u[n+1] convergent at n = {n - 10}:', s)\n",
    "        break"
   ]
  }
 ],
 "metadata": {
  "kernelspec": {
   "display_name": "Python 3",
   "language": "python",
   "name": "python3"
  },
  "language_info": {
   "codemirror_mode": {
    "name": "ipython",
    "version": 2
   },
   "file_extension": ".py",
   "mimetype": "text/x-python",
   "name": "python",
   "nbconvert_exporter": "python",
   "pygments_lexer": "ipython2",
   "version": "2.7.6"
  }
 },
 "nbformat": 4,
 "nbformat_minor": 5
}
