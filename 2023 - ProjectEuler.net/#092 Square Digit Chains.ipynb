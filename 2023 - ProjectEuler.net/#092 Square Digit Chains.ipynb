{
 "cells": [
  {
   "cell_type": "code",
   "execution_count": 9,
   "outputs": [
    {
     "name": "stdout",
     "output_type": "stream",
     "text": [
      "8581146\n"
     ]
    }
   ],
   "source": [
    "square_digit_sum_ends_1 = [True] + [None] * (10 ** 7 - 2)\n",
    "square_digit_sum_ends_1[89 - 1] = False\n",
    "def populate_square_digit_sums_1(n: int):\n",
    "    if square_digit_sum_ends_1[i - 1] is None:\n",
    "        square_digit_sum = sum(int(d) ** 2 for d in str(n))\n",
    "        if square_digit_sum_ends_1[square_digit_sum - 1] is None:\n",
    "            populate_square_digit_sums_1(square_digit_sum)\n",
    "        square_digit_sum_ends_1[n - 1] = square_digit_sum_ends_1[square_digit_sum - 1]\n",
    "    return\n",
    "\n",
    "for i in range(1, 10 ** 7):\n",
    "    populate_square_digit_sums_1(i)\n",
    "    \n",
    "print(len([v for v in square_digit_sum_ends_1 if not v]))"
   ],
   "metadata": {
    "collapsed": false,
    "ExecuteTime": {
     "end_time": "2023-09-23T22:01:17.709517600Z",
     "start_time": "2023-09-23T22:01:07.795335900Z"
    }
   },
   "id": "82a931b934105d0e"
  }
 ],
 "metadata": {
  "kernelspec": {
   "display_name": "Python 3",
   "language": "python",
   "name": "python3"
  },
  "language_info": {
   "codemirror_mode": {
    "name": "ipython",
    "version": 2
   },
   "file_extension": ".py",
   "mimetype": "text/x-python",
   "name": "python",
   "nbconvert_exporter": "python",
   "pygments_lexer": "ipython2",
   "version": "2.7.6"
  }
 },
 "nbformat": 4,
 "nbformat_minor": 5
}
