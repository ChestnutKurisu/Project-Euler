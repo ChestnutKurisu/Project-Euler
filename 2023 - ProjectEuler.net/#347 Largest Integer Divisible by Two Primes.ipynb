{
 "cells": [
  {
   "cell_type": "code",
   "execution_count": 13,
   "outputs": [],
   "source": [
    "import pickle"
   ],
   "metadata": {
    "collapsed": false,
    "ExecuteTime": {
     "end_time": "2023-10-07T10:56:02.720432800Z",
     "start_time": "2023-10-07T10:56:02.712922300Z"
    }
   },
   "id": "efd568c2d1695e6"
  },
  {
   "cell_type": "code",
   "execution_count": 14,
   "outputs": [],
   "source": [
    "N = 10 ** 7"
   ],
   "metadata": {
    "collapsed": false,
    "ExecuteTime": {
     "end_time": "2023-10-07T10:56:03.033163700Z",
     "start_time": "2023-10-07T10:56:03.030489200Z"
    }
   },
   "id": "8ee0b930d57997c7"
  },
  {
   "cell_type": "markdown",
   "source": [
    "### Retrieve prime factorizations for each $n$, with $1\\leq n\\leq N$, pre-computed using Pollard's Rho algorithm  "
   ],
   "metadata": {
    "collapsed": false
   },
   "id": "10aa8387d985211f"
  },
  {
   "cell_type": "code",
   "execution_count": 15,
   "outputs": [],
   "source": [
    "with open('..\\\\Computation Caches\\\\prime_factorizations_1_10000000.pkl', 'rb') as file:\n",
    "    prime_factorization = pickle.load(file)"
   ],
   "metadata": {
    "collapsed": false,
    "ExecuteTime": {
     "end_time": "2023-10-07T10:56:07.496089700Z",
     "start_time": "2023-10-07T10:56:03.401078900Z"
    }
   },
   "id": "9ed9ffd558dcd12c"
  },
  {
   "cell_type": "markdown",
   "source": [
    "### Compute $S(N) = \\sum_{p\\,<\\,q\\,\\leq\\, N}M(p,q, N)$ by iterating through $1\\leq n\\leq N$ in descending order with $n=p_1^{i_1}\\times p_2^{i_2}$ a product of two prime factors"
   ],
   "metadata": {
    "collapsed": false
   },
   "id": "9e912b24326fcf1f"
  },
  {
   "cell_type": "code",
   "execution_count": 17,
   "outputs": [
    {
     "data": {
      "text/plain": "11109800204052"
     },
     "execution_count": 17,
     "metadata": {},
     "output_type": "execute_result"
    }
   ],
   "source": [
    "def S(N):\n",
    "    s = 0\n",
    "    possible_prime_factorizations = {n: prime_factorization[n] for n in range(1, N + 1) if len(prime_factorization[n]) == 2}\n",
    "    possible_p_q_list = set([tuple(sorted(prime_factorization[n].keys())) for n in possible_prime_factorizations])\n",
    "    M_p_q_found_dict = {(p, q): False for p, q in possible_p_q_list}\n",
    "    for n in sorted(possible_prime_factorizations.keys(), reverse=True):\n",
    "        p, q = sorted(prime_factorization[n].keys())\n",
    "        if M_p_q_found_dict[(p, q)]:\n",
    "            continue\n",
    "        else:\n",
    "            M_p_q_found_dict[(p, q)] = True\n",
    "            s += n\n",
    "    \n",
    "    return s\n",
    "            \n",
    "S(N)"
   ],
   "metadata": {
    "collapsed": false,
    "ExecuteTime": {
     "end_time": "2023-10-07T10:56:16.236853100Z",
     "start_time": "2023-10-07T10:56:11.282092Z"
    }
   },
   "id": "c62ee9a638b38141"
  }
 ],
 "metadata": {
  "kernelspec": {
   "display_name": "Python 3",
   "language": "python",
   "name": "python3"
  },
  "language_info": {
   "codemirror_mode": {
    "name": "ipython",
    "version": 2
   },
   "file_extension": ".py",
   "mimetype": "text/x-python",
   "name": "python",
   "nbconvert_exporter": "python",
   "pygments_lexer": "ipython2",
   "version": "2.7.6"
  }
 },
 "nbformat": 4,
 "nbformat_minor": 5
}
