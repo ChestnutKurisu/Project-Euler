{
 "cells": [
  {
   "cell_type": "markdown",
   "source": [
    "### Get all required primes $p$, with $5 \\leq p < 10^8$"
   ],
   "metadata": {
    "collapsed": false
   },
   "id": "e2134f6d48f2533"
  },
  {
   "cell_type": "code",
   "execution_count": 1,
   "outputs": [
    {
     "data": {
      "text/plain": "5761453"
     },
     "execution_count": 1,
     "metadata": {},
     "output_type": "execute_result"
    }
   ],
   "source": [
    "def rwh_primes2(n):\n",
    "    # https://stackoverflow.com/questions/2068372/fastest-way-to-list-all-primes-below-n-in-python/3035188#3035188\n",
    "    \"\"\" Input n>=6, Returns a list of primes, 2 <= p < n \"\"\"\n",
    "    n, correction = n - n % 6 + 6, 2 - (n % 6 > 1)\n",
    "    sieve = bytearray([True]) * (n // 3)\n",
    "    for i in range(1, int(n ** 0.5) // 3 + 1):\n",
    "        if sieve[i]:\n",
    "            k = 3 * i + 1 | 1\n",
    "            sieve[k * k // 3::2 * k] = bytearray([False]) * ((n // 6 - k * k // 6 - 1) // k + 1)\n",
    "            sieve[k * (k - 2 * (i & 1) + 4) // 3::2 * k] = bytearray([False]) * (\n",
    "                    (n // 6 - k * (k - 2 * (i & 1) + 4) // 6 - 1) // k + 1)\n",
    "    return [2, 3] + [3 * i + 1 | 1 for i in range(1, n // 3 - correction) if sieve[i]]\n",
    "\n",
    "list_of_primes = rwh_primes2(10 ** 8)[2:]  # Remove 2 and 3 from the list\n",
    "len(list_of_primes)"
   ],
   "metadata": {
    "collapsed": false,
    "ExecuteTime": {
     "end_time": "2023-09-24T20:55:17.012654800Z",
     "start_time": "2023-09-24T20:55:15.742624400Z"
    }
   },
   "id": "c5e619fdc9f117ea"
  },
  {
   "cell_type": "markdown",
   "source": [
    "### Find multiplicative inverse $x$ satisfying $xa \\equiv 1\\,(\\text{mod b})$ and $\\text{gcd}(a, b) = 1$"
   ],
   "metadata": {
    "collapsed": false
   },
   "id": "5e81abde8d73256b"
  },
  {
   "cell_type": "code",
   "execution_count": 2,
   "outputs": [],
   "source": [
    "def mul_inv(a, b):\n",
    "    if b == 1:\n",
    "        return 1\n",
    "    b_0 = b\n",
    "    x_0, x_1 = 0, 1\n",
    "    while a > 1:\n",
    "        x_0, x_1 = x_1 - (a // b) * x_0, x_0\n",
    "        a, b = b, a % b\n",
    "    if x_1 < 0:\n",
    "        x_1 += b_0\n",
    "    return x_1"
   ],
   "metadata": {
    "collapsed": false,
    "ExecuteTime": {
     "end_time": "2023-09-24T20:55:23.348314300Z",
     "start_time": "2023-09-24T20:55:22.983846500Z"
    }
   },
   "id": "5c519346d7f5f9d5"
  },
  {
   "cell_type": "markdown",
   "source": [
    "### Calculate $S(p, n)=\\sum_{1\\leq k\\leq n}(p-k)!\\,(\\text{mod }p)$ using the fact that $(p-1)!\\equiv-1\\equiv p-1\\,(\\text{mod }p)$"
   ],
   "metadata": {
    "collapsed": false
   },
   "id": "d3b00454d556e075"
  },
  {
   "cell_type": "code",
   "execution_count": 3,
   "outputs": [
    {
     "data": {
      "text/plain": "4"
     },
     "execution_count": 3,
     "metadata": {},
     "output_type": "execute_result"
    }
   ],
   "source": [
    "def S(p, n):\n",
    "    sum_terms = current_term = p - 1\n",
    "    for i in range(n - 1):\n",
    "        current_term = current_term * (p - 1 if i == 0 else mul_inv(p - 1 - i, p))\n",
    "        sum_terms += current_term\n",
    "    return sum_terms % p\n",
    "\n",
    "S(7, 5)"
   ],
   "metadata": {
    "collapsed": false,
    "ExecuteTime": {
     "end_time": "2023-09-24T20:55:38.610718300Z",
     "start_time": "2023-09-24T20:55:38.299532300Z"
    }
   },
   "id": "915254bf57b313fb"
  },
  {
   "cell_type": "markdown",
   "source": [
    "### Final answer: $\\sum_{5\\,\\leq\\, p\\,<\\,10^8}S(p, 5)$"
   ],
   "metadata": {
    "collapsed": false
   },
   "id": "af39d497d0837ed4"
  },
  {
   "cell_type": "code",
   "execution_count": 4,
   "outputs": [
    {
     "data": {
      "text/plain": "139602943319822"
     },
     "execution_count": 4,
     "metadata": {},
     "output_type": "execute_result"
    }
   ],
   "source": [
    "sum(S(p, 5) for p in list_of_primes)"
   ],
   "metadata": {
    "collapsed": false,
    "ExecuteTime": {
     "end_time": "2023-09-24T20:58:26.885074700Z",
     "start_time": "2023-09-24T20:58:19.452836400Z"
    }
   },
   "id": "b7a24828a7d82c75"
  }
 ],
 "metadata": {
  "kernelspec": {
   "display_name": "Python 3",
   "language": "python",
   "name": "python3"
  },
  "language_info": {
   "codemirror_mode": {
    "name": "ipython",
    "version": 2
   },
   "file_extension": ".py",
   "mimetype": "text/x-python",
   "name": "python",
   "nbconvert_exporter": "python",
   "pygments_lexer": "ipython2",
   "version": "2.7.6"
  }
 },
 "nbformat": 4,
 "nbformat_minor": 5
}
