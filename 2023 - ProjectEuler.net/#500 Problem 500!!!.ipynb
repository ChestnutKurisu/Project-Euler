{
 "cells": [
  {
   "cell_type": "markdown",
   "source": [
    "### Get all required primes $p$, with $2 \\leq p < 10^7$"
   ],
   "metadata": {
    "collapsed": false
   },
   "id": "188718f2ac7541dc"
  },
  {
   "cell_type": "code",
   "execution_count": 37,
   "outputs": [
    {
     "data": {
      "text/plain": "664579"
     },
     "execution_count": 37,
     "metadata": {},
     "output_type": "execute_result"
    }
   ],
   "source": [
    "def rwh_primes2(n):\n",
    "    # https://stackoverflow.com/questions/2068372/fastest-way-to-list-all-primes-below-n-in-python/3035188#3035188\n",
    "    \"\"\" Input n>=6, Returns a list of primes, 2 <= p < n \"\"\"\n",
    "    n, correction = n - n % 6 + 6, 2 - (n % 6 > 1)\n",
    "    sieve = bytearray([True]) * (n // 3)\n",
    "    for i in range(1, int(n ** 0.5) // 3 + 1):\n",
    "        if sieve[i]:\n",
    "            k = 3 * i + 1 | 1\n",
    "            sieve[k * k // 3::2 * k] = bytearray([False]) * ((n // 6 - k * k // 6 - 1) // k + 1)\n",
    "            sieve[k * (k - 2 * (i & 1) + 4) // 3::2 * k] = bytearray([False]) * (\n",
    "                    (n // 6 - k * (k - 2 * (i & 1) + 4) // 6 - 1) // k + 1)\n",
    "    return [2, 3] + [3 * i + 1 | 1 for i in range(1, n // 3 - correction) if sieve[i]]\n",
    "\n",
    "list_of_primes = rwh_primes2(10 ** 7)\n",
    "len(list_of_primes)"
   ],
   "metadata": {
    "collapsed": false,
    "ExecuteTime": {
     "end_time": "2023-09-28T02:33:26.307556400Z",
     "start_time": "2023-09-28T02:33:26.197986Z"
    }
   },
   "id": "750aeefc65bd9ce4"
  },
  {
   "cell_type": "markdown",
   "source": [
    "### Using the fact that $N=\\prod{p_i^{n_i}}$ has $\\prod{(n_i+1)}$ total divisors, where $\\{p_i\\}$ are distinct prime numbers in the unique prime factorization of $N$\n",
    "Since the total number of divisors is of the form $2^\\alpha$, we must have that for each $i$, $n_i + 1 = 2^\\beta$ for some $\\beta$ by the fundamental theorem of arithmetic. Thus, we iterate through the first 500500 prime numbers and their exponents in ascending order, thereby ensuring that for any prime $p_i$, we will have $n_i=1+2+4+8+\\cdots=2^\\beta-1$."
   ],
   "metadata": {
    "collapsed": false
   },
   "id": "9716804b0ddb839"
  },
  {
   "cell_type": "code",
   "execution_count": 40,
   "outputs": [
    {
     "data": {
      "text/plain": "35407281"
     },
     "execution_count": 40,
     "metadata": {},
     "output_type": "execute_result"
    }
   ],
   "source": [
    "import itertools\n",
    "expanded_primes = sorted(list_of_primes + list(itertools.chain(*[[p ** (2 ** n) for n in range(1, 5 + 1)] for p in list_of_primes])))\n",
    "N, M = 1, 500500507\n",
    "for p_n in expanded_primes[:500500]:\n",
    "    N = (N * p_n) % M\n",
    "\n",
    "N"
   ],
   "metadata": {
    "collapsed": false,
    "ExecuteTime": {
     "end_time": "2023-09-28T02:41:54.838726600Z",
     "start_time": "2023-09-28T02:41:51.317186600Z"
    }
   },
   "id": "aea5447a31591c8f"
  }
 ],
 "metadata": {
  "kernelspec": {
   "display_name": "Python 3",
   "language": "python",
   "name": "python3"
  },
  "language_info": {
   "codemirror_mode": {
    "name": "ipython",
    "version": 2
   },
   "file_extension": ".py",
   "mimetype": "text/x-python",
   "name": "python",
   "nbconvert_exporter": "python",
   "pygments_lexer": "ipython2",
   "version": "2.7.6"
  }
 },
 "nbformat": 4,
 "nbformat_minor": 5
}
