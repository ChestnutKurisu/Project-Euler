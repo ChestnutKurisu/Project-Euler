{
 "cells": [
  {
   "cell_type": "code",
   "execution_count": 4,
   "outputs": [],
   "source": [
    "import functools\n",
    "import itertools\n",
    "import operator\n",
    "import pickle"
   ],
   "metadata": {
    "collapsed": false,
    "ExecuteTime": {
     "end_time": "2023-10-09T15:11:24.689484600Z",
     "start_time": "2023-10-09T15:11:24.687384200Z"
    }
   },
   "id": "81f0d16493a414af"
  },
  {
   "cell_type": "markdown",
   "source": [
    "### Retrieve prime factorizations for each $n$, with $1\\leq n\\leq 10^8$, pre-computed using Pollard's Rho algorithm  "
   ],
   "metadata": {
    "collapsed": false
   },
   "id": "c71683a560b74674"
  },
  {
   "cell_type": "code",
   "execution_count": 5,
   "outputs": [],
   "source": [
    "with open('..\\\\Computation Caches\\\\prime_factorizations_1_100000000.pkl', 'rb') as file:\n",
    "    prime_factorization = pickle.load(file)"
   ],
   "metadata": {
    "collapsed": false,
    "ExecuteTime": {
     "end_time": "2023-10-09T15:13:28.238031800Z",
     "start_time": "2023-10-09T15:11:27.935497100Z"
    }
   },
   "id": "11ac87c566c7a98c"
  },
  {
   "cell_type": "markdown",
   "source": [
    "### Count the number of times that each factor $f\\in[1, n)$ gets multiplied in the computation of $G(n)$, with $n=10^8$, using inclusion-exclusion principle applied to the set of unique prime factors of $f$, and then multiply that many copies of $f$ to the cumulative product modulo $10^9+7$"
   ],
   "metadata": {
    "collapsed": false
   },
   "id": "30145f12581e7144"
  },
  {
   "cell_type": "code",
   "execution_count": 35,
   "outputs": [
    {
     "name": "stdout",
     "output_type": "stream",
     "text": [
      "Progress: 100.0 %\r"
     ]
    },
    {
     "data": {
      "text/plain": "785845900"
     },
     "execution_count": 35,
     "metadata": {},
     "output_type": "execute_result"
    }
   ],
   "source": [
    "def G(n, M):\n",
    "    prod = 1\n",
    "    for factor in range(1, n):\n",
    "        factor_pfs = prime_factorization[factor].keys()  # Set of unique prime factors of factor f\n",
    "        factor_count = n + sum(((-1) ** k) * sum(n // functools.reduce(operator.mul, factor_comb) for factor_comb in itertools.combinations(factor_pfs, k)) for k in range(1, len(factor_pfs) + 1)) - (factor - 1 + sum(((-1) ** k) * sum((factor - 1) // functools.reduce(operator.mul, factor_comb) for factor_comb in itertools.combinations(factor_pfs, k)) for k in range(1, len(factor_pfs) + 1)))\n",
    "        prod = (prod * pow(factor, factor_count, M)) % M\n",
    "        \n",
    "        # Display progress of function execution for large values of N\n",
    "        if factor % (n // 100) == 0:\n",
    "            print('Progress:', factor / (n // 100) + 1, '%', end='\\r', flush=True)\n",
    "        \n",
    "    return prod\n",
    "        \n",
    "G(10 ** 8, 10 ** 9 + 7)"
   ],
   "metadata": {
    "collapsed": false,
    "ExecuteTime": {
     "end_time": "2023-10-09T16:25:51.233297300Z",
     "start_time": "2023-10-09T16:00:40.329540200Z"
    }
   },
   "id": "3951d4379c078b7f"
  }
 ],
 "metadata": {
  "kernelspec": {
   "display_name": "Python 3",
   "language": "python",
   "name": "python3"
  },
  "language_info": {
   "codemirror_mode": {
    "name": "ipython",
    "version": 2
   },
   "file_extension": ".py",
   "mimetype": "text/x-python",
   "name": "python",
   "nbconvert_exporter": "python",
   "pygments_lexer": "ipython2",
   "version": "2.7.6"
  }
 },
 "nbformat": 4,
 "nbformat_minor": 5
}
