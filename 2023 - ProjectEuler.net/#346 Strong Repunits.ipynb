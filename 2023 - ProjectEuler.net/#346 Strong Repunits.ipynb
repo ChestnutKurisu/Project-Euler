{
 "cells": [
  {
   "cell_type": "code",
   "execution_count": 2,
   "outputs": [],
   "source": [
    "import math"
   ],
   "metadata": {
    "collapsed": false,
    "ExecuteTime": {
     "end_time": "2023-10-08T01:21:32.544580900Z",
     "start_time": "2023-10-08T01:21:32.541290600Z"
    }
   },
   "id": "2e2d6460f4284a60"
  },
  {
   "cell_type": "code",
   "execution_count": 14,
   "id": "initial_id",
   "metadata": {
    "collapsed": true,
    "ExecuteTime": {
     "end_time": "2023-10-08T01:24:44.610520600Z",
     "start_time": "2023-10-08T01:24:43.829768100Z"
    }
   },
   "outputs": [
    {
     "data": {
      "text/plain": "336108797689259276"
     },
     "execution_count": 14,
     "metadata": {},
     "output_type": "execute_result"
    }
   ],
   "source": [
    "N = 10 ** 12\n",
    "# Upper bound for base b determined by the constraint for (111)_b: b^2 + b + 1 < N ⇒ b < (-1 + sqrt(4N - 3)) / 2 \n",
    "# From https://en.wikipedia.org/wiki/Repunit: we seek distinct repunits R(b, n) < N in base b of the form (b^n - 1) / (b - 1) with n >= 3 (because then they're clearly strong repunits due to being repunits in base (n - 1) as n = (n - 1) + 1)\n",
    "strong_repunits = [1]\n",
    "for base in range(2, int((-1 + math.sqrt(4 * N - 3)) / 2) + 1):\n",
    "    for n in range(3, int(math.log(1 + (base - 1) * N, base)) + 1):\n",
    "        strong_repunits.append((base ** n - 1) // (base - 1))\n",
    "strong_repunits = sorted(set(strong_repunits))\n",
    "sum(strong_repunits)"
   ]
  }
 ],
 "metadata": {
  "kernelspec": {
   "display_name": "Python 3",
   "language": "python",
   "name": "python3"
  },
  "language_info": {
   "codemirror_mode": {
    "name": "ipython",
    "version": 2
   },
   "file_extension": ".py",
   "mimetype": "text/x-python",
   "name": "python",
   "nbconvert_exporter": "python",
   "pygments_lexer": "ipython2",
   "version": "2.7.6"
  }
 },
 "nbformat": 4,
 "nbformat_minor": 5
}
