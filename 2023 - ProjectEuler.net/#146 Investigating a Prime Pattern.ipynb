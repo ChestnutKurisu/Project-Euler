{
 "cells": [
  {
   "cell_type": "code",
   "execution_count": 1,
   "outputs": [],
   "source": [
    "import math \n",
    "import random"
   ],
   "metadata": {
    "collapsed": false,
    "ExecuteTime": {
     "end_time": "2023-10-04T00:29:12.388473900Z",
     "start_time": "2023-10-04T00:29:12.367764Z"
    }
   },
   "id": "196fdb92b284f546"
  },
  {
   "cell_type": "code",
   "execution_count": 2,
   "outputs": [],
   "source": [
    "def fast_miller_rabin(n, use_probabilistic=False, tolerance=30):\n",
    "    \"\"\"\n",
    "    Tests whether a number is prime using a deterministic version of the Miller-\n",
    "    Rabin primality test. Optionally tests whether the specified number is a\n",
    "    prime probabilistically up to a given tolerance using the regular version of\n",
    "    the Miller-Rabin test. If the number is greater than 10^36, then all witnesses\n",
    "    in the range [2, 2*log(n)*log(log(n))] are tested. However, this is conjectural\n",
    "    and only heuristic evidence exists for it. To certify that a number is actually\n",
    "    prime, one needs to test all witnesses in the range [2, 2*log(n)^2]. However,\n",
    "    this is generally quite slow.\n",
    "    Arguments:\n",
    "        n (:int) - the integer to be tested\n",
    "        use_probabilistic (:bool) - flag to indicate whether to use the regular\n",
    "                                   version of the Miller-Rabin primality test\n",
    "        tolerance (:int) - number of trials to be used to test primality\n",
    "    Returns:\n",
    "        True if 'n' is prime (or probably prime) and False otherwise\n",
    "    References:\n",
    "        - Francky from the PE Forums\n",
    "        - https://miller-rabin.appspot.com/\n",
    "        - https://en.wikipedia.org/wiki/Miller-Rabin_primality_test\n",
    "    \"\"\"\n",
    "    first_prime = [2, 3, 5, 7, 11, 13, 17, 19, 23, 29, 31, 37, 41, 43, 47, 53, 59, 61, 67, 71]\n",
    "    # Determine bases for deterministic Miller-Rabin test\n",
    "    if n >= 10 ** 36:\n",
    "        log_n = math.log(n)\n",
    "        if not use_probabilistic:\n",
    "            w = range(2, 2 * int(log_n * math.log(log_n) / math.log(2)))\n",
    "        else:\n",
    "            w = range(tolerance)\n",
    "    elif n >= 1543267864443420616877677640751301:\n",
    "        w = first_prime[:20]\n",
    "    elif n >= 564132928021909221014087501701:\n",
    "        w = first_prime[:18]\n",
    "    elif n >= 59276361075595573263446330101:\n",
    "        w = first_prime[:16]\n",
    "    elif n >= 6003094289670105800312596501:\n",
    "        w = first_prime[:15]\n",
    "    elif n >= 3317044064679887385961981:\n",
    "        w = first_prime[:14]\n",
    "    elif n >= 318665857834031151167461:\n",
    "        w = first_prime[:13]\n",
    "    elif n >= 3825123056546413051:\n",
    "        w = first_prime[:12]\n",
    "    # [2, 3, 5, 7, 11, 13, 17, 19, 23]\n",
    "    elif n >= 341550071728321:\n",
    "        w = first_prime[:9]\n",
    "    # [2, 3, 5, 7, 11, 13, 17]\n",
    "    elif n >= 3474749660383:\n",
    "        w = first_prime[:7]\n",
    "    elif n >= 2152302898749:\n",
    "        w = first_prime[:6]\n",
    "    # [2, 3, 5, 7, 11, 13]\n",
    "    elif n >= 4759123141:\n",
    "        w = first_prime[:5]\n",
    "    # [2, 3, 5, 7, 11]\n",
    "    elif n >= 9006403:\n",
    "        w = [2, 7, 61]\n",
    "    elif n >= 489997:\n",
    "        # Some Fermat stuff\n",
    "        if n & 1 and n % 3 and n % 5 and n % 7 and n % 11 and n % 13 and n % 17 and n % 19 and n % 23 and n % 29 and n % 31 and n % 37 and n % 41 and n % 43 and n % 47 and n % 53 and n % 59 and n % 61 and n % 67 and n % 71 and n % 73 and n % 79 and n % 83 and n % 89 and n % 97 and n % 101:\n",
    "            hn, nm1 = n >> 1, n - 1\n",
    "            p = pow(2, hn, n)\n",
    "            if p == 1 or p == nm1:\n",
    "                p = pow(3, hn, n)\n",
    "                if p == 1 or p == nm1:\n",
    "                    p = pow(5, hn, n)\n",
    "                    return p == 1 or p == nm1\n",
    "        return False\n",
    "    elif n >= 42799:\n",
    "        return n & 1 and n % 3 and n % 5 and n % 7 and n % 11 and n % 13 and n % 17 and n % 19 and n % 23 and n % 29 and n % 31 and n % 37 and n % 41 and n % 43 and pow(2, n - 1, n) == 1 and pow(5, n - 1, n) == 1\n",
    "    elif n >= 841:\n",
    "        return n & 1 and n % 3 and n % 5 and n % 7 and n % 11 and n % 13 and n % 17 and n % 19 and n % 23 and n % 29 and n % 31 and n % 37 and n % 41 and n % 43 and n % 47 and n % 53 and n % 59 and n % 61 and n % 67 and n % 71 and n % 73 and n % 79 and n % 83 and n % 89 and n % 97 and n % 101 and n % 103 and pow(2, n - 1, n) == 1\n",
    "    elif n >= 25:\n",
    "        return n & 1 and n % 3 and n % 5 and n % 7 and n % 11 and n % 13 and n % 17 and n % 19 and n % 23\n",
    "    elif n >= 4:\n",
    "        return n & 1 and n % 3\n",
    "    else:\n",
    "        return n > 1\n",
    "    if not (n & 1 and n % 3 and n % 5 and n % 7 and n % 11 and n % 13 and n % 17\n",
    "            and n % 19 and n % 23 and n % 29 and n % 31 and n % 37 and n % 41 and n % 43\n",
    "            and n % 47 and n % 53 and n % 59 and n % 61 and n % 67 and n % 71 and n % 73\n",
    "            and n % 79 and n % 83 and n % 89):\n",
    "        return False\n",
    "    # Miller-Rabin\n",
    "    s = 0\n",
    "    d = n - 1\n",
    "    while not d & 1:\n",
    "        d >>= 1\n",
    "        s += 1\n",
    "    for k in w:\n",
    "        # Pick a random witness if probabilistic\n",
    "        if use_probabilistic:\n",
    "            p = random.randint(2, n - 2)\n",
    "        else:\n",
    "            p = k\n",
    "        x = pow(p, d, n)\n",
    "        if x == 1:\n",
    "            continue\n",
    "        for _ in range(s):\n",
    "            if x + 1 == n:\n",
    "                break\n",
    "            x = x * x % n\n",
    "        else:\n",
    "            return False\n",
    "    return True"
   ],
   "metadata": {
    "collapsed": false,
    "ExecuteTime": {
     "end_time": "2023-10-04T00:30:16.822875100Z",
     "start_time": "2023-10-04T00:30:16.816606200Z"
    }
   },
   "id": "4f28adfea52e5250"
  },
  {
   "cell_type": "code",
   "execution_count": 8,
   "id": "initial_id",
   "metadata": {
    "collapsed": true,
    "ExecuteTime": {
     "end_time": "2023-10-04T02:08:09.098850600Z",
     "start_time": "2023-10-04T02:01:37.116574900Z"
    }
   },
   "outputs": [
    {
     "name": "stdout",
     "output_type": "stream",
     "text": [
      "Progress: 100.0 %\r"
     ]
    },
    {
     "data": {
      "text/plain": "676333270"
     },
     "execution_count": 8,
     "metadata": {},
     "output_type": "execute_result"
    }
   ],
   "source": [
    "N = 150 * 10 ** 6\n",
    "s = 0\n",
    "# Starting with n = 2 because n = 0 results in n^2 + 27 = 27 which is not prime, and n must be even to generate n^2 + (odd) k as an odd prime\n",
    "# We can also use the fact that n ≢ 0 (mod 3) since n^2 + 9 should be prime, and so we get n ≡ 2 or 4 (mod 6)\n",
    "# Similarly, n = (5m + 2) or (5m + 3) ⇒ 5∣(n² + 1) and n = (5m + 1) or (5m + 4) ⇒ 5∣(n² + 9), and so n ≡ 0 (mod 5)\n",
    "for n in range(10, N, 10):\n",
    "    # Using the deductions above, we need to check that n ≡ 10 or 20 (mod 30) as the only possibilities\n",
    "    if n % 30 == 0:\n",
    "        continue\n",
    "    n_2 = n * n\n",
    "    if not any(fast_miller_rabin(n_2 + k) for k in [5, 11, 15, 17, 19, 21, 23, 25]) and all(fast_miller_rabin(n_2 + k) for k in [1, 3, 7, 9, 13, 27]):\n",
    "        s += n\n",
    "        \n",
    "    # Display progress of function execution for large values of N\n",
    "    if (n - 10) % (N / 100) == 0:\n",
    "        print('Progress:', (n + 1) // (N / 100) + 1, '%', end='\\r', flush=True)\n",
    "        \n",
    "s"
   ]
  }
 ],
 "metadata": {
  "kernelspec": {
   "display_name": "Python 3",
   "language": "python",
   "name": "python3"
  },
  "language_info": {
   "codemirror_mode": {
    "name": "ipython",
    "version": 2
   },
   "file_extension": ".py",
   "mimetype": "text/x-python",
   "name": "python",
   "nbconvert_exporter": "python",
   "pygments_lexer": "ipython2",
   "version": "2.7.6"
  }
 },
 "nbformat": 4,
 "nbformat_minor": 5
}
