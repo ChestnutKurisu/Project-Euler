{
 "cells": [
  {
   "cell_type": "code",
   "execution_count": 22,
   "id": "initial_id",
   "metadata": {
    "collapsed": true,
    "ExecuteTime": {
     "end_time": "2023-09-26T09:04:38.229500Z",
     "start_time": "2023-09-26T09:04:37.510421200Z"
    }
   },
   "outputs": [
    {
     "data": {
      "text/plain": "1250000"
     },
     "execution_count": 22,
     "metadata": {},
     "output_type": "execute_result"
    }
   ],
   "source": [
    "def ord(n, p):\n",
    "    for i in range(1, p):\n",
    "        if pow(n, i, p) == 1:\n",
    "            return i\n",
    "        \n",
    "ord(1777, 10 ** 8)"
   ]
  },
  {
   "cell_type": "code",
   "execution_count": 23,
   "outputs": [
    {
     "data": {
      "text/plain": "95962097"
     },
     "execution_count": 23,
     "metadata": {},
     "output_type": "execute_result"
    }
   ],
   "source": [
    "# Note that 1777 ↑↑ 1847 (mod 4) = 1 ⇒ 1777 ↑↑ 1848 (mod 20) ≡ 1777 ^ 1 (mod 20) = 17 ⇒ 1777 ↑↑ 1849 (mod 100) ≡ 1777 ^ 17 (mod 100) ...\n",
    "def hyper_exponentiation(base, hyper_exp, modulo):\n",
    "    if hyper_exp == 1:\n",
    "        return base % modulo\n",
    "    \n",
    "    k = ord(base, modulo)\n",
    "    if k == 1:\n",
    "        return 1\n",
    "    \n",
    "    return pow(base, hyper_exponentiation(base, hyper_exp - 1, k), modulo)\n",
    "\n",
    "hyper_exponentiation(1777, 1855, 10 ** 8)"
   ],
   "metadata": {
    "collapsed": false,
    "ExecuteTime": {
     "end_time": "2023-09-26T09:04:39.725088400Z",
     "start_time": "2023-09-26T09:04:38.960719200Z"
    }
   },
   "id": "777be670443b044b"
  }
 ],
 "metadata": {
  "kernelspec": {
   "display_name": "Python 3",
   "language": "python",
   "name": "python3"
  },
  "language_info": {
   "codemirror_mode": {
    "name": "ipython",
    "version": 2
   },
   "file_extension": ".py",
   "mimetype": "text/x-python",
   "name": "python",
   "nbconvert_exporter": "python",
   "pygments_lexer": "ipython2",
   "version": "2.7.6"
  }
 },
 "nbformat": 4,
 "nbformat_minor": 5
}
