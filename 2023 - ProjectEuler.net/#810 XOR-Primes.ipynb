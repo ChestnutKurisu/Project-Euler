{
 "cells": [
  {
   "cell_type": "code",
   "execution_count": 1,
   "outputs": [],
   "source": [
    "import functools\n",
    "import operator"
   ],
   "metadata": {
    "collapsed": false,
    "ExecuteTime": {
     "end_time": "2023-10-09T11:44:50.837166400Z",
     "start_time": "2023-10-09T11:44:50.832626800Z"
    }
   },
   "id": "d4aed2183db1badc"
  },
  {
   "cell_type": "markdown",
   "source": [
    "### Implement the XOR product $a\\otimes b$ operator"
   ],
   "metadata": {
    "collapsed": false
   },
   "id": "bc26fb424aafa61a"
  },
  {
   "cell_type": "code",
   "execution_count": 46,
   "outputs": [],
   "source": [
    "def XOR_mul(a, b):\n",
    "    a_bin, b_bin = bin(a)[2:], bin(b)[2:]\n",
    "    return functools.reduce(operator.xor, [int(a_bin + '0' * (len(b_bin) - i - 1), 2) if b_bin[i] == '1' else 0 for i in range(len(b_bin))])"
   ],
   "metadata": {
    "collapsed": false,
    "ExecuteTime": {
     "end_time": "2023-10-09T12:16:48.567567600Z",
     "start_time": "2023-10-09T12:16:48.561049500Z"
    }
   },
   "id": "dbb04e3e13c45494"
  },
  {
   "cell_type": "markdown",
   "source": [
    "### Maintain a large enough sieve to track XOR-primality flags for at least the first $5$ million XOR-primes and use a technique similar to the Sieve of Eratosthenes to iterate through XOR-primes and mark their XOR-multiples as not prime"
   ],
   "metadata": {
    "collapsed": false
   },
   "id": "d2738411a6e3eab5"
  },
  {
   "cell_type": "code",
   "execution_count": 93,
   "outputs": [
    {
     "data": {
      "text/plain": "124136381"
     },
     "execution_count": 93,
     "metadata": {},
     "output_type": "execute_result"
    }
   ],
   "source": [
    "n = 5 * 10 ** 6\n",
    "xor_prime_list = []\n",
    "is_prime = bytearray([False, False]) + bytearray([True]) * (15 * 10 ** 7 - 1)\n",
    "p = 2  # 2 is the first XOR-prime\n",
    "while len(xor_prime_list) < n:\n",
    "    if is_prime[p]:\n",
    "        xor_prime_list.append(p)\n",
    "        i = 2 \n",
    "        xor_product = XOR_mul(p, i)\n",
    "        while xor_product <= 15 * 10 ** 7:\n",
    "            is_prime[xor_product] = False\n",
    "            i += 1\n",
    "            xor_product = XOR_mul(p, i)\n",
    "    p += 1\n",
    "    \n",
    "xor_prime_list[n - 1]"
   ],
   "metadata": {
    "collapsed": false,
    "ExecuteTime": {
     "end_time": "2023-10-09T13:44:59.436252400Z",
     "start_time": "2023-10-09T13:13:39.248661700Z"
    }
   },
   "id": "8b5dff93bceed307"
  }
 ],
 "metadata": {
  "kernelspec": {
   "display_name": "Python 3",
   "language": "python",
   "name": "python3"
  },
  "language_info": {
   "codemirror_mode": {
    "name": "ipython",
    "version": 2
   },
   "file_extension": ".py",
   "mimetype": "text/x-python",
   "name": "python",
   "nbconvert_exporter": "python",
   "pygments_lexer": "ipython2",
   "version": "2.7.6"
  }
 },
 "nbformat": 4,
 "nbformat_minor": 5
}
