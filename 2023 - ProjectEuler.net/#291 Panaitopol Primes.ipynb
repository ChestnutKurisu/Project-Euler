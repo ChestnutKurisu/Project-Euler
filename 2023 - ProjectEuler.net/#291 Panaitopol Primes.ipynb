{
 "cells": [
  {
   "cell_type": "code",
   "execution_count": 12,
   "outputs": [],
   "source": [
    "import math\n",
    "import random"
   ],
   "metadata": {
    "collapsed": false,
    "ExecuteTime": {
     "end_time": "2023-10-09T00:20:17.998205500Z",
     "start_time": "2023-10-09T00:20:17.995869800Z"
    }
   },
   "id": "ab47c630bf226538"
  },
  {
   "cell_type": "code",
   "execution_count": 13,
   "outputs": [],
   "source": [
    "def fast_miller_rabin(n, use_probabilistic=False, tolerance=30):\n",
    "    \"\"\"\n",
    "    Tests whether a number is prime using a deterministic version of the Miller-\n",
    "    Rabin primality test. Optionally tests whether the specified number is a\n",
    "    prime probabilistically up to a given tolerance using the regular version of\n",
    "    the Miller-Rabin test. If the number is greater than 10^36, then all witnesses\n",
    "    in the range [2, 2*log(n)*log(log(n))] are tested. However, this is conjectural\n",
    "    and only heuristic evidence exists for it. To certify that a number is actually\n",
    "    prime, one needs to test all witnesses in the range [2, 2*log(n)^2]. However,\n",
    "    this is generally quite slow.\n",
    "    Arguments:\n",
    "        n (:int) - the integer to be tested\n",
    "        use_probabilistic (:bool) - flag to indicate whether to use the regular\n",
    "                                   version of the Miller-Rabin primality test\n",
    "        tolerance (:int) - number of trials to be used to test primality\n",
    "    Returns:\n",
    "        True if 'n' is prime (or probably prime) and False otherwise\n",
    "    References:\n",
    "        - Francky from the PE Forums\n",
    "        - https://miller-rabin.appspot.com/\n",
    "        - https://en.wikipedia.org/wiki/Miller-Rabin_primality_test\n",
    "    \"\"\"\n",
    "    firstPrime = [2, 3, 5, 7, 11, 13, 17, 19, 23, 29, 31, 37, 41, 43, 47, 53, 59, 61, 67, 71]\n",
    "    # Determine bases for deterministic Miller-Rabin test\n",
    "    if n >= 10 ** 36:\n",
    "        log_n = math.log(n)\n",
    "        if not use_probabilistic:\n",
    "            w = range(2, 2 * int(log_n * math.log(log_n) / math.log(2)))\n",
    "        else:\n",
    "            w = range(tolerance)\n",
    "    elif n >= 1543267864443420616877677640751301:\n",
    "        w = firstPrime[:20]\n",
    "    elif n >= 564132928021909221014087501701:\n",
    "        w = firstPrime[:18]\n",
    "    elif n >= 59276361075595573263446330101:\n",
    "        w = firstPrime[:16]\n",
    "    elif n >= 6003094289670105800312596501:\n",
    "        w = firstPrime[:15]\n",
    "    elif n >= 3317044064679887385961981:\n",
    "        w = firstPrime[:14]\n",
    "    elif n >= 318665857834031151167461:\n",
    "        w = firstPrime[:13]\n",
    "    elif n >= 3825123056546413051:\n",
    "        w = firstPrime[:12]\n",
    "    # [2, 3, 5, 7, 11, 13, 17, 19, 23]\n",
    "    elif n >= 341550071728321:\n",
    "        w = firstPrime[:9]\n",
    "    # [2, 3, 5, 7, 11, 13, 17]\n",
    "    elif n >= 3474749660383:\n",
    "        w = firstPrime[:7]\n",
    "    elif n >= 2152302898749:\n",
    "        w = firstPrime[:6]\n",
    "    # [2, 3, 5, 7, 11, 13]\n",
    "    elif n >= 4759123141:\n",
    "        w = firstPrime[:5]\n",
    "    # [2, 3, 5, 7, 11]\n",
    "    elif n >= 9006403:\n",
    "        w = [2, 7, 61]\n",
    "    elif n >= 489997:\n",
    "        # Some Fermat stuff\n",
    "        if n & 1 and n % 3 and n % 5 and n % 7 and n % 11 and n % 13 and n % 17 and n % 19 and n % 23 and n % 29 and n % 31 and n % 37 and n % 41 and n % 43 and n % 47 and n % 53 and n % 59 and n % 61 and n % 67 and n % 71 and n % 73 and n % 79 and n % 83 and n % 89 and n % 97 and n % 101:\n",
    "            hn, nm1 = n >> 1, n - 1\n",
    "            p = pow(2, hn, n)\n",
    "            if p == 1 or p == nm1:\n",
    "                p = pow(3, hn, n)\n",
    "                if p == 1 or p == nm1:\n",
    "                    p = pow(5, hn, n)\n",
    "                    return p == 1 or p == nm1\n",
    "        return False\n",
    "    elif n >= 42799:\n",
    "        return n & 1 and n % 3 and n % 5 and n % 7 and n % 11 and n % 13 and n % 17 and n % 19 and n % 23 and n % 29 and n % 31 and n % 37 and n % 41 and n % 43 and pow(2, n - 1, n) == 1 and pow(5, n - 1, n) == 1\n",
    "    elif n >= 841:\n",
    "        return n & 1 and n % 3 and n % 5 and n % 7 and n % 11 and n % 13 and n % 17 and n % 19 and n % 23 and n % 29 and n % 31 and n % 37 and n % 41 and n % 43 and n % 47 and n % 53 and n % 59 and n % 61 and n % 67 and n % 71 and n % 73 and n % 79 and n % 83 and n % 89 and n % 97 and n % 101 and n % 103 and pow(2, n - 1, n) == 1\n",
    "    elif n >= 25:\n",
    "        return n & 1 and n % 3 and n % 5 and n % 7 and n % 11 and n % 13 and n % 17 and n % 19 and n % 23\n",
    "    elif n >= 4:\n",
    "        return n & 1 and n % 3\n",
    "    else:\n",
    "        return n > 1\n",
    "    if not (n & 1 and n % 3 and n % 5 and n % 7 and n % 11 and n % 13 and n % 17\n",
    "            and n % 19 and n % 23 and n % 29 and n % 31 and n % 37 and n % 41 and n % 43\n",
    "            and n % 47 and n % 53 and n % 59 and n % 61 and n % 67 and n % 71 and n % 73\n",
    "            and n % 79 and n % 83 and n % 89):\n",
    "        return False\n",
    "    # Miller-Rabin\n",
    "    s = 0\n",
    "    d = n - 1\n",
    "    while not d & 1:\n",
    "        d >>= 1\n",
    "        s += 1\n",
    "    for k in w:\n",
    "        # Pick a random witness if probabilistic\n",
    "        if use_probabilistic:\n",
    "            p = random.randint(2, n - 2)\n",
    "        else:\n",
    "            p = k\n",
    "        x = pow(p, d, n)\n",
    "        if x == 1:\n",
    "            continue\n",
    "        for _ in range(s):\n",
    "            if x + 1 == n:\n",
    "                break\n",
    "            x = x * x % n\n",
    "        else:\n",
    "            return False\n",
    "    return True"
   ],
   "metadata": {
    "collapsed": false,
    "ExecuteTime": {
     "end_time": "2023-10-09T00:20:18.399144700Z",
     "start_time": "2023-10-09T00:20:18.395917600Z"
    }
   },
   "id": "2a21374c4088588"
  },
  {
   "cell_type": "markdown",
   "source": [
    "### Recognizing the sequence: \n",
    "### $5(x=6,y=3)$, $13(x=21,y=14)$, $41(x=105,y=84)$, $61(x=186,y=155)$, $113(x=456,y=399)$, $181(x=910,y=819)$, $313(x=2041,y=1884), \\ldots$ as [A027862](https://oeis.org/A027862https://oeis.org/A027862), we find primes of the form $p=j^2+(j+1)^2$ for $j\\in\\mathbb{N}$"
   ],
   "metadata": {
    "collapsed": false
   },
   "id": "e1734285cf9ff0fa"
  },
  {
   "cell_type": "code",
   "execution_count": 24,
   "id": "initial_id",
   "metadata": {
    "collapsed": true,
    "ExecuteTime": {
     "end_time": "2023-10-09T00:42:43.112921500Z",
     "start_time": "2023-10-09T00:37:09.973062Z"
    }
   },
   "outputs": [
    {
     "name": "stdout",
     "output_type": "stream",
     "text": [
      "Progress: 100 %\r"
     ]
    },
    {
     "data": {
      "text/plain": "4037526"
     },
     "execution_count": 24,
     "metadata": {},
     "output_type": "execute_result"
    }
   ],
   "source": [
    "N = 5 * 10 ** 15\n",
    "M = int((-1 + (2 * N - 1) ** 0.5) // 2)  # Since 2j^2 + 2j + 1 < N ⇒ j < M\n",
    "panaitopol_primes = []\n",
    "for j in range(1, M + 1):\n",
    "    p = j ** 2 + (j + 1) ** 2\n",
    "    if fast_miller_rabin(p):\n",
    "        panaitopol_primes.append(p)\n",
    "        \n",
    "    # Display progress of function execution for large values of N\n",
    "    if j % (M // 100) == 0:\n",
    "        print('Progress:', j // (M // 100), '%', end='\\r', flush=True)\n",
    "\n",
    "panaitopol_primes = sorted(set(panaitopol_primes))\n",
    "len(panaitopol_primes)"
   ]
  }
 ],
 "metadata": {
  "kernelspec": {
   "display_name": "Python 3",
   "language": "python",
   "name": "python3"
  },
  "language_info": {
   "codemirror_mode": {
    "name": "ipython",
    "version": 2
   },
   "file_extension": ".py",
   "mimetype": "text/x-python",
   "name": "python",
   "nbconvert_exporter": "python",
   "pygments_lexer": "ipython2",
   "version": "2.7.6"
  }
 },
 "nbformat": 4,
 "nbformat_minor": 5
}
