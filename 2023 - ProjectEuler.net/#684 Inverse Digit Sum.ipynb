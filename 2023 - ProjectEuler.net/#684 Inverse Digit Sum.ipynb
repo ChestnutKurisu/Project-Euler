{
 "cells": [
  {
   "cell_type": "code",
   "execution_count": 1,
   "outputs": [],
   "source": [
    "from decimal import *"
   ],
   "metadata": {
    "collapsed": false,
    "ExecuteTime": {
     "end_time": "2023-09-25T02:51:38.968378500Z",
     "start_time": "2023-09-25T02:51:38.964178300Z"
    }
   },
   "id": "dab705d6565b6680"
  },
  {
   "cell_type": "markdown",
   "source": [
    "### [Compute a (m times) modulo n efficiently](https://stackoverflow.com/a/41365271)"
   ],
   "metadata": {
    "collapsed": false
   },
   "id": "b236532f45e9b3bf"
  },
  {
   "cell_type": "code",
   "execution_count": 2,
   "outputs": [],
   "source": [
    "def geometric(a, k, n):\n",
    "    \"\"\"calculates (1 + a + a^2 + ... + a^(k - 1)) mod n)\"\"\"\n",
    "    if k <= 2:\n",
    "        return sum(a ** i for i in range(k)) % n\n",
    "    else:\n",
    "        m = k // 2\n",
    "        b = pow(a, 2, n)\n",
    "        g = ((1 + a) * geometric(b, m, n)) % n\n",
    "        return g if k % 2 == 0 else (g + pow(a, k - 1, n)) % n\n",
    "\n",
    "def modulo_repeat(a, m, n):\n",
    "    \"\"\" returns aaaa...a (m times) modulo n\"\"\"\n",
    "    k = len(str(a))\n",
    "    r = pow(10, k, n)\n",
    "    return (a * geometric(r, m, n)) % n"
   ],
   "metadata": {
    "collapsed": false,
    "ExecuteTime": {
     "end_time": "2023-09-25T02:51:38.978626600Z",
     "start_time": "2023-09-25T02:51:38.970379900Z"
    }
   },
   "id": "8f17ac64b28ae0a9"
  },
  {
   "cell_type": "markdown",
   "source": [
    "### Analyze pattern in values of $s(n)$\n",
    "#### Clearly, we have $s(n) = (n\\,(\\text{mod}^*\\,9))\\times10^{\\frac{n-1}{9}} + 10^{\\frac{n-1}{9}} - 1$, where exponents of $10$ follow integer division"
   ],
   "metadata": {
    "collapsed": false
   },
   "id": "e99d010bdcf4618a"
  },
  {
   "cell_type": "code",
   "execution_count": 3,
   "id": "initial_id",
   "metadata": {
    "collapsed": true,
    "ExecuteTime": {
     "end_time": "2023-09-25T02:51:39.677811500Z",
     "start_time": "2023-09-25T02:51:38.979626Z"
    }
   },
   "outputs": [
    {
     "data": {
      "text/plain": "{1: 1,\n 2: 2,\n 3: 3,\n 4: 4,\n 5: 5,\n 6: 6,\n 7: 7,\n 8: 8,\n 9: 9,\n 10: 19,\n 11: 29,\n 12: 39,\n 13: 49,\n 14: 59,\n 15: 69,\n 16: 79,\n 17: 89,\n 18: 99,\n 19: 199,\n 20: 299,\n 21: 399,\n 22: 499,\n 23: 599,\n 24: 699,\n 25: 799,\n 26: 899,\n 27: 999,\n 28: 1999,\n 29: 2999,\n 30: 3999,\n 31: 4999,\n 32: 5999,\n 33: 6999,\n 34: 7999,\n 35: 8999,\n 36: 9999,\n 37: 19999,\n 38: 29999,\n 39: 39999,\n 40: 49999,\n 41: 59999,\n 42: 69999,\n 43: 79999,\n 44: 89999,\n 45: 99999,\n 46: 199999,\n 47: 299999,\n 48: 399999,\n 49: 499999}"
     },
     "execution_count": 3,
     "metadata": {},
     "output_type": "execute_result"
    }
   ],
   "source": [
    "digit_sums = [sum(int(d) for d in str(n)) for n in range(1, 10 ** 6)]\n",
    "s = {n: digit_sums.index(n) + 1 for n in range(1, 50)}\n",
    "s"
   ]
  },
  {
   "cell_type": "code",
   "execution_count": 4,
   "outputs": [
    {
     "data": {
      "text/plain": "{(1, 9): 45, (10, 18): 531, (19, 27): 5391, (28, 36): 53991, (37, 45): 539991}"
     },
     "execution_count": 4,
     "metadata": {},
     "output_type": "execute_result"
    }
   ],
   "source": [
    "{(n - 8, n): sum(s[k] for k in range(1, 50) if n - 9 < k <= n) for n in range(9, 50, 9)}"
   ],
   "metadata": {
    "collapsed": false,
    "ExecuteTime": {
     "end_time": "2023-09-25T02:51:39.677811500Z",
     "start_time": "2023-09-25T02:51:39.672612200Z"
    }
   },
   "id": "86d9f1c069aaa5cd"
  },
  {
   "cell_type": "markdown",
   "source": [
    "### Summing $s(n)$ inferred from above yields the following computation for $S(k)$\n",
    "#### $S(k) = 45 + 531 + 5391 + 53991 + 539991 + 5399991 + \\cdots + \\sum_{n=9\\lfloor\\frac{k}{9}\\rfloor + 1}^{k} s(n)$\n",
    "\n",
    "Also note that the sum $531 + 5391 + 53991 + \\cdots = 54(10+10^2+10^3+\\cdots) - (9+9+9+\\cdots)$"
   ],
   "metadata": {
    "collapsed": false
   },
   "id": "6ddc325cb9103b97"
  },
  {
   "cell_type": "code",
   "execution_count": 5,
   "outputs": [
    {
     "data": {
      "text/plain": "1074"
     },
     "execution_count": 5,
     "metadata": {},
     "output_type": "execute_result"
    }
   ],
   "source": [
    "s = lambda n: ((lambda x: x if x != 0 else 9)(n % 9) + 1) * pow(10, (n - 1) // 9, 10 ** 9 + 7) - 1\n",
    "\n",
    "def S(k):\n",
    "    if k <= 9:\n",
    "        # s(n) = n for 1 <= n <= 9\n",
    "        return sum(n for n in range(1, k + 1))\n",
    "    else:\n",
    "        c_1 = k // 9\n",
    "        return (45 + (540 * (0 if c_1 == 1 else modulo_repeat(1, c_1 - 1, 10 ** 9 + 7)) - 9 * (c_1 - 1)) + sum(s(n) for n in range(9 * c_1 + 1, k + 1))) % (10 ** 9 + 7)\n",
    "    \n",
    "S(20)"
   ],
   "metadata": {
    "collapsed": false,
    "ExecuteTime": {
     "end_time": "2023-09-25T02:51:39.696462Z",
     "start_time": "2023-09-25T02:51:39.678891600Z"
    }
   },
   "id": "66c550c154f368fb"
  },
  {
   "cell_type": "markdown",
   "source": [
    "### Definition of Fibonacci sequence numbers $\\{f_n\\}$ based on golden ratio computation"
   ],
   "metadata": {
    "collapsed": false
   },
   "id": "5c5b923cee45a039"
  },
  {
   "cell_type": "code",
   "execution_count": 6,
   "outputs": [],
   "source": [
    "getcontext().prec = 30\n",
    "\n",
    "\n",
    "def f(n):\n",
    "    return int(round(Decimal(1) / Decimal(5).sqrt() * (((Decimal(1) + Decimal(5).sqrt()) / Decimal(2)) ** Decimal(n) - (\n",
    "            (Decimal(1) - Decimal(5).sqrt()) / Decimal(2)) ** Decimal(n))))"
   ],
   "metadata": {
    "collapsed": false,
    "ExecuteTime": {
     "end_time": "2023-09-25T02:51:40.446462800Z",
     "start_time": "2023-09-25T02:51:40.443753100Z"
    }
   },
   "id": "bd442f1c1bfa703e"
  },
  {
   "cell_type": "markdown",
   "source": [
    "### Final answer: $\\sum_{i=2}^{90}S(f_i)\\,(\\text{mod }10^9+7)$"
   ],
   "metadata": {
    "collapsed": false
   },
   "id": "6e2a0a8eeb7b6edc"
  },
  {
   "cell_type": "code",
   "execution_count": 12,
   "outputs": [
    {
     "data": {
      "text/plain": "922058210"
     },
     "execution_count": 12,
     "metadata": {},
     "output_type": "execute_result"
    }
   ],
   "source": [
    "sum(S(f(i)) for i in range(2, 90 + 1)) % (10 ** 9 + 7)"
   ],
   "metadata": {
    "collapsed": false,
    "ExecuteTime": {
     "end_time": "2023-09-25T02:52:17.537020Z",
     "start_time": "2023-09-25T02:52:17.528241400Z"
    }
   },
   "id": "e78b790cf82836fb"
  }
 ],
 "metadata": {
  "kernelspec": {
   "display_name": "Python 3",
   "language": "python",
   "name": "python3"
  },
  "language_info": {
   "codemirror_mode": {
    "name": "ipython",
    "version": 2
   },
   "file_extension": ".py",
   "mimetype": "text/x-python",
   "name": "python",
   "nbconvert_exporter": "python",
   "pygments_lexer": "ipython2",
   "version": "2.7.6"
  }
 },
 "nbformat": 4,
 "nbformat_minor": 5
}
