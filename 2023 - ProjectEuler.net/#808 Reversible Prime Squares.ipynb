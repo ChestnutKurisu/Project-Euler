{
 "cells": [
  {
   "cell_type": "code",
   "execution_count": 1,
   "outputs": [],
   "source": [
    "import random\n",
    "import math\n",
    "from math import log"
   ],
   "metadata": {
    "collapsed": false,
    "ExecuteTime": {
     "end_time": "2023-09-26T16:37:17.733699Z",
     "start_time": "2023-09-26T16:37:17.730903800Z"
    }
   },
   "id": "411e26bbc44b81e4"
  },
  {
   "cell_type": "markdown",
   "source": [
    "### Get all required primes $p$, with $2 \\leq p < 2\\times10^8$"
   ],
   "metadata": {
    "collapsed": false
   },
   "id": "6d2d93e0012c7235"
  },
  {
   "cell_type": "code",
   "execution_count": 4,
   "outputs": [
    {
     "data": {
      "text/plain": "11078937"
     },
     "execution_count": 4,
     "metadata": {},
     "output_type": "execute_result"
    }
   ],
   "source": [
    "def rwh_primes2(n):\n",
    "    # https://stackoverflow.com/questions/2068372/fastest-way-to-list-all-primes-below-n-in-python/3035188#3035188\n",
    "    \"\"\" Input n>=6, Returns a list of primes, 2 <= p < n \"\"\"\n",
    "    n, correction = n - n % 6 + 6, 2 - (n % 6 > 1)\n",
    "    sieve = bytearray([True]) * (n // 3)\n",
    "    for i in range(1, int(n ** 0.5) // 3 + 1):\n",
    "        if sieve[i]:\n",
    "            k = 3 * i + 1 | 1\n",
    "            sieve[k * k // 3::2 * k] = bytearray([False]) * ((n // 6 - k * k // 6 - 1) // k + 1)\n",
    "            sieve[k * (k - 2 * (i & 1) + 4) // 3::2 * k] = bytearray([False]) * (\n",
    "                    (n // 6 - k * (k - 2 * (i & 1) + 4) // 6 - 1) // k + 1)\n",
    "    return [2, 3] + [3 * i + 1 | 1 for i in range(1, n // 3 - correction) if sieve[i]]\n",
    "\n",
    "list_of_primes = rwh_primes2(2 * 10 ** 8)\n",
    "len(list_of_primes)"
   ],
   "metadata": {
    "collapsed": false,
    "ExecuteTime": {
     "end_time": "2023-09-24T21:10:18.884826600Z",
     "start_time": "2023-09-24T21:10:15.414892700Z"
    }
   },
   "id": "924122a77e2c196b"
  },
  {
   "cell_type": "markdown",
   "source": [
    "### Use the Miller Rabin test to determine if square root of a number is prime"
   ],
   "metadata": {
    "collapsed": false
   },
   "id": "7966d919a0c8c14c"
  },
  {
   "cell_type": "code",
   "execution_count": 6,
   "outputs": [],
   "source": [
    "def fast_miller_rabin(n, use_probabilistic=False, tolerance=30):\n",
    "    \"\"\"\n",
    "    Tests whether a number is prime using a deterministic version of the Miller-\n",
    "    Rabin primality test. Optionally tests whether the specified number is a\n",
    "    prime probabilistically up to a given tolerance using the regular version of\n",
    "    the Miller-Rabin test. If the number is greater than 10^36, then all witnesses\n",
    "    in the range [2, 2*log(n)*log(log(n))] are tested. However, this is conjectural\n",
    "    and only heuristic evidence exists for it. To certify that a number is actually\n",
    "    prime, one needs to test all witnesses in the range [2, 2*log(n)^2]. However,\n",
    "    this is generally quite slow.\n",
    "    Arguments:\n",
    "        n (:int) - the integer to be tested\n",
    "        use_probabilistic (:bool) - flag to indicate whether to use the regular\n",
    "                                   version of the Miller-Rabin primality test\n",
    "        tolerance (:int) - number of trials to be used to test primality\n",
    "    Returns:\n",
    "        True if 'n' is prime (or probably prime) and False otherwise\n",
    "    References:\n",
    "        - Francky from the PE Forums\n",
    "        - https://miller-rabin.appspot.com/\n",
    "        - https://en.wikipedia.org/wiki/Miller-Rabin_primality_test\n",
    "    \"\"\"\n",
    "    firstPrime = [2, 3, 5, 7, 11, 13, 17, 19, 23, 29, 31, 37, 41, 43, 47, 53, 59, 61, 67, 71]\n",
    "    # Determine bases for deterministic Miller-Rabin test\n",
    "    if n >= 10 ** 36:\n",
    "        log_n = math.log(n)\n",
    "        if not use_probabilistic:\n",
    "            w = range(2, 2 * int(log_n * log(log_n) / log(2)))\n",
    "        else:\n",
    "            w = range(tolerance)\n",
    "    elif n >= 1543267864443420616877677640751301:\n",
    "        w = firstPrime[:20]\n",
    "    elif n >= 564132928021909221014087501701:\n",
    "        w = firstPrime[:18]\n",
    "    elif n >= 59276361075595573263446330101:\n",
    "        w = firstPrime[:16]\n",
    "    elif n >= 6003094289670105800312596501:\n",
    "        w = firstPrime[:15]\n",
    "    elif n >= 3317044064679887385961981:\n",
    "        w = firstPrime[:14]\n",
    "    elif n >= 318665857834031151167461:\n",
    "        w = firstPrime[:13]\n",
    "    elif n >= 3825123056546413051:\n",
    "        w = firstPrime[:12]\n",
    "    # [2, 3, 5, 7, 11, 13, 17, 19, 23]\n",
    "    elif n >= 341550071728321:\n",
    "        w = firstPrime[:9]\n",
    "    # [2, 3, 5, 7, 11, 13, 17]\n",
    "    elif n >= 3474749660383:\n",
    "        w = firstPrime[:7]\n",
    "    elif n >= 2152302898749:\n",
    "        w = firstPrime[:6]\n",
    "    # [2, 3, 5, 7, 11, 13]\n",
    "    elif n >= 4759123141:\n",
    "        w = firstPrime[:5]\n",
    "    # [2, 3, 5, 7, 11]\n",
    "    elif n >= 9006403:\n",
    "        w = [2, 7, 61]\n",
    "    elif n >= 489997:\n",
    "        # Some Fermat stuff\n",
    "        if n & 1 and n % 3 and n % 5 and n % 7 and n % 11 and n % 13 and n % 17 and n % 19 and n % 23 and n % 29 and n % 31 and n % 37 and n % 41 and n % 43 and n % 47 and n % 53 and n % 59 and n % 61 and n % 67 and n % 71 and n % 73 and n % 79 and n % 83 and n % 89 and n % 97 and n % 101:\n",
    "            hn, nm1 = n >> 1, n - 1\n",
    "            p = pow(2, hn, n)\n",
    "            if p == 1 or p == nm1:\n",
    "                p = pow(3, hn, n)\n",
    "                if p == 1 or p == nm1:\n",
    "                    p = pow(5, hn, n)\n",
    "                    return p == 1 or p == nm1\n",
    "        return False\n",
    "    elif n >= 42799:\n",
    "        return n & 1 and n % 3 and n % 5 and n % 7 and n % 11 and n % 13 and n % 17 and n % 19 and n % 23 and n % 29 and n % 31 and n % 37 and n % 41 and n % 43 and pow(2, n - 1, n) == 1 and pow(5, n - 1, n) == 1\n",
    "    elif n >= 841:\n",
    "        return n & 1 and n % 3 and n % 5 and n % 7 and n % 11 and n % 13 and n % 17 and n % 19 and n % 23 and n % 29 and n % 31 and n % 37 and n % 41 and n % 43 and n % 47 and n % 53 and n % 59 and n % 61 and n % 67 and n % 71 and n % 73 and n % 79 and n % 83 and n % 89 and n % 97 and n % 101 and n % 103 and pow(2, n - 1, n) == 1\n",
    "    elif n >= 25:\n",
    "        return n & 1 and n % 3 and n % 5 and n % 7 and n % 11 and n % 13 and n % 17 and n % 19 and n % 23\n",
    "    elif n >= 4:\n",
    "        return n & 1 and n % 3\n",
    "    else:\n",
    "        return n > 1\n",
    "    if not (n & 1 and n % 3 and n % 5 and n % 7 and n % 11 and n % 13 and n % 17\n",
    "            and n % 19 and n % 23 and n % 29 and n % 31 and n % 37 and n % 41 and n % 43\n",
    "            and n % 47 and n % 53 and n % 59 and n % 61 and n % 67 and n % 71 and n % 73\n",
    "            and n % 79 and n % 83 and n % 89):\n",
    "        return False\n",
    "    # Miller-Rabin\n",
    "    s = 0\n",
    "    d = n - 1\n",
    "    while not d & 1:\n",
    "        d >>= 1\n",
    "        s += 1\n",
    "    for k in w:\n",
    "        # Pick a random witness if probabilistic\n",
    "        if use_probabilistic:\n",
    "            p = random.randint(2, n - 2)\n",
    "        else:\n",
    "            p = k\n",
    "        x = pow(p, d, n)\n",
    "        if x == 1:\n",
    "            continue\n",
    "        for _ in range(s):\n",
    "            if x + 1 == n:\n",
    "                break\n",
    "            x = x * x % n\n",
    "        else:\n",
    "            return False\n",
    "    return True"
   ],
   "metadata": {
    "collapsed": false,
    "ExecuteTime": {
     "end_time": "2023-09-24T21:10:44.207633300Z",
     "start_time": "2023-09-24T21:10:44.191095Z"
    }
   },
   "id": "2bf81484a5528e46"
  },
  {
   "cell_type": "markdown",
   "source": [
    "### Find the sum of the first 50 reversible prime squares"
   ],
   "metadata": {
    "collapsed": false
   },
   "id": "16f31cd2d2c0a538"
  },
  {
   "cell_type": "code",
   "execution_count": 12,
   "outputs": [
    {
     "name": "stdout",
     "output_type": "stream",
     "text": [
      "Reversible prime square: 169\n",
      "Reversible prime square: 961\n",
      "Reversible prime square: 12769\n",
      "Reversible prime square: 96721\n",
      "Reversible prime square: 1042441\n",
      "Reversible prime square: 1062961\n",
      "Reversible prime square: 1216609\n",
      "Reversible prime square: 1442401\n",
      "Reversible prime square: 1692601\n",
      "Reversible prime square: 9066121\n",
      "Reversible prime square: 121066009\n",
      "Reversible prime square: 900660121\n",
      "Reversible prime square: 12148668841\n",
      "Reversible prime square: 12367886521\n",
      "Reversible prime square: 12568876321\n",
      "Reversible prime square: 14886684121\n",
      "Reversible prime square: 1000422044521\n",
      "Reversible prime square: 1002007006009\n",
      "Reversible prime square: 1020506060401\n",
      "Reversible prime square: 1040606050201\n",
      "Reversible prime square: 1210684296721\n",
      "Reversible prime square: 1212427816609\n",
      "Reversible prime square: 1212665666521\n",
      "Reversible prime square: 1214648656321\n",
      "Reversible prime square: 1234367662441\n",
      "Reversible prime square: 1236568464121\n",
      "Reversible prime square: 1254402240001\n",
      "Reversible prime square: 1256665662121\n",
      "Reversible prime square: 1276924860121\n",
      "Reversible prime square: 1442667634321\n",
      "Reversible prime square: 9006007002001\n",
      "Reversible prime square: 9066187242121\n",
      "Reversible prime square: 100042424498641\n",
      "Reversible prime square: 100222143232201\n",
      "Reversible prime square: 100240164024001\n",
      "Reversible prime square: 100402824854641\n",
      "Reversible prime square: 100420461042001\n",
      "Reversible prime square: 102012282612769\n",
      "Reversible prime square: 102014060240401\n",
      "Reversible prime square: 102232341222001\n",
      "Reversible prime square: 104042060410201\n",
      "Reversible prime square: 121002486012769\n",
      "Reversible prime square: 121264386264121\n",
      "Reversible prime square: 121462683462121\n",
      "Reversible prime square: 123212686214641\n",
      "Reversible prime square: 146412686212321\n",
      "Reversible prime square: 146458428204001\n",
      "Reversible prime square: 146894424240001\n",
      "Reversible prime square: 967210684200121\n",
      "Reversible prime square: 967216282210201\n",
      "Total sum of reversible prime squares: 3807504276997394\n"
     ]
    }
   ],
   "source": [
    "list_of_prime_squares = [p ** 2 for p in list_of_primes]\n",
    "count_of_reversible_prime_squares, sum_of_reversible_prime_squares = 0, 0\n",
    "for p_2 in list_of_prime_squares:\n",
    "    # Skip if prime square is a palindrome\n",
    "    if (lambda s: s == s[::-1])(str(p_2)):\n",
    "        continue\n",
    "    sqrt_p_2 = int(str(p_2)[::-1]) ** 0.5\n",
    "    if sqrt_p_2 == int(sqrt_p_2) and fast_miller_rabin(int(sqrt_p_2)):\n",
    "        count_of_reversible_prime_squares += 1\n",
    "        sum_of_reversible_prime_squares += p_2 \n",
    "        print('Reversible prime square:', p_2)\n",
    "    if count_of_reversible_prime_squares == 50:\n",
    "        break \n",
    "\n",
    "print('Total sum of reversible prime squares:', sum_of_reversible_prime_squares)"
   ],
   "metadata": {
    "collapsed": false,
    "ExecuteTime": {
     "end_time": "2023-09-24T21:14:20.338134700Z",
     "start_time": "2023-09-24T21:14:18.170274700Z"
    }
   },
   "id": "515b44f2769dec28"
  }
 ],
 "metadata": {
  "kernelspec": {
   "display_name": "Python 3",
   "language": "python",
   "name": "python3"
  },
  "language_info": {
   "codemirror_mode": {
    "name": "ipython",
    "version": 2
   },
   "file_extension": ".py",
   "mimetype": "text/x-python",
   "name": "python",
   "nbconvert_exporter": "python",
   "pygments_lexer": "ipython2",
   "version": "2.7.6"
  }
 },
 "nbformat": 4,
 "nbformat_minor": 5
}
