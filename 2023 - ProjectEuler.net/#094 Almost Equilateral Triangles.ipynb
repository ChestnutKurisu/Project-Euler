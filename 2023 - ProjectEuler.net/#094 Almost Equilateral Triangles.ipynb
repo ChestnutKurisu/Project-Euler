{
 "cells": [
  {
   "cell_type": "code",
   "execution_count": 1,
   "outputs": [],
   "source": [
    "import math"
   ],
   "metadata": {
    "collapsed": false,
    "ExecuteTime": {
     "end_time": "2023-10-10T20:21:59.313300500Z",
     "start_time": "2023-10-10T20:21:59.302101Z"
    }
   },
   "id": "58b591359191efc7"
  },
  {
   "cell_type": "code",
   "execution_count": 2,
   "id": "initial_id",
   "metadata": {
    "collapsed": true,
    "ExecuteTime": {
     "end_time": "2023-10-10T20:21:59.622808900Z",
     "start_time": "2023-10-10T20:21:59.616792400Z"
    }
   },
   "outputs": [],
   "source": [
    "N = 10 ** 9"
   ]
  },
  {
   "cell_type": "markdown",
   "source": [
    "### Let $a$ be the length of the two equal sides and so the base side of an almost equilateral triangle $b\\in\\{a-1,a+1\\}$. Area of the triangle then becomes $\\frac{b\\cdot \\sqrt{a^2-\\left(\\frac{b}{2}\\right)^2}}{2}$, which must be an integer. Also note that $a\\geq2$ because $a=1\\Rightarrow b=2$ which cannot constitute a triangle."
   ],
   "metadata": {
    "collapsed": false
   },
   "id": "2a29b64bde858407"
  },
  {
   "cell_type": "code",
   "execution_count": 5,
   "outputs": [],
   "source": [
    "# Use the Babylonian algorithm instead of math.sqrt(n).is_integer() to determine if n is a perfect square due to higher accuracy for large n\n",
    "def is_square_babylonian(n):\n",
    "    x = n // 2\n",
    "    seen = {x}\n",
    "    while x * x != n:\n",
    "        x = (x + (n // x)) // 2\n",
    "        if x in seen: \n",
    "            return False\n",
    "        seen.add(x)\n",
    "    return True"
   ],
   "metadata": {
    "collapsed": false,
    "ExecuteTime": {
     "end_time": "2023-10-10T22:12:10.349023900Z",
     "start_time": "2023-10-10T22:12:10.340477100Z"
    }
   },
   "id": "983c6678b12797df"
  },
  {
   "cell_type": "code",
   "execution_count": 4,
   "outputs": [
    {
     "name": "stdout",
     "output_type": "stream",
     "text": [
      "Progress: 100 %\r"
     ]
    },
    {
     "data": {
      "text/plain": "518408346"
     },
     "execution_count": 4,
     "metadata": {},
     "output_type": "execute_result"
    }
   ],
   "source": [
    "M = (N + 1) // 3\n",
    "perimeter_sum = 0\n",
    "for a in range(2, M + 1):\n",
    "    for b in {a - 1, a + 1}:\n",
    "        perimeter = 2 * a + b\n",
    "        if perimeter > N:\n",
    "            continue\n",
    "        k = 4 * a ** 2 - b ** 2\n",
    "        if not is_square_babylonian(k):\n",
    "            continue\n",
    "        if (b * int(math.sqrt(k))) % 4 != 0:\n",
    "            continue\n",
    "        # At this point, h should be an integer, and either b or h should be divisible by 2; thus, area = (b * h) / 2 should also be an integer\n",
    "        perimeter_sum += perimeter\n",
    "            \n",
    "    # Display progress of function execution for large values of N\n",
    "    if a % (M // 100) == 0:\n",
    "        print('Progress:', a // (M // 100), '%', end='\\r', flush=True)\n",
    "\n",
    "perimeter_sum"
   ],
   "metadata": {
    "collapsed": false,
    "ExecuteTime": {
     "end_time": "2023-10-10T22:08:32.928537200Z",
     "start_time": "2023-10-10T20:23:16.077711700Z"
    }
   },
   "id": "55a9f9024a850d81"
  }
 ],
 "metadata": {
  "kernelspec": {
   "display_name": "Python 3",
   "language": "python",
   "name": "python3"
  },
  "language_info": {
   "codemirror_mode": {
    "name": "ipython",
    "version": 2
   },
   "file_extension": ".py",
   "mimetype": "text/x-python",
   "name": "python",
   "nbconvert_exporter": "python",
   "pygments_lexer": "ipython2",
   "version": "2.7.6"
  }
 },
 "nbformat": 4,
 "nbformat_minor": 5
}
