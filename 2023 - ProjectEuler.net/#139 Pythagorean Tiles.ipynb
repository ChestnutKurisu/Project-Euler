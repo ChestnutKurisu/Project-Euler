{
 "cells": [
  {
   "cell_type": "code",
   "execution_count": 9,
   "outputs": [],
   "source": [
    "import math"
   ],
   "metadata": {
    "collapsed": false,
    "ExecuteTime": {
     "end_time": "2023-10-06T16:07:33.138326300Z",
     "start_time": "2023-10-06T16:07:33.123280700Z"
    }
   },
   "id": "c812d8c117bc18d0"
  },
  {
   "cell_type": "code",
   "execution_count": 10,
   "outputs": [
    {
     "data": {
      "text/plain": "10057761"
     },
     "execution_count": 10,
     "metadata": {},
     "output_type": "execute_result"
    }
   ],
   "source": [
    "# Using General Representation (ii) of Pythagorean triples from http://f2.org/maths/ppt.html\n",
    "N = 10 ** 8\n",
    "L_max = 10 ** 8  # 100 million\n",
    "pythagorean_triples_with_tiling = []\n",
    "for m in range(1, int((N // 2) ** 0.5)):\n",
    "    for n in range(1, m):\n",
    "        if math.gcd(m, n) != 1 or (m + n) % 2 == 0:\n",
    "            continue\n",
    "        triple = sorted((m * m - n * n, 2 * m * n, m * m + n * n))\n",
    "        L = sum(triple)\n",
    "        if triple[2] % (triple[1] - triple[0]) == 0:\n",
    "            pythagorean_triples_with_tiling.extend([(k * triple[0], k * triple[1], k * triple[2]) for k in range(1, L_max // L + 1)])\n",
    "len(pythagorean_triples_with_tiling)"
   ],
   "metadata": {
    "collapsed": false,
    "ExecuteTime": {
     "end_time": "2023-10-06T16:07:44.952105600Z",
     "start_time": "2023-10-06T16:07:34.487345900Z"
    }
   },
   "id": "354d335e7395c240"
  }
 ],
 "metadata": {
  "kernelspec": {
   "display_name": "Python 3",
   "language": "python",
   "name": "python3"
  },
  "language_info": {
   "codemirror_mode": {
    "name": "ipython",
    "version": 2
   },
   "file_extension": ".py",
   "mimetype": "text/x-python",
   "name": "python",
   "nbconvert_exporter": "python",
   "pygments_lexer": "ipython2",
   "version": "2.7.6"
  }
 },
 "nbformat": 4,
 "nbformat_minor": 5
}
