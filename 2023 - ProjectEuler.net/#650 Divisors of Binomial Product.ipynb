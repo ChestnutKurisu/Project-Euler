{
 "cells": [
  {
   "cell_type": "code",
   "execution_count": 137,
   "outputs": [],
   "source": [
    "import collections\n",
    "import math\n",
    "import random"
   ],
   "metadata": {
    "collapsed": false,
    "ExecuteTime": {
     "end_time": "2023-10-01T01:04:12.734648300Z",
     "start_time": "2023-10-01T01:04:12.725958500Z"
    }
   },
   "id": "fc3e46d40ec53956"
  },
  {
   "cell_type": "markdown",
   "source": [
    "### Get a sieve of all numbers $n$ to indicate whether they are prime, with $0 \\leq n \\leq 10^7$"
   ],
   "metadata": {
    "collapsed": false
   },
   "id": "43830d1923d3272e"
  },
  {
   "cell_type": "code",
   "execution_count": 138,
   "outputs": [],
   "source": [
    "def get_primes_eratosthenes_sieve(n):\n",
    "    is_prime = [1] * (n + 1)\n",
    "    p = 2\n",
    "    is_prime[0] = 0\n",
    "    is_prime[1] = 0\n",
    "    while p * p <= n:\n",
    "        if is_prime[p]:\n",
    "            for i in range(p * 2, n + 1, p):\n",
    "                is_prime[i] = 0\n",
    "        p += 1\n",
    "    prime_list = []\n",
    "    for i in range(n + 1):\n",
    "        if is_prime[i]:\n",
    "            prime_list.append(i)\n",
    "    return is_prime\n",
    "\n",
    "is_prime = get_primes_eratosthenes_sieve(10 ** 7)"
   ],
   "metadata": {
    "collapsed": false,
    "ExecuteTime": {
     "end_time": "2023-10-01T01:04:14.353002800Z",
     "start_time": "2023-10-01T01:04:13.445577Z"
    }
   },
   "id": "74f081605841aaea"
  },
  {
   "cell_type": "markdown",
   "source": [
    "### Use Pollard's Rho algorithm for finding prime factorizations for any $n$"
   ],
   "metadata": {
    "collapsed": false
   },
   "id": "c9079644ab13ad97"
  },
  {
   "cell_type": "code",
   "execution_count": 139,
   "outputs": [],
   "source": [
    "# https://github.com/zhangbo2008/python_algorithm2/blob/c53669703b957a079f100c12711f86f5fc2f9389/algorithms/factorization/pollard_rho.py\n",
    "def pollard_rho_prime_factorization(x):\n",
    "    def f(x):\n",
    "        return x * x + 1\n",
    "\n",
    "    def rho(n, x1=2, x2=2):\n",
    "        if n % 2 == 0:\n",
    "            return 2\n",
    "        i = 0\n",
    "        while True:\n",
    "            x1 = f(x1) % n\n",
    "            x2 = f(f(x2)) % n\n",
    "            divisor = math.gcd(abs(x1 - x2), n)\n",
    "            i += 1\n",
    "            if divisor != 1:\n",
    "                break\n",
    "            if i > 500:\n",
    "                x1 = random.randint(1, 10)\n",
    "                x2 = random.randint(1, 10)\n",
    "                i = 0\n",
    "        return divisor\n",
    "\n",
    "    def pollard_rho_rec(x, factors):\n",
    "        if x == 1:\n",
    "            return\n",
    "\n",
    "        if is_prime[x]:\n",
    "            factors.append(x)\n",
    "            return\n",
    "\n",
    "        divisor = rho(x, random.randint(1, 10), random.randint(1, 10))\n",
    "        pollard_rho_rec(divisor, factors)\n",
    "        pollard_rho_rec(x // divisor, factors)\n",
    "\n",
    "    if x == 1 or x == 0:\n",
    "        return {x: 1}\n",
    "    factors = []\n",
    "    pollard_rho_rec(x, factors)\n",
    "    return collections.Counter(factors)"
   ],
   "metadata": {
    "collapsed": false,
    "ExecuteTime": {
     "end_time": "2023-10-01T01:04:14.365465200Z",
     "start_time": "2023-10-01T01:04:14.363399700Z"
    }
   },
   "id": "90620ae24d86ffb"
  },
  {
   "cell_type": "markdown",
   "source": [
    "### Find multiplicative inverse $x$ satisfying $xa \\equiv 1\\,(\\text{mod b})$ and $\\text{gcd}(a, b) = 1$"
   ],
   "metadata": {
    "collapsed": false
   },
   "id": "840bebc2bf7a8f70"
  },
  {
   "cell_type": "code",
   "execution_count": 140,
   "outputs": [],
   "source": [
    "def mul_inv(a, b):\n",
    "    if b == 1:\n",
    "        return 1\n",
    "    b_0 = b\n",
    "    x_0, x_1 = 0, 1\n",
    "    while a > 1:\n",
    "        x_0, x_1 = x_1 - (a // b) * x_0, x_0\n",
    "        a, b = b, a % b\n",
    "    if x_1 < 0:\n",
    "        x_1 += b_0\n",
    "    return x_1"
   ],
   "metadata": {
    "collapsed": false,
    "ExecuteTime": {
     "end_time": "2023-10-01T01:04:15.445907600Z",
     "start_time": "2023-10-01T01:04:15.442320600Z"
    }
   },
   "id": "a26568ce90382022"
  },
  {
   "cell_type": "markdown",
   "source": [
    "### Store prime factorizations for each $n$, with $1\\leq n\\leq N$ for rapid access "
   ],
   "metadata": {
    "collapsed": false
   },
   "id": "d292044677e97a75"
  },
  {
   "cell_type": "code",
   "execution_count": 141,
   "outputs": [],
   "source": [
    "N, M = 20000, 10 ** 9 + 7\n",
    "prime_factorization = {n: pollard_rho_prime_factorization(n) for n in range(1, N + 1)}"
   ],
   "metadata": {
    "collapsed": false,
    "ExecuteTime": {
     "end_time": "2023-10-01T01:04:17.625274100Z",
     "start_time": "2023-10-01T01:04:17.285502200Z"
    }
   },
   "id": "11f06bef3945f1a5"
  },
  {
   "cell_type": "markdown",
   "source": [
    "### Compute prime factorization of $B(n)=\\prod_{k=0}^n {n \\choose k}$ by iteratively computing the prime factorizations of ${n\\choose r} = \\frac{n-r+1}{r}{n\\choose r-1}$ and combining them multiplicatively"
   ],
   "metadata": {
    "collapsed": false
   },
   "id": "74c39a884c279c73"
  },
  {
   "cell_type": "code",
   "execution_count": 142,
   "outputs": [],
   "source": [
    "def B_prime_factorization(n):\n",
    "    B_pf, binomial_pf = dict(), dict()\n",
    "    for r in range(1, n // 2 + 1):\n",
    "        # (n, r + 1) = (n, r) * (n - r) / (r + 1)\n",
    "        multiply_pf, divide_pf = prime_factorization[n - r + 1], prime_factorization[r]\n",
    "        for p in set(list(multiply_pf.keys()) + list(divide_pf.keys()) + list(binomial_pf.keys())):\n",
    "            if p == 1:\n",
    "                continue\n",
    "            if p not in B_pf:\n",
    "                B_pf[p] = 0\n",
    "            if p not in binomial_pf:\n",
    "                binomial_pf[p] = 0\n",
    "        \n",
    "            binomial_pf[p] += (multiply_pf[p] if p in multiply_pf else 0) - (divide_pf[p] if p in divide_pf else 0)\n",
    "            B_pf[p] += (1 if r == n / 2 else 2) * binomial_pf[p]  # r == n / 2 only possible if n % 2 == 0\n",
    "    \n",
    "    return B_pf"
   ],
   "metadata": {
    "collapsed": false,
    "ExecuteTime": {
     "end_time": "2023-10-01T01:04:20.421590800Z",
     "start_time": "2023-10-01T01:04:20.414777300Z"
    }
   },
   "id": "424bec6ca86897dd"
  },
  {
   "cell_type": "markdown",
   "source": [
    "### Use modular arithmetic to compute $D(k)=\\sum_{d\\mid B(n)}d=\\prod_{k=0}^{K}\\frac{p_k^{\\alpha_k+1} - 1}{p_k-1}$, where $B(n)=\\prod_{k=0}^K p_k^{\\alpha_k}$ is the prime factorization of $B(n)$"
   ],
   "metadata": {
    "collapsed": false
   },
   "id": "6c6cc81003fe8d46"
  },
  {
   "cell_type": "code",
   "execution_count": 134,
   "outputs": [],
   "source": [
    "multiplicative_inverses_p_1 = {p: mul_inv(p - 1, M) for p in [n for n in range(len(is_prime)) if is_prime[n] == 1]}\n",
    "\n",
    "def D(n):\n",
    "    B_pf, sum_of_divisors = B_prime_factorization(n), 1\n",
    "    for p in B_pf:\n",
    "        sum_of_divisors = (sum_of_divisors * (pow(p, B_pf[p] + 1, M) - 1) * multiplicative_inverses_p_1[p]) % M\n",
    "        \n",
    "    return sum_of_divisors\n",
    "\n",
    "def S(n, M):\n",
    "    summation_sum_of_divisors = 1  # Since S(1) = D(1) = 1 as B(1) = 1 * 1 = 1\n",
    "    for k in range(2, n + 1):\n",
    "        summation_sum_of_divisors += D(k) % M\n",
    "        \n",
    "        # Display progress of function execution for large values of N\n",
    "        if k % 200 == 0:\n",
    "            print('Progress:', k // 200, '%', end='\\r', flush=True)\n",
    "        \n",
    "    return summation_sum_of_divisors % M"
   ],
   "metadata": {
    "collapsed": false,
    "ExecuteTime": {
     "end_time": "2023-09-30T09:10:03.077886200Z",
     "start_time": "2023-09-30T09:10:02.151059400Z"
    }
   },
   "id": "331d80c6c0b04d60"
  },
  {
   "cell_type": "code",
   "execution_count": 136,
   "outputs": [
    {
     "name": "stdout",
     "output_type": "stream",
     "text": [
      "Progress: 100 %\r"
     ]
    },
    {
     "data": {
      "text/plain": "538319652"
     },
     "execution_count": 136,
     "metadata": {},
     "output_type": "execute_result"
    }
   ],
   "source": [
    "S(N, M)"
   ],
   "metadata": {
    "collapsed": false,
    "ExecuteTime": {
     "end_time": "2023-09-30T18:02:49.945289Z",
     "start_time": "2023-09-30T09:10:19.232042900Z"
    }
   },
   "id": "69105448c58c5aec"
  }
 ],
 "metadata": {
  "kernelspec": {
   "display_name": "Python 3",
   "language": "python",
   "name": "python3"
  },
  "language_info": {
   "codemirror_mode": {
    "name": "ipython",
    "version": 2
   },
   "file_extension": ".py",
   "mimetype": "text/x-python",
   "name": "python",
   "nbconvert_exporter": "python",
   "pygments_lexer": "ipython2",
   "version": "2.7.6"
  }
 },
 "nbformat": 4,
 "nbformat_minor": 5
}
