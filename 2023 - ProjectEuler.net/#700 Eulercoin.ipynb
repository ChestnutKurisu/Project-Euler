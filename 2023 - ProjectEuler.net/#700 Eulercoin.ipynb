{
 "cells": [
  {
   "cell_type": "markdown",
   "source": [
    "#### We follow a two-pronged approach, in finding the larger Eulercoins ($> 10^8$) by iterating through the values of $n$, and then find the smaller Eulercoins by deducing the $n$ for which a value ($\\leq 10^8$) in the $\\{1504170715041707n\\,(\\text{mod }4503599627370517)\\}$ sequence appears and checking if that $n$ makes it an Eulercoin by definition. "
   ],
   "metadata": {
    "collapsed": false
   },
   "id": "be5cd2636dec90e4"
  },
  {
   "cell_type": "code",
   "execution_count": 8,
   "outputs": [],
   "source": [
    "switch_approach_limit = 10 ** 8"
   ],
   "metadata": {
    "collapsed": false,
    "ExecuteTime": {
     "end_time": "2023-09-25T05:58:51.444783900Z",
     "start_time": "2023-09-25T05:58:51.438457700Z"
    }
   },
   "id": "75ad25ad43449687"
  },
  {
   "cell_type": "code",
   "execution_count": 9,
   "id": "initial_id",
   "metadata": {
    "collapsed": true,
    "ExecuteTime": {
     "end_time": "2023-09-25T05:59:08.477380Z",
     "start_time": "2023-09-25T05:58:51.717567300Z"
    }
   },
   "outputs": [
    {
     "name": "stdout",
     "output_type": "stream",
     "text": [
      "New Eulercoin at #3: 8912517754604 \n",
      "Cumulative Eulercoin sum: 1513083232796311\n",
      "New Eulercoin at #506: 2044785486369 \n",
      "Cumulative Eulercoin sum: 1515128018282680\n",
      "New Eulercoin at #2527: 1311409677241 \n",
      "Cumulative Eulercoin sum: 1516439427959921\n",
      "New Eulercoin at #4548: 578033868113 \n",
      "Cumulative Eulercoin sum: 1517017461828034\n",
      "New Eulercoin at #11117: 422691927098 \n",
      "Cumulative Eulercoin sum: 1517440153755132\n",
      "New Eulercoin at #17686: 267349986083 \n",
      "Cumulative Eulercoin sum: 1517707503741215\n",
      "New Eulercoin at #24255: 112008045068 \n",
      "Cumulative Eulercoin sum: 1517819511786283\n",
      "New Eulercoin at #55079: 68674149121 \n",
      "Cumulative Eulercoin sum: 1517888185935404\n",
      "New Eulercoin at #85903: 25340253174 \n",
      "Cumulative Eulercoin sum: 1517913526188578\n",
      "New Eulercoin at #202630: 7346610401 \n",
      "Cumulative Eulercoin sum: 1517920872798979\n",
      "New Eulercoin at #724617: 4046188430 \n",
      "Cumulative Eulercoin sum: 1517924918987409\n",
      "New Eulercoin at #1246604: 745766459 \n",
      "Cumulative Eulercoin sum: 1517925664753868\n",
      "New Eulercoin at #6755007: 428410324 \n",
      "Cumulative Eulercoin sum: 1517926093164192\n",
      "New Eulercoin at #12263410: 111054189 \n",
      "Cumulative Eulercoin sum: 1517926204218381\n",
      "New Eulercoin at #42298633: 15806432 \n",
      "Cumulative Eulercoin sum: 1517926220024813\n"
     ]
    }
   ],
   "source": [
    "E, P = 1504170715041707, 4503599627370517\n",
    "euler_coins = [E]\n",
    "for n in range(2, switch_approach_limit):\n",
    "    term = (E * n) % P\n",
    "    if term < euler_coins[-1]:\n",
    "        euler_coins.append(term)\n",
    "        print(f'New Eulercoin at #{n}:', term, '\\nCumulative Eulercoin sum:', sum(euler_coins))"
   ]
  },
  {
   "cell_type": "markdown",
   "source": [
    "#### Find inverse of $1504170715041707$ in $\\mathbb{Z}_{4503599627370517}$, which we know exists because $4503599627370517$ is prime and so $\\text{gcd}(1504170715041707, 4503599627370517) = 1$"
   ],
   "metadata": {
    "collapsed": false
   },
   "id": "edf0fda93cc50e10"
  },
  {
   "cell_type": "code",
   "execution_count": 10,
   "outputs": [
    {
     "data": {
      "text/plain": "3451657199285664"
     },
     "execution_count": 10,
     "metadata": {},
     "output_type": "execute_result"
    }
   ],
   "source": [
    "def mul_inv(a, b):\n",
    "    if b == 1:\n",
    "        return 1\n",
    "    b_0 = b\n",
    "    x_0, x_1 = 0, 1\n",
    "    while a > 1:\n",
    "        x_0, x_1 = x_1 - (a // b) * x_0, x_0\n",
    "        a, b = b, a % b\n",
    "    if x_1 < 0:\n",
    "        x_1 += b_0\n",
    "    return x_1\n",
    "\n",
    "inverse = mul_inv(E, P)\n",
    "inverse"
   ],
   "metadata": {
    "collapsed": false,
    "ExecuteTime": {
     "end_time": "2023-09-25T05:59:08.487118Z",
     "start_time": "2023-09-25T05:59:08.477380Z"
    }
   },
   "id": "a7ed491175407eb5"
  },
  {
   "cell_type": "code",
   "execution_count": 11,
   "outputs": [
    {
     "name": "stdout",
     "output_type": "stream",
     "text": [
      "New Eulercoin at #326125654: 15397267 \n",
      "Cumulative Eulercoin sum: 1517926235422080\n",
      "New Eulercoin at #609952675: 14988102 \n",
      "Cumulative Eulercoin sum: 1517926250410182\n",
      "New Eulercoin at #893779696: 14578937 \n",
      "Cumulative Eulercoin sum: 1517926264989119\n",
      "New Eulercoin at #1177606717: 14169772 \n",
      "Cumulative Eulercoin sum: 1517926279158891\n",
      "New Eulercoin at #1461433738: 13760607 \n",
      "Cumulative Eulercoin sum: 1517926292919498\n",
      "New Eulercoin at #1745260759: 13351442 \n",
      "Cumulative Eulercoin sum: 1517926306270940\n",
      "New Eulercoin at #2029087780: 12942277 \n",
      "Cumulative Eulercoin sum: 1517926319213217\n",
      "New Eulercoin at #2312914801: 12533112 \n",
      "Cumulative Eulercoin sum: 1517926331746329\n",
      "New Eulercoin at #2596741822: 12123947 \n",
      "Cumulative Eulercoin sum: 1517926343870276\n",
      "New Eulercoin at #2880568843: 11714782 \n",
      "Cumulative Eulercoin sum: 1517926355585058\n",
      "New Eulercoin at #3164395864: 11305617 \n",
      "Cumulative Eulercoin sum: 1517926366890675\n",
      "New Eulercoin at #3448222885: 10896452 \n",
      "Cumulative Eulercoin sum: 1517926377787127\n",
      "New Eulercoin at #3732049906: 10487287 \n",
      "Cumulative Eulercoin sum: 1517926388274414\n",
      "New Eulercoin at #4015876927: 10078122 \n",
      "Cumulative Eulercoin sum: 1517926398352536\n",
      "New Eulercoin at #4299703948: 9668957 \n",
      "Cumulative Eulercoin sum: 1517926408021493\n",
      "New Eulercoin at #4583530969: 9259792 \n",
      "Cumulative Eulercoin sum: 1517926417281285\n",
      "New Eulercoin at #4867357990: 8850627 \n",
      "Cumulative Eulercoin sum: 1517926426131912\n",
      "New Eulercoin at #5151185011: 8441462 \n",
      "Cumulative Eulercoin sum: 1517926434573374\n",
      "New Eulercoin at #5435012032: 8032297 \n",
      "Cumulative Eulercoin sum: 1517926442605671\n",
      "New Eulercoin at #5718839053: 7623132 \n",
      "Cumulative Eulercoin sum: 1517926450228803\n",
      "New Eulercoin at #6002666074: 7213967 \n",
      "Cumulative Eulercoin sum: 1517926457442770\n",
      "New Eulercoin at #6286493095: 6804802 \n",
      "Cumulative Eulercoin sum: 1517926464247572\n",
      "New Eulercoin at #6570320116: 6395637 \n",
      "Cumulative Eulercoin sum: 1517926470643209\n",
      "New Eulercoin at #6854147137: 5986472 \n",
      "Cumulative Eulercoin sum: 1517926476629681\n",
      "New Eulercoin at #7137974158: 5577307 \n",
      "Cumulative Eulercoin sum: 1517926482206988\n",
      "New Eulercoin at #7421801179: 5168142 \n",
      "Cumulative Eulercoin sum: 1517926487375130\n",
      "New Eulercoin at #7705628200: 4758977 \n",
      "Cumulative Eulercoin sum: 1517926492134107\n",
      "New Eulercoin at #7989455221: 4349812 \n",
      "Cumulative Eulercoin sum: 1517926496483919\n",
      "New Eulercoin at #8273282242: 3940647 \n",
      "Cumulative Eulercoin sum: 1517926500424566\n",
      "New Eulercoin at #8557109263: 3531482 \n",
      "Cumulative Eulercoin sum: 1517926503956048\n",
      "New Eulercoin at #8840936284: 3122317 \n",
      "Cumulative Eulercoin sum: 1517926507078365\n",
      "New Eulercoin at #9124763305: 2713152 \n",
      "Cumulative Eulercoin sum: 1517926509791517\n",
      "New Eulercoin at #9408590326: 2303987 \n",
      "Cumulative Eulercoin sum: 1517926512095504\n",
      "New Eulercoin at #9692417347: 1894822 \n",
      "Cumulative Eulercoin sum: 1517926513990326\n",
      "New Eulercoin at #9976244368: 1485657 \n",
      "Cumulative Eulercoin sum: 1517926515475983\n",
      "New Eulercoin at #10260071389: 1076492 \n",
      "Cumulative Eulercoin sum: 1517926516552475\n",
      "New Eulercoin at #10543898410: 667327 \n",
      "Cumulative Eulercoin sum: 1517926517219802\n",
      "New Eulercoin at #10827725431: 258162 \n",
      "Cumulative Eulercoin sum: 1517926517477964\n",
      "New Eulercoin at #21939277883: 107159 \n",
      "Cumulative Eulercoin sum: 1517926517585123\n",
      "New Eulercoin at #54990108218: 63315 \n",
      "Cumulative Eulercoin sum: 1517926517648438\n",
      "New Eulercoin at #88040938553: 19471 \n",
      "Cumulative Eulercoin sum: 1517926517667909\n",
      "New Eulercoin at #297173645994: 14569 \n",
      "Cumulative Eulercoin sum: 1517926517682478\n",
      "New Eulercoin at #506306353435: 9667 \n",
      "Cumulative Eulercoin sum: 1517926517692145\n",
      "New Eulercoin at #715439060876: 4765 \n",
      "Cumulative Eulercoin sum: 1517926517696910\n",
      "New Eulercoin at #1640010829193: 4628 \n",
      "Cumulative Eulercoin sum: 1517926517701538\n",
      "New Eulercoin at #2564582597510: 4491 \n",
      "Cumulative Eulercoin sum: 1517926517706029\n",
      "New Eulercoin at #3489154365827: 4354 \n",
      "Cumulative Eulercoin sum: 1517926517710383\n",
      "New Eulercoin at #4413726134144: 4217 \n",
      "Cumulative Eulercoin sum: 1517926517714600\n",
      "New Eulercoin at #5338297902461: 4080 \n",
      "Cumulative Eulercoin sum: 1517926517718680\n",
      "New Eulercoin at #6262869670778: 3943 \n",
      "Cumulative Eulercoin sum: 1517926517722623\n",
      "New Eulercoin at #7187441439095: 3806 \n",
      "Cumulative Eulercoin sum: 1517926517726429\n",
      "New Eulercoin at #8112013207412: 3669 \n",
      "Cumulative Eulercoin sum: 1517926517730098\n",
      "New Eulercoin at #9036584975729: 3532 \n",
      "Cumulative Eulercoin sum: 1517926517733630\n",
      "New Eulercoin at #9961156744046: 3395 \n",
      "Cumulative Eulercoin sum: 1517926517737025\n",
      "New Eulercoin at #10885728512363: 3258 \n",
      "Cumulative Eulercoin sum: 1517926517740283\n",
      "New Eulercoin at #11810300280680: 3121 \n",
      "Cumulative Eulercoin sum: 1517926517743404\n",
      "New Eulercoin at #12734872048997: 2984 \n",
      "Cumulative Eulercoin sum: 1517926517746388\n",
      "New Eulercoin at #13659443817314: 2847 \n",
      "Cumulative Eulercoin sum: 1517926517749235\n",
      "New Eulercoin at #14584015585631: 2710 \n",
      "Cumulative Eulercoin sum: 1517926517751945\n",
      "New Eulercoin at #15508587353948: 2573 \n",
      "Cumulative Eulercoin sum: 1517926517754518\n",
      "New Eulercoin at #16433159122265: 2436 \n",
      "Cumulative Eulercoin sum: 1517926517756954\n",
      "New Eulercoin at #17357730890582: 2299 \n",
      "Cumulative Eulercoin sum: 1517926517759253\n",
      "New Eulercoin at #18282302658899: 2162 \n",
      "Cumulative Eulercoin sum: 1517926517761415\n",
      "New Eulercoin at #19206874427216: 2025 \n",
      "Cumulative Eulercoin sum: 1517926517763440\n",
      "New Eulercoin at #20131446195533: 1888 \n",
      "Cumulative Eulercoin sum: 1517926517765328\n",
      "New Eulercoin at #21056017963850: 1751 \n",
      "Cumulative Eulercoin sum: 1517926517767079\n",
      "New Eulercoin at #21980589732167: 1614 \n",
      "Cumulative Eulercoin sum: 1517926517768693\n",
      "New Eulercoin at #22905161500484: 1477 \n",
      "Cumulative Eulercoin sum: 1517926517770170\n",
      "New Eulercoin at #23829733268801: 1340 \n",
      "Cumulative Eulercoin sum: 1517926517771510\n",
      "New Eulercoin at #24754305037118: 1203 \n",
      "Cumulative Eulercoin sum: 1517926517772713\n",
      "New Eulercoin at #25678876805435: 1066 \n",
      "Cumulative Eulercoin sum: 1517926517773779\n",
      "New Eulercoin at #26603448573752: 929 \n",
      "Cumulative Eulercoin sum: 1517926517774708\n",
      "New Eulercoin at #27528020342069: 792 \n",
      "Cumulative Eulercoin sum: 1517926517775500\n",
      "New Eulercoin at #28452592110386: 655 \n",
      "Cumulative Eulercoin sum: 1517926517776155\n",
      "New Eulercoin at #29377163878703: 518 \n",
      "Cumulative Eulercoin sum: 1517926517776673\n",
      "New Eulercoin at #30301735647020: 381 \n",
      "Cumulative Eulercoin sum: 1517926517777054\n",
      "New Eulercoin at #31226307415337: 244 \n",
      "Cumulative Eulercoin sum: 1517926517777298\n",
      "New Eulercoin at #32150879183654: 107 \n",
      "Cumulative Eulercoin sum: 1517926517777405\n",
      "New Eulercoin at #65226330135625: 77 \n",
      "Cumulative Eulercoin sum: 1517926517777482\n",
      "New Eulercoin at #98301781087596: 47 \n",
      "Cumulative Eulercoin sum: 1517926517777529\n",
      "New Eulercoin at #131377232039567: 17 \n",
      "Cumulative Eulercoin sum: 1517926517777546\n",
      "New Eulercoin at #295829915031105: 4 \n",
      "Cumulative Eulercoin sum: 1517926517777550\n",
      "New Eulercoin at #1347772343115958: 3 \n",
      "Cumulative Eulercoin sum: 1517926517777553\n",
      "New Eulercoin at #2399714771200811: 2 \n",
      "Cumulative Eulercoin sum: 1517926517777555\n",
      "New Eulercoin at #3451657199285664: 1 \n",
      "Cumulative Eulercoin sum: 1517926517777556\n"
     ]
    }
   ],
   "source": [
    "# Find possible Eulercoin values, smaller than the last Eulercoin found with the first approach, and sort them in ascending order of occurrence in the sequence (i.e., by n) \n",
    "possible_small_eulercoins = sorted([(i, (inverse * i) % P) for i in range(1, euler_coins[-1])], key=lambda x: x[1])\n",
    "for ec, n in possible_small_eulercoins:\n",
    "    if ec < euler_coins[-1]:\n",
    "        euler_coins.append(ec)\n",
    "        print(f'New Eulercoin at #{n}:', ec, '\\nCumulative Eulercoin sum:', sum(euler_coins))"
   ],
   "metadata": {
    "collapsed": false,
    "ExecuteTime": {
     "end_time": "2023-09-25T05:59:33.402724700Z",
     "start_time": "2023-09-25T05:59:08.486063700Z"
    }
   },
   "id": "269f1c9fe838ebf2"
  },
  {
   "cell_type": "markdown",
   "source": [
    "### Display the sum of all Eulercoins"
   ],
   "metadata": {
    "collapsed": false
   },
   "id": "d246e7ecc87d1f21"
  },
  {
   "cell_type": "code",
   "execution_count": 12,
   "outputs": [
    {
     "name": "stdout",
     "output_type": "stream",
     "text": [
      "[1504170715041707, 8912517754604, 2044785486369, 1311409677241, 578033868113, 422691927098, 267349986083, 112008045068, 68674149121, 25340253174, 7346610401, 4046188430, 745766459, 428410324, 111054189, 15806432, 15397267, 14988102, 14578937, 14169772, 13760607, 13351442, 12942277, 12533112, 12123947, 11714782, 11305617, 10896452, 10487287, 10078122, 9668957, 9259792, 8850627, 8441462, 8032297, 7623132, 7213967, 6804802, 6395637, 5986472, 5577307, 5168142, 4758977, 4349812, 3940647, 3531482, 3122317, 2713152, 2303987, 1894822, 1485657, 1076492, 667327, 258162, 107159, 63315, 19471, 14569, 9667, 4765, 4628, 4491, 4354, 4217, 4080, 3943, 3806, 3669, 3532, 3395, 3258, 3121, 2984, 2847, 2710, 2573, 2436, 2299, 2162, 2025, 1888, 1751, 1614, 1477, 1340, 1203, 1066, 929, 792, 655, 518, 381, 244, 107, 77, 47, 17, 4, 3, 2, 1]\n"
     ]
    }
   ],
   "source": [
    "print(euler_coins)"
   ],
   "metadata": {
    "collapsed": false,
    "ExecuteTime": {
     "end_time": "2023-09-25T05:59:33.408273300Z",
     "start_time": "2023-09-25T05:59:33.403756800Z"
    }
   },
   "id": "c1a3241010afdb58"
  },
  {
   "cell_type": "code",
   "execution_count": 13,
   "outputs": [
    {
     "data": {
      "text/plain": "1517926517777556"
     },
     "execution_count": 13,
     "metadata": {},
     "output_type": "execute_result"
    }
   ],
   "source": [
    "sum(euler_coins)"
   ],
   "metadata": {
    "collapsed": false,
    "ExecuteTime": {
     "end_time": "2023-09-25T05:59:33.422231400Z",
     "start_time": "2023-09-25T05:59:33.406769400Z"
    }
   },
   "id": "7c42ead2a7b3886f"
  }
 ],
 "metadata": {
  "kernelspec": {
   "display_name": "Python 3",
   "language": "python",
   "name": "python3"
  },
  "language_info": {
   "codemirror_mode": {
    "name": "ipython",
    "version": 2
   },
   "file_extension": ".py",
   "mimetype": "text/x-python",
   "name": "python",
   "nbconvert_exporter": "python",
   "pygments_lexer": "ipython2",
   "version": "2.7.6"
  }
 },
 "nbformat": 4,
 "nbformat_minor": 5
}
