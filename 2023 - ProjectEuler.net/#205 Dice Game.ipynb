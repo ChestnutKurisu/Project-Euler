{
 "cells": [
  {
   "cell_type": "code",
   "execution_count": 16,
   "outputs": [],
   "source": [
    "import collections\n",
    "import itertools"
   ],
   "metadata": {
    "collapsed": false,
    "ExecuteTime": {
     "end_time": "2023-09-25T18:12:33.068207900Z",
     "start_time": "2023-09-25T18:12:33.064687700Z"
    }
   },
   "id": "f1513165e1ad28f5"
  },
  {
   "cell_type": "code",
   "execution_count": 17,
   "id": "initial_id",
   "metadata": {
    "collapsed": true,
    "ExecuteTime": {
     "end_time": "2023-09-25T18:12:33.448785700Z",
     "start_time": "2023-09-25T18:12:33.403121300Z"
    }
   },
   "outputs": [],
   "source": [
    "pyramidal_sums = collections.Counter([sum(roll) for roll in itertools.product(range(1, 4 + 1), repeat=9)])\n",
    "cubic_sums = collections.Counter([sum(roll) for roll in itertools.product(range(1, 6 + 1), repeat=6)])"
   ]
  },
  {
   "cell_type": "code",
   "execution_count": 22,
   "outputs": [
    {
     "data": {
      "text/plain": "0.5731441"
     },
     "execution_count": 22,
     "metadata": {},
     "output_type": "execute_result"
    }
   ],
   "source": [
    "pyramidal_wins = 0\n",
    "for ps in pyramidal_sums:\n",
    "    pyramidal_wins += pyramidal_sums[ps] * sum(cubic_sums[cs] for cs in cubic_sums if cs < ps)\n",
    "    \n",
    "round(pyramidal_wins / (4 ** 9 * 6 ** 6), 7)"
   ],
   "metadata": {
    "collapsed": false,
    "ExecuteTime": {
     "end_time": "2023-09-25T18:12:48.548051500Z",
     "start_time": "2023-09-25T18:12:48.534089700Z"
    }
   },
   "id": "732b5b1fd46a2210"
  }
 ],
 "metadata": {
  "kernelspec": {
   "display_name": "Python 3",
   "language": "python",
   "name": "python3"
  },
  "language_info": {
   "codemirror_mode": {
    "name": "ipython",
    "version": 2
   },
   "file_extension": ".py",
   "mimetype": "text/x-python",
   "name": "python",
   "nbconvert_exporter": "python",
   "pygments_lexer": "ipython2",
   "version": "2.7.6"
  }
 },
 "nbformat": 4,
 "nbformat_minor": 5
}
